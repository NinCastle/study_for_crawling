{
 "cells": [
  {
   "cell_type": "markdown",
   "metadata": {},
   "source": [
    "[N-Gram을 이용한 텍스트 마이닝](http://www.hakawati.co.kr/251)  \n",
    "[언어모델링](http://blog.ilkyu.kr/entry/%EC%96%B8%EC%96%B4-%EB%AA%A8%EB%8D%B8%EB%A7%81-ngram)  \n",
    "[문서 특징 추출에 사용되는 N-Gram 및 TF-IDF에 대하여](https://limseee.blogspot.com/2016/06/n-gram-tf-idf.html)  \n",
    "아래의 내용은 상기 링크를 정리한것."
   ]
  },
  {
   "cell_type": "markdown",
   "metadata": {},
   "source": [
    "# N-Gram"
   ]
  }
 ],
 "metadata": {
  "kernelspec": {
   "display_name": "text3.5",
   "language": "python",
   "name": "text3.5"
  },
  "language_info": {
   "codemirror_mode": {
    "name": "ipython",
    "version": 3
   },
   "file_extension": ".py",
   "mimetype": "text/x-python",
   "name": "python",
   "nbconvert_exporter": "python",
   "pygments_lexer": "ipython3",
   "version": "3.5.5"
  }
 },
 "nbformat": 4,
 "nbformat_minor": 2
}

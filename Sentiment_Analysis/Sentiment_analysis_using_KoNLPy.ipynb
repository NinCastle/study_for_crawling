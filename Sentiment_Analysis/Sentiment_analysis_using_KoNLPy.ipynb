{
 "cells": [
  {
   "cell_type": "markdown",
   "metadata": {},
   "source": [
    "[한국어와 NLTK, Gensim의 만남 by Lucy Park](https://www.lucypark.kr/docs/2015-pyconkr/#1)  \n",
    "[A Neural Probabilistic Language Model](http://papers.nips.cc/paper/1839-a-neural-probabilistic-language-model.pdf)  \n",
    "[Yoshua Bengio's A Neural Probabilistic Language Model in 500 words](https://medium.com/@satyavasanth_57235/yoshua-bengios-a-neural-probabilistic-language-model-in-500-words-665b6e64ade6)  \n",
    "[word2vec](https://code.google.com/archive/p/word2vec/)  \n",
    "[ratsgo's blog-Word2Vec으로 문장 분류하기](https://ratsgo.github.io/natural%20language%20processing/2017/03/08/word2vec/)  \n",
    "[GloVe:Global vectors for word representation](https://www.slideshare.net/keunbongkwak/gloveglobal-vectors-for-word-representation)  \n",
    "[텐서플로우 문서 한글 번역본 - 단어들의 벡터 표현](https://tensorflowkorea.gitbooks.io/tensorflow-kr/content/g3doc/tutorials/word2vec/)  \n",
    "아래 내용은 상기 링크를 정리한것."
   ]
  },
  {
   "cell_type": "markdown",
   "metadata": {},
   "source": [
    "# 감성분석 (feat. KoNLPy)"
   ]
  },
  {
   "cell_type": "markdown",
   "metadata": {},
   "source": [
    "## Co-occurence\n",
    "<center>Co-occurence</center>\n",
    "<center>두 단어가 정해진 구간 내에서 동시에 등장한다.</center>"
   ]
  },
  {
   "cell_type": "code",
   "execution_count": null,
   "metadata": {},
   "outputs": [],
   "source": [
    "# ex\n",
    "documents = [[\"나는\", \"파이썬\", \"이\", \"좋다\"], [\"나는\", \"R\", \"이\", \"좋다\"]]"
   ]
  },
  {
   "cell_type": "markdown",
   "metadata": {},
   "source": [
    "### Term-document matrix\n",
    "$$\n",
    "X_{td} \\in \\mathbb R^{|V| \\times M}\n",
    "$$\n",
    "**한 문서**에 같이 등장하면 비슷한 단어이다."
   ]
  },
  {
   "cell_type": "code",
   "execution_count": null,
   "metadata": {},
   "outputs": [],
   "source": [
    "x_td = [[1, 1], # 나는\n",
    "        [1, 0], # 파이썬\n",
    "        [0, 1], # R\n",
    "        [1, 1], # 이\n",
    "        [1, 1]] # 좋다"
   ]
  },
  {
   "cell_type": "markdown",
   "metadata": {},
   "source": [
    "즉, 계산 해야될 벡터가 문서(document) 개수의 M개에 비례한다."
   ]
  },
  {
   "cell_type": "markdown",
   "metadata": {},
   "source": [
    "### Term-term matrix\n",
    "$$\n",
    "X_{tt} \\in \\mathbb R^{|V| \\times |V|}\n",
    "$$\n",
    "단어가 **문맥** 내에 같이 존재하면 비슷한 단어  \n",
    "앞뒤로 단어를 두 개씩 보는 경우 (문맥의 길이 == 5):"
   ]
  },
  {
   "cell_type": "code",
   "execution_count": null,
   "metadata": {},
   "outputs": [],
   "source": [
    "x_tt = [[0, 1, 1, 2, 0], # 나는\n",
    "       [1, 0, 0, 1, 1],  # 파이썬\n",
    "       [1, 0, 0, 1, 1],  # R\n",
    "       [2, 1, 1, 0, 2],  # 이\n",
    "       [0, 1, 1, 2, 0]]  # 좋다"
   ]
  },
  {
   "cell_type": "markdown",
   "metadata": {},
   "source": [
    "문맥의 길이가 짧을 수록 syntactic 이고 길 수록 semantic 정보를 포함한다."
   ]
  },
  {
   "cell_type": "markdown",
   "metadata": {},
   "source": [
    "https://www.lucypark.kr/docs/2015-pyconkr/#27"
   ]
  },
  {
   "cell_type": "markdown",
   "metadata": {},
   "source": [
    "## Word2Vec"
   ]
  },
  {
   "cell_type": "markdown",
   "metadata": {},
   "source": [
    "https://ratsgo.github.io/natural%20language%20processing/2017/03/08/word2vec/"
   ]
  },
  {
   "cell_type": "markdown",
   "metadata": {},
   "source": [
    "## Doc2Vec"
   ]
  },
  {
   "cell_type": "code",
   "execution_count": 15,
   "metadata": {},
   "outputs": [
    {
     "name": "stdout",
     "output_type": "stream",
     "text": [
      "{'가', '를', '시녀', '공주', '독살한다', '왕자', '좋아한다', '싫어한다'}\n",
      "<class 'set'>\n"
     ]
    }
   ],
   "source": [
    "documents = [\n",
    "    ['왕자', '가', '공주', '를', '좋아한다'],\n",
    "    ['공주', '가', '왕자', '를', '좋아한다'],\n",
    "    ['시녀', '가', '왕자', '를', '싫어한다'],\n",
    "    ['공주', '가', '시녀', '를', '싫어한다'],\n",
    "    ['시녀', '가', '왕자', '를', '독살한다'],\n",
    "    ['시녀', '가', '공주', '를', '독살한다']\n",
    "]\n",
    "# 단어간의 중복을 제거하고 하나의 집합(set)으로 합친다.\n",
    "words = set(sum(documents, []))\n",
    "print(words)\n",
    "print(type(words))"
   ]
  },
  {
   "cell_type": "markdown",
   "metadata": {},
   "source": [
    "term_frequency 예시:\n",
    "* 문서 벡터의 크기가 단어의 수 $|V|$와 같고 원소들은 양의 정수이다.  \n",
    "  \n",
    "아직 실행되지 않는다."
   ]
  },
  {
   "cell_type": "code",
   "execution_count": null,
   "metadata": {},
   "outputs": [],
   "source": [
    "def term_frequency(document):\n",
    "    return vectors\n",
    "\n",
    "vectors = [term_frequency(doc) for doc in documents]\n",
    "print(vectors)"
   ]
  },
  {
   "cell_type": "markdown",
   "metadata": {},
   "source": [
    "doc2vec 예시:\n",
    "* 문서 벡터의 크기가 단어의 수 $|V|$보다 작고 원소들은 실수이다.  \n",
    "  \n",
    "아직 실행되지 않는다."
   ]
  },
  {
   "cell_type": "code",
   "execution_count": null,
   "metadata": {},
   "outputs": [],
   "source": [
    "def doc2vec(document):\n",
    "    return vector\n",
    "vectors = [doc2vec(doc) for doc in documents]\n",
    "print(vectors)\n",
    "# => {\n",
    "#       'S1': [-0.01599941, 0.02135301, 0.0927715],\n",
    "#       'S2': [0.02333261, 0.00211833, 0.00254255],\n",
    "#       'S3': [-0.00117272, -0.02043504, 0.00593186],\n",
    "#       'S4': [0.0089237, -0.00397806, -0.13199195],\n",
    "#       'S5': [0.02555059, 0.01561624, 0.03603476],\n",
    "#       'S6': [-0.02114407, -0.01552016, 0.01289922]\n",
    "#    }"
   ]
  },
  {
   "cell_type": "markdown",
   "metadata": {},
   "source": [
    "## Data preprocessing"
   ]
  },
  {
   "cell_type": "code",
   "execution_count": 2,
   "metadata": {},
   "outputs": [],
   "source": [
    "def read_data(filename):\n",
    "    with open(filename, 'r', encoding='utf-8') as f:\n",
    "        data = [line.split('\\t') for line in f.read().splitlines()]\n",
    "        data = data[1:] # header 제외 변수\n",
    "    return data\n",
    "\n",
    "def tag_writing_data(filename):\n",
    "    open(filename, 'w', encoding='utf-8')\n",
    "\n",
    "\n",
    "train_data = read_data('ratings_train.txt')\n",
    "test_data = read_data('ratings_test.txt')"
   ]
  },
  {
   "cell_type": "markdown",
   "metadata": {},
   "source": [
    "제대로 읽혔는지 확인"
   ]
  },
  {
   "cell_type": "code",
   "execution_count": 3,
   "metadata": {},
   "outputs": [
    {
     "name": "stdout",
     "output_type": "stream",
     "text": [
      "train\n",
      "150000\n",
      "3\n",
      "test\n",
      "50000\n",
      "3\n"
     ]
    }
   ],
   "source": [
    "print(\"train\")\n",
    "print(len(train_data))\n",
    "print(len(train_data[0]))\n",
    "print(\"test\")\n",
    "print(len(test_data))\n",
    "print(len(test_data[0]))"
   ]
  },
  {
   "cell_type": "markdown",
   "metadata": {},
   "source": [
    "형태소로 토크나이징"
   ]
  },
  {
   "cell_type": "code",
   "execution_count": 4,
   "metadata": {},
   "outputs": [
    {
     "name": "stdout",
     "output_type": "stream",
     "text": [
      "(['아/Exclamation', '더빙/Noun', '../Punctuation', '진짜/Noun', '짜증/Noun', '나다/Verb', '목소리/Noun'], '0')\n"
     ]
    }
   ],
   "source": [
    "from konlpy.tag import Twitter\n",
    "pos_tagger = Twitter()\n",
    "\n",
    "def tokenize(doc):\n",
    "    # norm, stem은 optional\n",
    "    return ['/'.join(t) for t in pos_tagger.pos(doc, norm=True, stem=True)]\n",
    "\"\"\"\n",
    "row[0] : id\n",
    "row[1] : document\n",
    "row[2] : label\n",
    "for row in train_data:\n",
    "    print(\"id : \",row[0])\n",
    "    print(\"document : \", row[1])\n",
    "    print(\"label : \", row[2])\n",
    "\"\"\"\n",
    "\n",
    "train_docs = [(tokenize(row[1]), row[2]) for row in train_data]\n",
    "test_docs = [(tokenize(row[1]), row[2]) for row in test_data]\n",
    "\n",
    "# 확인\n",
    "print(train_docs[0])"
   ]
  },
  {
   "cell_type": "code",
   "execution_count": 5,
   "metadata": {},
   "outputs": [],
   "source": [
    "# # 형태소 토크나이징된 파일 저장, 로드\n",
    "# import pandas as pd\n",
    "# import numpy as np\n",
    "\n",
    "# train_docs.to_csv(\"train_docs.txt\", encoding='utf-8')\n",
    "# test_docs.to_csv(\"test_docs.txt\", encoding='utf-8')\n",
    "\n",
    "# train_read = pd.read_csv(\"train_docs.csv\", encoding='utf-8')\n",
    "# print(train_read[0])"
   ]
  },
  {
   "cell_type": "markdown",
   "metadata": {},
   "source": [
    "* 형태소로 꼭 나눠야 하는 이유\n",
    "    * 데이터가 충분하면 어절 단위의 분석이 가능하지만 데이터가 적으므로 형태소를 나눠야 한다.\n",
    "    * [시인 뉴럴](https://github.com/carpedm20/poet-neural)은 음절 단위의 분석이다.\n",
    "    * 토큰의 단위는 선택의 문제\n",
    "* 품사(POS) 태그를 붙여야 하는 이유\n",
    "    * 선택의 문제이나 여기서는 사용\n",
    "    * 품사를 태깅해두면 동음이의어를 구분할 수 있다는 장점이 있다.\n",
    "        * ex '은/Josa' vs '은/Noun'"
   ]
  },
  {
   "cell_type": "markdown",
   "metadata": {},
   "source": [
    "## Data exploration\n",
    "* 데이터의 코퍼스가 어떤 특징들을 가지고 있는지 확인해본다.\n",
    "* Training data의 token을 모은다.\n",
    "* token ex) \n",
    "    * ['아/Exclamation', '더빙/Noun', '../Punctuation', '진짜/Noun', '짜증/Noun', '나다/Verb', '목소리/Noun']"
   ]
  },
  {
   "cell_type": "code",
   "execution_count": 6,
   "metadata": {},
   "outputs": [
    {
     "name": "stdout",
     "output_type": "stream",
     "text": [
      "2194536\n"
     ]
    }
   ],
   "source": [
    "tokens = [t for d in train_docs for t in d[0]]\n",
    "print(len(tokens))"
   ]
  },
  {
   "cell_type": "markdown",
   "metadata": {},
   "source": [
    "* nltk.Text()를 써본다. (Exploration이 편하다)\n",
    "    * 원래 단일 document를 분석할 때는 훨씬 풍부한 기능들을 사용할 수 있지만, 여기서는 그 중 몇 가지만 살펴본다."
   ]
  },
  {
   "cell_type": "code",
   "execution_count": 7,
   "metadata": {},
   "outputs": [
    {
     "name": "stdout",
     "output_type": "stream",
     "text": [
      "<Text: NMSC>\n"
     ]
    }
   ],
   "source": [
    "import nltk\n",
    "text = nltk.Text(tokens, name = 'NMSC')\n",
    "print(text)"
   ]
  },
  {
   "cell_type": "code",
   "execution_count": 8,
   "metadata": {},
   "outputs": [
    {
     "name": "stdout",
     "output_type": "stream",
     "text": [
      "2194536\n",
      "48765\n",
      "[('./Punctuation', 68630), ('영화/Noun', 51365), ('하다/Verb', 50281), ('이/Josa', 39123), ('보다/Verb', 34764), ('의/Josa', 30480), ('../Punctuation', 29055), ('에/Josa', 27108), ('가/Josa', 26696), ('을/Josa', 23481)]\n"
     ]
    }
   ],
   "source": [
    "print(len(text.tokens)) # tokens의 숫자\n",
    "print(len(set(text.tokens))) # unique tokens의 숫자\n",
    "print(text.vocab().most_common(10)) # 동사 중 Top 10"
   ]
  },
  {
   "cell_type": "markdown",
   "metadata": {},
   "source": [
    "토큰에 대한 그래프"
   ]
  },
  {
   "cell_type": "code",
   "execution_count": 9,
   "metadata": {},
   "outputs": [
    {
     "data": {
      "text/plain": [
       "<Figure size 640x480 with 1 Axes>"
      ]
     },
     "metadata": {},
     "output_type": "display_data"
    }
   ],
   "source": [
    "text.plot(50)"
   ]
  },
  {
   "cell_type": "markdown",
   "metadata": {},
   "source": [
    "한글이 깨진다."
   ]
  },
  {
   "cell_type": "code",
   "execution_count": 10,
   "metadata": {},
   "outputs": [],
   "source": [
    "from matplotlib import font_manager, rc\n",
    "\n",
    "font_name = font_manager.FontProperties(fname=\"c:/Windows/Fonts/malgun.ttf\").get_name()\n",
    "rc('font', family=font_name)"
   ]
  },
  {
   "cell_type": "code",
   "execution_count": 11,
   "metadata": {},
   "outputs": [
    {
     "data": {
      "image/png": "[encoded data removed]",
      "text/plain": [
       "<Figure size 432x288 with 1 Axes>"
      ]
     },
     "metadata": {},
     "output_type": "display_data"
    }
   ],
   "source": [
    "text.plot(50)"
   ]
  },
  {
   "cell_type": "markdown",
   "metadata": {},
   "source": [
    "## Sentiment classification with term-existance\n",
    "* 아래는 term이 문서에 존재하는지의 유무에 따라 분류를 해본다."
   ]
  },
  {
   "cell_type": "markdown",
   "metadata": {},
   "source": [
    "최빈도 단어 200개를 피쳐로 사용"
   ]
  },
  {
   "cell_type": "code",
   "execution_count": 12,
   "metadata": {},
   "outputs": [],
   "source": [
    "selected_words = [f[0] for f in text.vocab().most_common(200)]\n",
    "\n",
    "def term_exists(doc):\n",
    "    return{'exists({})'.format(word): (word in set(doc)) for word in selected_words}\n",
    "\n",
    "# 시간 단축을 위해 training corpus의 일부만 사용 할수 있으나 성능은 떨어질 가능성이 있다.\n",
    "train_docs = train_docs[:10000]\n",
    "\n",
    "train_xy = [(term_exists(d), c) for d, c in train_docs]\n",
    "test_xy = [(term_exists(d), c) for d, c in test_docs]"
   ]
  },
  {
   "cell_type": "markdown",
   "metadata": {},
   "source": [
    "시도해볼 만한것.\n",
    "* 최빈도 단어들은 의미가 없을 수 있다. 최상위 50개를 제거하고 분석하면?\n",
    "* TF, TF-IDF의 성능은?\n",
    "* 코드 최적화(sparse matrix) 또는 scikit-learn의 TfidfVectorizer()를 이용! "
   ]
  }
 ],
 "metadata": {
  "kernelspec": {
   "display_name": "text3.5",
   "language": "python",
   "name": "text3.5"
  },
  "language_info": {
   "codemirror_mode": {
    "name": "ipython",
    "version": 3
   },
   "file_extension": ".py",
   "mimetype": "text/x-python",
   "name": "python",
   "nbconvert_exporter": "python",
   "pygments_lexer": "ipython3",
   "version": "3.5.5"
  }
 },
 "nbformat": 4,
 "nbformat_minor": 2
}

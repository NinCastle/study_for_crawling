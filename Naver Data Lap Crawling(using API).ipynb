{
 "cells": [
  {
   "cell_type": "markdown",
   "metadata": {},
   "source": [
    "[naver api 사용하기](https://ericnjennifer.github.io/python_crawling/2018/01/05/PythonCrawling_Chapt4.html)  \n",
    "[naver 데이터 수집하기](https://ericnjennifer.github.io/python_crawling/2018/01/21/PythonCrawling_Chapt9.html)  \n",
    "[파이썬을 이용하여 naver 책 검색하기](https://wayhome25.github.io/python/2017/07/15/naver-search-api/)  \n",
    "[파이썬으로 네이버 검색 API 요약문 수집 및 형태소 분석하기](http://kkwaks.net/920)  \n",
    "[Naver Developers](https://developers.naver.com/docs/search/news/)  \n",
    "[웹크롤링 - Open API(Rest API)를 활용한 크롤링](http://www.fun-coding.org/crawl_basic3.html)  \n",
    "[통합 검색어 트랜드(naver)](https://developers.naver.com/docs/datalab/search/#%EA%B0%9C%EC%9A%94)  \n",
    "[matplotlib](https://matplotlib.org/2.0.2/users/legend_guide.html)  \n",
    "[Converting strings to Datatime](https://chrisalbon.com/python/basics/strings_to_datetime/)  \n",
    "[Pandas from dict](http://pandas.pydata.org/pandas-docs/version/0.22/generated/pandas.DataFrame.from_dict.html)  \n",
    "[Open API를 활용한 크롤링](http://www.fun-coding.org/crawl_basic3.html)  \n",
    "[matplotlib korean-1](http://pinkwink.kr/956)   \n",
    "[matplotlib korean-2](http://corazzon.github.io/matplotlib_font_setting)  \n",
    "아래 내용은 상기 링크를 정리한것."
   ]
  },
  {
   "cell_type": "markdown",
   "metadata": {},
   "source": [
    "# Naver Data Lap Crawling(using API)"
   ]
  },
  {
   "cell_type": "markdown",
   "metadata": {},
   "source": [
    "주의사항  \n",
    "* 하루 검색 기사수: API 호출 25000회/일로 제한.  \n",
    "최대 한번에 100개의 검색을 가지고 있으므로 250,000건의 데이터를 가지고 올 수 있다.\n",
    "* 검색 포인터 문제: 네이버 \"탄핵\"이라는 데이터를 검색하면 뉴스에서만 43만건이 검색되나 최대 1,000개 밖에 API를 이용하여 가지고 올 수 없다.(코드에서 설명)"
   ]
  },
  {
   "cell_type": "code",
   "execution_count": 7,
   "metadata": {},
   "outputs": [],
   "source": [
    "import os\n",
    "import sys\n",
    "import urllib.request\n",
    "import datetime\n",
    "import time\n",
    "import json\n",
    "from configparser import *"
   ]
  },
  {
   "cell_type": "code",
   "execution_count": 13,
   "metadata": {},
   "outputs": [
    {
     "name": "stdout",
     "output_type": "stream",
     "text": [
      "[2018-06-14 20:33:47.780386] Url Request Success\n",
      "[2018-06-14 20:33:47.850444] Url Request Success\n",
      "[2018-06-14 20:33:47.930568] Url Request Success\n",
      "[2018-06-14 20:33:48.012662] Url Request Success\n",
      "[2018-06-14 20:33:48.099780] Url Request Success\n",
      "[2018-06-14 20:33:48.184934] Url Request Success\n",
      "[2018-06-14 20:33:48.248105] Url Request Success\n",
      "[2018-06-14 20:33:48.469216] Url Request Success\n",
      "[2018-06-14 20:33:48.523250] Url Request Success\n",
      "[2018-06-14 20:33:48.594796] Url Request Success\n",
      "[2018-06-14 20:33:48.677822] Url Request Success\n",
      "[2018-06-14 20:33:48.765311] Url Request Success\n",
      "[2018-06-14 20:33:48.825373] Url Request Success\n",
      "[2018-06-14 20:33:48.888930] Url Request Success\n",
      "HTTP Error 429: Too Many Requests\n",
      "[2018-06-14 20:33:48.934490] Error for URL : https://openapi.naver.com/v1/search/news.json?query=%EC%B9%98%ED%82%A8&start=1&display=5\n",
      "치킨_naver_news.json SAVED\n"
     ]
    }
   ],
   "source": [
    "#[CODE 1]\n",
    "\n",
    "def get_request_url(url):\n",
    "    \n",
    "    req = urllib.request.Request(url)\n",
    "    req.add_header(\"X-Naver-Client-Id\", app_id)\n",
    "    req.add_header(\"X-Naver-Client-Secret\", app_secret)\n",
    "    try: \n",
    "        response = urllib.request.urlopen(req)\n",
    "        if response.getcode() == 200:\n",
    "            print (\"[%s] Url Request Success\" % datetime.datetime.now())\n",
    "            return response.read().decode('utf-8')\n",
    "    except Exception as e:\n",
    "        print(e)\n",
    "        print(\"[%s] Error for URL : %s\" % (datetime.datetime.now(), url))\n",
    "        return None\n",
    "\n",
    "#[CODE 2]\n",
    "\n",
    "def getNaverSearchResult(sNode, search_text, page_start, display):\n",
    "    \n",
    "    base = \"https://openapi.naver.com/v1/search\"\n",
    "    node = \"/%s.json\" % sNode\n",
    "    parameters = \"?query=%s&start=%s&display=%s\" % (urllib.parse.quote(search_text), page_start, display)\n",
    "    url = base + node + parameters\n",
    "    \n",
    "    retData = get_request_url(url)\n",
    "    \n",
    "    if (retData == None):\n",
    "        return None\n",
    "    else:\n",
    "        return json.loads(retData)\n",
    "\n",
    "#[CODE 3]\n",
    "\n",
    "def getPostData(post, jsonResult):\n",
    "    \n",
    "    title = post['title']\n",
    "    description = post['description']\n",
    "    org_link = post['originallink']\n",
    "    link = post['link']\n",
    "\n",
    "    #Tue, 14 Feb 2017 18:46:00 +0900\n",
    "\n",
    "    pDate = datetime.datetime.strptime(post['pubDate'],  '%a, %d %b %Y %H:%M:%S +0900')\n",
    "    pDate = pDate.strftime('%Y-%m-%d %H:%M:%S')\n",
    "    \n",
    "    jsonResult.append({'title':title, 'description': description,\n",
    "                    'org_link':org_link, 'link': org_link, \n",
    "                    'pDate':pDate})\n",
    "    return    \n",
    "\n",
    "def main():\n",
    "\n",
    "    jsonResult = []\n",
    "\n",
    "    # 'news', 'blog', 'cafearticle'\n",
    "\n",
    "    sNode = 'news'\n",
    "    search_text = '치킨'\n",
    "    display_count = 10\n",
    "    \n",
    "    jsonSearch = getNaverSearchResult(sNode, search_text, 1, display_count)\n",
    "    \n",
    "    while ((jsonSearch != None) and (jsonSearch['display'] != 0)):\n",
    "        for post in jsonSearch['items']:\n",
    "            getPostData(post, jsonResult)\n",
    "        \n",
    "        nStart = jsonSearch['start'] + jsonSearch['display']\n",
    "        jsonSearch = getNaverSearchResult(sNode, search_text, 1, 5)\n",
    "    \n",
    "    with open('%s_naver_%s.json' % (search_text, sNode), 'w', encoding='utf8') as outfile:\n",
    "        retJson = json.dumps(jsonResult,\n",
    "                        indent=4, sort_keys=True,\n",
    "                        ensure_ascii=False)\n",
    "        outfile.write(retJson)\n",
    "        \n",
    "    print ('%s_naver_%s.json SAVED' % (search_text, sNode))\n",
    "\n",
    "    \n",
    "if __name__ == '__main__':\n",
    "    main()"
   ]
  },
  {
   "cell_type": "markdown",
   "metadata": {},
   "source": [
    "# 데이터랩(크롤링)"
   ]
  },
  {
   "cell_type": "markdown",
   "metadata": {},
   "source": [
    "주의사항 \n",
    "* 통합 검색 트렌드 API의 하루 호출 한도 1000회를 주의"
   ]
  },
  {
   "cell_type": "code",
   "execution_count": 3,
   "metadata": {},
   "outputs": [],
   "source": [
    "import os\n",
    "import sys\n",
    "import urllib.request\n",
    "import json\n",
    "\n",
    "def data_lap_(i, k):\n",
    "    client_id = i\n",
    "    client_secret = k\n",
    "    url = \"https://openapi.naver.com/v1/datalab/search\";\n",
    "    body = \"{\\\"startDate\\\":\\\"2018-01-01\\\",\\\"endDate\\\":\\\"2018-04-30\\\",\\\"timeUnit\\\":\\\"month\\\",\\\"keywordGroups\\\":[{\\\"groupName\\\":\\\"한국\\\",\\\"keywords\\\":[\\\"북한\\\",\\\"미국\\\"]},{\\\"groupName\\\":\\\"미국\\\",\\\"keywords\\\":[\\\"북한\\\",\\\"회담\\\"]}],\\\"device\\\":\\\"pc\\\",\\\"ages\\\":[\\\"1\\\",\\\"2\\\"],\\\"gender\\\":\\\"f\\\"}\";\n",
    "\n",
    "    request = urllib.request.Request(url)\n",
    "    request.add_header(\"X-Naver-Client-Id\",client_id)\n",
    "    request.add_header(\"X-Naver-Client-Secret\",client_secret)\n",
    "    request.add_header(\"Content-Type\",\"application/json\")\n",
    "    response = urllib.request.urlopen(request, data=body.encode(\"utf-8\"))\n",
    "    rescode = response.getcode()\n",
    "    if(rescode==200):\n",
    "        response_body = response.read()\n",
    "#         print(response_body.decode('utf-8'))\n",
    "        return response_body.decode('utf-8')\n",
    "    else:\n",
    "        print(\"Error Code:\" + rescode)"
   ]
  },
  {
   "cell_type": "code",
   "execution_count": 6,
   "metadata": {
    "scrolled": true
   },
   "outputs": [
    {
     "name": "stdout",
     "output_type": "stream",
     "text": [
      "{\"startDate\":\"2018-01-01\",\"endDate\":\"2018-04-30\",\"timeUnit\":\"month\",\"results\":[{\"title\":\"한국\",\"keywords\":[\"북한\",\"미국\"],\"data\":[{\"period\":\"2018-01-01\",\"ratio\":44.08842},{\"period\":\"2018-02-01\",\"ratio\":32.36462},{\"period\":\"2018-03-01\",\"ratio\":51.98708},{\"period\":\"2018-04-01\",\"ratio\":100}]},{\"title\":\"미국\",\"keywords\":[\"북한\",\"회담\"],\"data\":[{\"period\":\"2018-01-01\",\"ratio\":26.20466},{\"period\":\"2018-02-01\",\"ratio\":17.80923},{\"period\":\"2018-03-01\",\"ratio\":25.60854},{\"period\":\"2018-04-01\",\"ratio\":68.45504}]}]}\n"
     ]
    }
   ],
   "source": [
    "data = data_lap_(\"sij6zVOvfU9qZrQCBAXL\",\"YJUyV7RvSx\")\n",
    "print(data)"
   ]
  },
  {
   "cell_type": "code",
   "execution_count": 7,
   "metadata": {},
   "outputs": [
    {
     "data": {
      "text/plain": [
       "str"
      ]
     },
     "execution_count": 7,
     "metadata": {},
     "output_type": "execute_result"
    }
   ],
   "source": [
    "type(data)"
   ]
  },
  {
   "cell_type": "code",
   "execution_count": 8,
   "metadata": {
    "scrolled": true
   },
   "outputs": [
    {
     "data": {
      "text/plain": [
       "dict"
      ]
     },
     "execution_count": 8,
     "metadata": {},
     "output_type": "execute_result"
    }
   ],
   "source": [
    "data = json.loads(data)\n",
    "type(data)"
   ]
  },
  {
   "cell_type": "code",
   "execution_count": 19,
   "metadata": {
    "scrolled": false
   },
   "outputs": [
    {
     "name": "stdout",
     "output_type": "stream",
     "text": [
      "한국 미국\n",
      "Malgun Gothic\n"
     ]
    },
    {
     "name": "stderr",
     "output_type": "stream",
     "text": [
      "C:\\Users\\Andrew\\AppData\\Local\\conda\\conda\\envs\\text3.5\\lib\\site-packages\\matplotlib\\font_manager.py:1328: UserWarning: findfont: Font family ['NanumBarunGothic'] not found. Falling back to DejaVu Sans\n",
      "  (prop.get_family(), self.defaultFamily[fontext]))\n"
     ]
    },
    {
     "data": {
      "image/png": "[encoded data removed]",
      "text/plain": [
       "<Figure size 1080x720 with 1 Axes>"
      ]
     },
     "metadata": {},
     "output_type": "display_data"
    }
   ],
   "source": [
    "import numpy as np\n",
    "import pandas as pd\n",
    "from datetime import datetime\n",
    "from dateutil.parser import parse\n",
    "import matplotlib.pyplot as plt\n",
    "\n",
    "x_1 = []\n",
    "y_1 = []\n",
    "\n",
    "x_2 = []\n",
    "y_2 = []\n",
    " \n",
    "for i in range(len(data['results'][0]['data'])):\n",
    "    \n",
    "    x_1.append(data['results'][0]['data'][i]['period'])\n",
    "    y_1.append(data['results'][0]['data'][i]['ratio'])\n",
    "    \n",
    "    x_2.append(data['results'][1]['data'][i]['period'])\n",
    "    y_2.append(data['results'][1]['data'][i]['ratio'])\n",
    "\n",
    "x_1 = pd.to_datetime(x_1)\n",
    "y_1 = pd.to_numeric(y_1)\n",
    "x_2 = pd.to_datetime(x_2)\n",
    "y_2 = pd.to_numeric(y_2)\n",
    "# print(x_1)\n",
    "# print(x_2)\n",
    "# print(y_1)\n",
    "# print(y_2)\n",
    "print(data['results'][0]['title'], data['results'][1]['title'])\n",
    "plt.figure(figsize=(15,10))\n",
    "plt.grid()\n",
    "plt.plot(x_1, y_1, label = data['results'][0]['title'])\n",
    "plt.plot(x_2, y_2, label = data['results'][1]['title'])\n",
    "plt.rc('font', size=12)\n",
    "plt.xlabel(\"period\", fontsize=20)\n",
    "plt.ylabel(\"ratio\", fontsize=20)\n",
    "plt.legend()\n",
    "\n",
    "## 한글 사용 폰트 옵션\n",
    "font_name = font_manager.FontProperties(fname=\"c:/Windows/Fonts/malgun.ttf\").get_name()\n",
    "rc('font', family=font_name)\n",
    "\n",
    "\n",
    "print(font_name)\n",
    "plt.show()"
   ]
  },
  {
   "cell_type": "markdown",
   "metadata": {},
   "source": [
    "## 한글폰트 설정"
   ]
  },
  {
   "cell_type": "markdown",
   "metadata": {},
   "source": [
    "matplotlib의 버전과 위치정보를 가져온다."
   ]
  },
  {
   "cell_type": "code",
   "execution_count": 11,
   "metadata": {},
   "outputs": [
    {
     "name": "stdout",
     "output_type": "stream",
     "text": [
      "버전:  2.2.2\n",
      "설치 위치:  C:\\Users\\Andrew\\AppData\\Local\\conda\\conda\\envs\\text3.5\\lib\\site-packages\\matplotlib\\__init__.py\n",
      "설정 위치:  C:\\Users\\Andrew\\.matplotlib\n",
      "캐시 위치:  C:\\Users\\Andrew\\.matplotlib\n"
     ]
    }
   ],
   "source": [
    "import matplotlib as mpl\n",
    "import matplotlib.font_manager as fm\n",
    "\n",
    "# 그래프에서 마이너스 폰트 깨지는 문제에 대한 대처\n",
    "mpl.rcParams['axes.unicode_minus'] = False\n",
    "\n",
    "print ('버전: ', mpl.__version__)\n",
    "print ('설치 위치: ', mpl.__file__)\n",
    "print ('설정 위치: ', mpl.get_configdir())\n",
    "print ('캐시 위치: ', mpl.get_cachedir())"
   ]
  },
  {
   "cell_type": "markdown",
   "metadata": {},
   "source": [
    "matplotlib의 위치를 이용하여 터미널로 이동"
   ]
  },
  {
   "cell_type": "code",
   "execution_count": 12,
   "metadata": {},
   "outputs": [
    {
     "name": "stdout",
     "output_type": "stream",
     "text": [
      "설정파일 위치:  C:\\Users\\Andrew\\AppData\\Local\\conda\\conda\\envs\\text3.5\\lib\\site-packages\\matplotlib\\mpl-data\\matplotlibrc\n"
     ]
    }
   ],
   "source": [
    "print ('설정파일 위치: ', mpl.matplotlib_fname())"
   ]
  },
  {
   "cell_type": "markdown",
   "metadata": {},
   "source": [
    "설치된 폰트를 찍어본다."
   ]
  },
  {
   "cell_type": "code",
   "execution_count": 13,
   "metadata": {
    "scrolled": true
   },
   "outputs": [
    {
     "name": "stdout",
     "output_type": "stream",
     "text": [
      "['c:\\\\windows\\\\fonts\\\\corbelb.ttf', 'C:\\\\WINDOWS\\\\Fonts\\\\GOUDOS.TTF', 'C:\\\\WINDOWS\\\\Fonts\\\\calibri.ttf', 'C:\\\\WINDOWS\\\\Fonts\\\\TCM_____.TTF', 'c:\\\\windows\\\\fonts\\\\teamviewer13.otf', 'c:\\\\windows\\\\fonts\\\\mg.ttf', 'c:\\\\windows\\\\fonts\\\\imprisha.ttf', 'C:\\\\WINDOWS\\\\Fonts\\\\MTCORSVA.TTF', 'c:\\\\windows\\\\fonts\\\\palab.ttf', 'c:\\\\windows\\\\fonts\\\\rage.ttf', 'C:\\\\WINDOWS\\\\Fonts\\\\LBRITED.TTF', 'C:\\\\WINDOWS\\\\Fonts\\\\BOOKOSI.TTF', 'c:\\\\windows\\\\fonts\\\\rocki.ttf', 'C:\\\\WINDOWS\\\\Fonts\\\\constanb.ttf', 'c:\\\\windows\\\\fonts\\\\lsansd.ttf', 'c:\\\\windows\\\\fonts\\\\consola.ttf', 'c:\\\\windows\\\\fonts\\\\hatten.ttf', 'C:\\\\WINDOWS\\\\Fonts\\\\FTLTLT.TTF', 'C:\\\\WINDOWS\\\\Fonts\\\\INFROMAN.TTF', 'C:\\\\WINDOWS\\\\Fonts\\\\NanumGothic.ttf', 'C:\\\\WINDOWS\\\\Fonts\\\\MAIAN.TTF', 'c:\\\\windows\\\\fonts\\\\trebucbi.ttf', 'C:\\\\WINDOWS\\\\Fonts\\\\BROADW.TTF', 'c:\\\\windows\\\\fonts\\\\lbrited.ttf', 'c:\\\\windows\\\\fonts\\\\gilsanub.ttf', 'C:\\\\WINDOWS\\\\Fonts\\\\SCHLBKBI.TTF', 'C:\\\\WINDOWS\\\\Fonts\\\\arialbi.ttf', 'C:\\\\WINDOWS\\\\Fonts\\\\GILB____.TTF', 'c:\\\\windows\\\\fonts\\\\h2porl.ttf', 'c:\\\\windows\\\\fonts\\\\consolab.ttf', 'c:\\\\windows\\\\fonts\\\\segmdl2.ttf', 'C:\\\\WINDOWS\\\\Fonts\\\\marlett.ttf', 'c:\\\\windows\\\\fonts\\\\vivaldii.ttf', 'c:\\\\windows\\\\fonts\\\\lcallig.ttf', 'c:\\\\windows\\\\fonts\\\\latinwd.ttf', 'c:\\\\windows\\\\fonts\\\\lfaxdi.ttf', 'C:\\\\WINDOWS\\\\Fonts\\\\CASTELAR.TTF', 'C:\\\\WINDOWS\\\\Fonts\\\\LFAX.TTF', 'c:\\\\windows\\\\fonts\\\\h2mkpb.ttf', 'c:\\\\windows\\\\fonts\\\\h2gprm.ttf', 'c:\\\\windows\\\\fonts\\\\hanbatangext.ttf', 'c:\\\\windows\\\\fonts\\\\seguihis.ttf', 'c:\\\\windows\\\\fonts\\\\arialni.ttf', 'C:\\\\WINDOWS\\\\Fonts\\\\NanumBarunGothicUltraLight.ttf', 'c:\\\\windows\\\\fonts\\\\lsansdi.ttf', 'C:\\\\WINDOWS\\\\Fonts\\\\ARIALN.TTF', 'C:\\\\WINDOWS\\\\Fonts\\\\CALISTBI.TTF', 'C:\\\\WINDOWS\\\\Fonts\\\\javatext.ttf', 'C:\\\\WINDOWS\\\\Fonts\\\\ERASDEMI.TTF', 'c:\\\\windows\\\\fonts\\\\ariblk.ttf', 'c:\\\\windows\\\\fonts\\\\malgun.ttf', 'c:\\\\windows\\\\fonts\\\\segoeuib.ttf', 'c:\\\\windows\\\\fonts\\\\itcblkad.ttf', 'c:\\\\windows\\\\fonts\\\\arialbi.ttf', 'c:\\\\windows\\\\fonts\\\\fradmcn.ttf', 'C:\\\\WINDOWS\\\\Fonts\\\\corbeli.ttf', 'C:\\\\WINDOWS\\\\Fonts\\\\BOD_R.TTF', 'c:\\\\windows\\\\fonts\\\\mk.ttf', 'c:\\\\windows\\\\fonts\\\\trebucbd.ttf', 'c:\\\\windows\\\\fonts\\\\timesbi.ttf', 'c:\\\\windows\\\\fonts\\\\gothicb.ttf', 'c:\\\\windows\\\\fonts\\\\coopbl.ttf', 'c:\\\\windows\\\\fonts\\\\htowerti.ttf', 'c:\\\\windows\\\\fonts\\\\tempsitc.ttf', 'C:\\\\WINDOWS\\\\Fonts\\\\framd.ttf', 'C:\\\\WINDOWS\\\\Fonts\\\\HATTEN.TTF', 'C:\\\\WINDOWS\\\\Fonts\\\\GILC____.TTF', 'c:\\\\windows\\\\fonts\\\\jumja.ttf', 'C:\\\\WINDOWS\\\\Fonts\\\\GOTHICBI.TTF', 'C:\\\\WINDOWS\\\\Fonts\\\\LTYPE.TTF', 'C:\\\\WINDOWS\\\\Fonts\\\\PERI____.TTF', 'C:\\\\WINDOWS\\\\Fonts\\\\LTYPEB.TTF', 'C:\\\\WINDOWS\\\\Fonts\\\\ROCC____.TTF', 'c:\\\\windows\\\\fonts\\\\itcedscr.ttf', 'c:\\\\windows\\\\fonts\\\\framdcn.ttf', 'c:\\\\windows\\\\fonts\\\\wingdng2.ttf', 'C:\\\\WINDOWS\\\\Fonts\\\\segmdl2.ttf', 'C:\\\\WINDOWS\\\\Fonts\\\\HARNGTON.TTF', 'C:\\\\WINDOWS\\\\Fonts\\\\consolab.ttf', 'C:\\\\WINDOWS\\\\Fonts\\\\segoeui.ttf', 'C:\\\\WINDOWS\\\\Fonts\\\\NanumGothicExtraBold.ttf', 'C:\\\\WINDOWS\\\\Fonts\\\\HMKMMAG.TTF', 'c:\\\\windows\\\\fonts\\\\colonna.ttf', 'C:\\\\WINDOWS\\\\Fonts\\\\Gabriola.ttf', 'c:\\\\windows\\\\fonts\\\\bookosb.ttf', 'C:\\\\WINDOWS\\\\Fonts\\\\segoeuisl.ttf', 'c:\\\\windows\\\\fonts\\\\nanumbarungothic.ttf', 'c:\\\\windows\\\\fonts\\\\califr.ttf', 'c:\\\\windows\\\\fonts\\\\perbi___.ttf', 'c:\\\\windows\\\\fonts\\\\calibrili.ttf', 'c:\\\\windows\\\\fonts\\\\tahoma.ttf', 'c:\\\\windows\\\\fonts\\\\ocraext.ttf', 'C:\\\\WINDOWS\\\\Fonts\\\\FRABK.TTF', 'c:\\\\windows\\\\fonts\\\\curlz___.ttf', 'C:\\\\WINDOWS\\\\Fonts\\\\TCCM____.TTF', 'C:\\\\WINDOWS\\\\Fonts\\\\corbelz.ttf', 'C:\\\\WINDOWS\\\\Fonts\\\\framdit.ttf', 'c:\\\\windows\\\\fonts\\\\kunstler.ttf', 'c:\\\\windows\\\\fonts\\\\bellb.ttf', 'c:\\\\windows\\\\fonts\\\\schlbkbi.ttf', 'C:\\\\WINDOWS\\\\Fonts\\\\calibrib.ttf', 'C:\\\\WINDOWS\\\\Fonts\\\\SHOWG.TTF', 'C:\\\\WINDOWS\\\\Fonts\\\\GILSANUB.TTF', 'c:\\\\windows\\\\fonts\\\\oldengl.ttf', 'c:\\\\windows\\\\fonts\\\\rock.ttf', 'c:\\\\windows\\\\fonts\\\\bod_blar.ttf', 'C:\\\\WINDOWS\\\\Fonts\\\\TCBI____.TTF', 'C:\\\\WINDOWS\\\\Fonts\\\\simsunb.ttf', 'C:\\\\WINDOWS\\\\Fonts\\\\impact.ttf', 'c:\\\\windows\\\\fonts\\\\phagspab.ttf', 'c:\\\\windows\\\\fonts\\\\castelar.ttf', 'c:\\\\windows\\\\fonts\\\\comic.ttf', 'c:\\\\windows\\\\fonts\\\\l_10646.ttf', 'C:\\\\WINDOWS\\\\Fonts\\\\seguiemj.ttf', 'C:\\\\WINDOWS\\\\Fonts\\\\LBRITEDI.TTF', 'C:\\\\WINDOWS\\\\Fonts\\\\STENCIL.TTF', 'C:\\\\WINDOWS\\\\Fonts\\\\H2GPRM.TTF', 'c:\\\\windows\\\\fonts\\\\corbeli.ttf', 'C:\\\\WINDOWS\\\\Fonts\\\\BOOKOS.TTF', 'C:\\\\WINDOWS\\\\Fonts\\\\HANBatangExtBB.ttf', 'c:\\\\windows\\\\fonts\\\\nanumgothic.ttf', 'c:\\\\windows\\\\fonts\\\\seguiemj.ttf', 'C:\\\\WINDOWS\\\\Fonts\\\\GILBI___.TTF', 'c:\\\\windows\\\\fonts\\\\harlowsi.ttf', 'c:\\\\windows\\\\fonts\\\\simsunb.ttf', 'C:\\\\WINDOWS\\\\Fonts\\\\HANDotumB.ttf', 'c:\\\\windows\\\\fonts\\\\bod_b.ttf', 'C:\\\\WINDOWS\\\\Fonts\\\\HMKMRHD.TTF', 'c:\\\\windows\\\\fonts\\\\leelawui.ttf', 'C:\\\\WINDOWS\\\\Fonts\\\\GARAIT.TTF', 'c:\\\\windows\\\\fonts\\\\tcceb.ttf', 'C:\\\\WINDOWS\\\\Fonts\\\\NIAGENG.TTF', 'C:\\\\WINDOWS\\\\Fonts\\\\georgiai.ttf', 'c:\\\\windows\\\\fonts\\\\broadw.ttf', 'c:\\\\windows\\\\fonts\\\\calistb.ttf', 'C:\\\\WINDOWS\\\\Fonts\\\\ANTQUAI.TTF', 'C:\\\\WINDOWS\\\\Fonts\\\\TCCEB.TTF', 'C:\\\\WINDOWS\\\\Fonts\\\\PRISTINA.TTF', 'c:\\\\windows\\\\fonts\\\\timesbd.ttf', 'C:\\\\WINDOWS\\\\Fonts\\\\CURLZ___.TTF', 'c:\\\\windows\\\\fonts\\\\mt.ttf', 'c:\\\\windows\\\\fonts\\\\gilc____.ttf', 'C:\\\\WINDOWS\\\\Fonts\\\\HANBatang.ttf', 'C:\\\\WINDOWS\\\\Fonts\\\\verdanai.ttf', 'C:\\\\WINDOWS\\\\Fonts\\\\LeelawUI.ttf', 'c:\\\\windows\\\\fonts\\\\consolaz.ttf', 'c:\\\\windows\\\\fonts\\\\gillubcd.ttf', 'c:\\\\windows\\\\fonts\\\\hmkmmag.ttf', 'C:\\\\WINDOWS\\\\Fonts\\\\PERB____.TTF', 'c:\\\\windows\\\\fonts\\\\corbelz.ttf', 'C:\\\\WINDOWS\\\\Fonts\\\\GOTHICB.TTF', 'C:\\\\WINDOWS\\\\Fonts\\\\GOUDYSTO.TTF', 'c:\\\\windows\\\\fonts\\\\cambriai.ttf', 'C:\\\\WINDOWS\\\\Fonts\\\\couri.ttf', 'c:\\\\windows\\\\fonts\\\\nanumbarungothicbold.ttf', 'C:\\\\WINDOWS\\\\Fonts\\\\ARIALNI.TTF', 'C:\\\\WINDOWS\\\\Fonts\\\\FRAHVIT.TTF', 'C:\\\\WINDOWS\\\\Fonts\\\\micross.ttf', 'C:\\\\WINDOWS\\\\Fonts\\\\wingding.ttf', 'c:\\\\windows\\\\fonts\\\\goudysto.ttf', 'c:\\\\windows\\\\fonts\\\\mmrtext.ttf', 'C:\\\\WINDOWS\\\\Fonts\\\\FELIXTI.TTF', 'C:\\\\WINDOWS\\\\Fonts\\\\PER_____.TTF', 'C:\\\\WINDOWS\\\\Fonts\\\\monbaiti.ttf', 'c:\\\\windows\\\\fonts\\\\mn.ttf', 'C:\\\\WINDOWS\\\\Fonts\\\\GARABD.TTF', 'C:\\\\WINDOWS\\\\Fonts\\\\bahnschrift.ttf', 'c:\\\\windows\\\\fonts\\\\holomdl2.ttf', 'C:\\\\WINDOWS\\\\Fonts\\\\BRADHITC.TTF', 'c:\\\\windows\\\\fonts\\\\gadugib.ttf', 'c:\\\\windows\\\\fonts\\\\hanbatangb.ttf', 'C:\\\\WINDOWS\\\\Fonts\\\\ariblk.ttf', 'C:\\\\WINDOWS\\\\Fonts\\\\ERASMD.TTF', 'C:\\\\WINDOWS\\\\Fonts\\\\PERTILI.TTF', 'c:\\\\windows\\\\fonts\\\\bssym7.ttf', 'C:\\\\WINDOWS\\\\Fonts\\\\H2PORL.TTF', 'C:\\\\WINDOWS\\\\Fonts\\\\ebrimabd.ttf', 'c:\\\\windows\\\\fonts\\\\segoeuil.ttf', 'c:\\\\windows\\\\fonts\\\\nanumgothicbold.ttf', 'c:\\\\windows\\\\fonts\\\\tahomabd.ttf', 'c:\\\\windows\\\\fonts\\\\h2hdrm.ttf', 'C:\\\\WINDOWS\\\\Fonts\\\\trebucbd.ttf', 'c:\\\\windows\\\\fonts\\\\javatext.ttf', 'c:\\\\windows\\\\fonts\\\\frahv.ttf', 'C:\\\\WINDOWS\\\\Fonts\\\\NanumBarunGothicBold.ttf', 'c:\\\\windows\\\\fonts\\\\tcmi____.ttf', 'c:\\\\windows\\\\fonts\\\\bookosi.ttf', 'C:\\\\WINDOWS\\\\Fonts\\\\BAUHS93.TTF', 'c:\\\\windows\\\\fonts\\\\segoescb.ttf', 'C:\\\\WINDOWS\\\\Fonts\\\\BOD_BLAI.TTF', 'c:\\\\windows\\\\fonts\\\\nanumbarungothicultralight.ttf', 'C:\\\\WINDOWS\\\\Fonts\\\\segoeuii.ttf', 'C:\\\\WINDOWS\\\\Fonts\\\\seguisbi.ttf', 'c:\\\\windows\\\\fonts\\\\nanumbarungothiclight.ttf', 'c:\\\\windows\\\\fonts\\\\framd.ttf', 'c:\\\\windows\\\\fonts\\\\bauhs93.ttf', 'c:\\\\windows\\\\fonts\\\\tcbi____.ttf', 'C:\\\\WINDOWS\\\\Fonts\\\\BRLNSB.TTF', 'c:\\\\windows\\\\fonts\\\\lsans.ttf', 'c:\\\\windows\\\\fonts\\\\gara.ttf', 'C:\\\\WINDOWS\\\\Fonts\\\\CENTAUR.TTF', 'C:\\\\WINDOWS\\\\Fonts\\\\COLONNA.TTF', 'C:\\\\WINDOWS\\\\Fonts\\\\SCHLBKI.TTF', 'c:\\\\windows\\\\fonts\\\\seguisli.ttf', 'C:\\\\WINDOWS\\\\Fonts\\\\FREESCPT.TTF', 'C:\\\\WINDOWS\\\\Fonts\\\\trebucit.ttf', 'C:\\\\WINDOWS\\\\Fonts\\\\comic.ttf', 'C:\\\\WINDOWS\\\\Fonts\\\\OUTLOOK.TTF', 'C:\\\\WINDOWS\\\\Fonts\\\\HTOWERTI.TTF', 'c:\\\\windows\\\\fonts\\\\arialbd.ttf', 'c:\\\\windows\\\\fonts\\\\couri.ttf', 'c:\\\\windows\\\\fonts\\\\ebrima.ttf', 'c:\\\\windows\\\\fonts\\\\calibril.ttf', 'C:\\\\WINDOWS\\\\Fonts\\\\segoescb.ttf', 'C:\\\\WINDOWS\\\\Fonts\\\\seguisb.ttf', 'C:\\\\WINDOWS\\\\Fonts\\\\symbol.ttf', 'C:\\\\WINDOWS\\\\Fonts\\\\NirmalaB.ttf', 'C:\\\\WINDOWS\\\\Fonts\\\\consolai.ttf', 'c:\\\\windows\\\\fonts\\\\lbritei.ttf', 'C:\\\\WINDOWS\\\\Fonts\\\\ROCK.TTF', 'C:\\\\WINDOWS\\\\Fonts\\\\ERASLGHT.TTF', 'c:\\\\windows\\\\fonts\\\\seguisb.ttf', 'c:\\\\windows\\\\fonts\\\\fradmit.ttf', 'C:\\\\WINDOWS\\\\Fonts\\\\LATINWD.TTF', 'C:\\\\WINDOWS\\\\Fonts\\\\HANDotum.ttf', 'c:\\\\windows\\\\fonts\\\\lfax.ttf', 'c:\\\\windows\\\\fonts\\\\constan.ttf', 'C:\\\\WINDOWS\\\\Fonts\\\\taile.ttf', 'c:\\\\windows\\\\fonts\\\\ltypeb.ttf', 'c:\\\\windows\\\\fonts\\\\corbel.ttf', 'C:\\\\WINDOWS\\\\Fonts\\\\AGENCYR.TTF', 'c:\\\\windows\\\\fonts\\\\per_____.ttf', 'C:\\\\WINDOWS\\\\Fonts\\\\ROCKEB.TTF', 'C:\\\\WINDOWS\\\\Fonts\\\\BRUSHSCI.TTF', 'c:\\\\windows\\\\fonts\\\\harngton.ttf', 'C:\\\\WINDOWS\\\\Fonts\\\\l_10646.ttf', 'C:\\\\WINDOWS\\\\Fonts\\\\malgunbd.ttf', 'c:\\\\windows\\\\fonts\\\\constani.ttf', 'c:\\\\windows\\\\fonts\\\\pala.ttf', 'c:\\\\windows\\\\fonts\\\\micross.ttf', 'c:\\\\windows\\\\fonts\\\\frabk.ttf', 'C:\\\\WINDOWS\\\\Fonts\\\\LBRITE.TTF', 'C:\\\\WINDOWS\\\\Fonts\\\\H2GTRE.TTF', 'c:\\\\windows\\\\fonts\\\\maturasc.ttf', 'c:\\\\windows\\\\fonts\\\\calisti.ttf', 'C:\\\\WINDOWS\\\\Fonts\\\\BELLI.TTF', 'c:\\\\windows\\\\fonts\\\\segoeuisl.ttf', 'C:\\\\WINDOWS\\\\Fonts\\\\JOKERMAN.TTF', 'c:\\\\windows\\\\fonts\\\\candarai.ttf', 'C:\\\\WINDOWS\\\\Fonts\\\\WINGDNG3.TTF', 'c:\\\\windows\\\\fonts\\\\garabd.ttf', 'C:\\\\WINDOWS\\\\Fonts\\\\BOD_I.TTF', 'C:\\\\WINDOWS\\\\Fonts\\\\LTYPEBO.TTF', 'c:\\\\windows\\\\fonts\\\\engr.ttf', 'C:\\\\WINDOWS\\\\Fonts\\\\trebucbi.ttf', 'C:\\\\WINDOWS\\\\Fonts\\\\himalaya.ttf', 'c:\\\\windows\\\\fonts\\\\gothicbi.ttf', 'c:\\\\windows\\\\fonts\\\\bod_r.ttf', 'c:\\\\windows\\\\fonts\\\\palscri.ttf', 'C:\\\\WINDOWS\\\\Fonts\\\\CHILLER.TTF', 'c:\\\\windows\\\\fonts\\\\pertili.ttf', 'c:\\\\windows\\\\fonts\\\\handotumext.ttf', 'C:\\\\WINDOWS\\\\Fonts\\\\segoeuil.ttf', 'c:\\\\windows\\\\fonts\\\\coprgtl.ttf', 'C:\\\\WINDOWS\\\\Fonts\\\\arialbd.ttf', 'C:\\\\WINDOWS\\\\Fonts\\\\BOD_BI.TTF', 'C:\\\\WINDOWS\\\\Fonts\\\\ELEPHNTI.TTF', 'c:\\\\windows\\\\fonts\\\\juice___.ttf', 'c:\\\\windows\\\\fonts\\\\centaur.ttf', 'C:\\\\WINDOWS\\\\Fonts\\\\Candara.ttf', 'C:\\\\WINDOWS\\\\Fonts\\\\HARLOWSI.TTF', 'C:\\\\WINDOWS\\\\Fonts\\\\segoepr.ttf', 'C:\\\\WINDOWS\\\\Fonts\\\\HANBatangExt.ttf', 'C:\\\\WINDOWS\\\\Fonts\\\\H2SA1M.TTF', 'C:\\\\WINDOWS\\\\Fonts\\\\ROCCB___.TTF', 'c:\\\\windows\\\\fonts\\\\erasdemi.ttf', 'C:\\\\WINDOWS\\\\Fonts\\\\malgun.ttf', 'c:\\\\windows\\\\fonts\\\\himalaya.ttf', 'c:\\\\windows\\\\fonts\\\\bradhitc.ttf', 'C:\\\\WINDOWS\\\\Fonts\\\\PALSCRI.TTF', 'c:\\\\windows\\\\fonts\\\\freescpt.ttf', 'c:\\\\windows\\\\fonts\\\\rockbi.ttf', 'C:\\\\WINDOWS\\\\Fonts\\\\FRABKIT.TTF', 'c:\\\\windows\\\\fonts\\\\forte.ttf', 'c:\\\\windows\\\\fonts\\\\htowert.ttf', 'c:\\\\windows\\\\fonts\\\\trebuc.ttf', 'C:\\\\WINDOWS\\\\Fonts\\\\BOD_PSTC.TTF', 'c:\\\\windows\\\\fonts\\\\malgunsl.ttf', 'C:\\\\WINDOWS\\\\Fonts\\\\CALIFB.TTF', 'c:\\\\windows\\\\fonts\\\\brlnsb.ttf', 'c:\\\\windows\\\\fonts\\\\calibrib.ttf', 'c:\\\\windows\\\\fonts\\\\georgiab.ttf', 'c:\\\\windows\\\\fonts\\\\erasbd.ttf', 'C:\\\\WINDOWS\\\\Fonts\\\\cour.ttf', 'c:\\\\windows\\\\fonts\\\\symbol.ttf', 'c:\\\\windows\\\\fonts\\\\britanic.ttf', 'C:\\\\WINDOWS\\\\Fonts\\\\times.ttf', 'c:\\\\windows\\\\fonts\\\\bkant.ttf', 'C:\\\\WINDOWS\\\\Fonts\\\\seguili.ttf', 'c:\\\\windows\\\\fonts\\\\calibrii.ttf', 'c:\\\\windows\\\\fonts\\\\glecb.ttf', 'C:\\\\WINDOWS\\\\Fonts\\\\cambriai.ttf', 'C:\\\\WINDOWS\\\\Fonts\\\\REFSPCL.TTF', 'c:\\\\windows\\\\fonts\\\\alger.ttf', 'C:\\\\WINDOWS\\\\Fonts\\\\NIAGSOL.TTF', 'c:\\\\windows\\\\fonts\\\\frahvit.ttf', 'C:\\\\WINDOWS\\\\Fonts\\\\mvboli.ttf', 'C:\\\\WINDOWS\\\\Fonts\\\\verdanaz.ttf', 'c:\\\\windows\\\\fonts\\\\georgiaz.ttf', 'c:\\\\windows\\\\fonts\\\\taileb.ttf', 'c:\\\\windows\\\\fonts\\\\georgia.ttf', 'c:\\\\windows\\\\fonts\\\\niagsol.ttf', 'c:\\\\windows\\\\fonts\\\\censcbk.ttf', 'c:\\\\windows\\\\fonts\\\\gilbi___.ttf', 'c:\\\\windows\\\\fonts\\\\ltypebo.ttf', 'C:\\\\WINDOWS\\\\Fonts\\\\teamviewer13.otf', 'C:\\\\WINDOWS\\\\Fonts\\\\VIVALDII.TTF', 'C:\\\\WINDOWS\\\\Fonts\\\\HMFMOLD.TTF', 'c:\\\\windows\\\\fonts\\\\phagspa.ttf', 'C:\\\\WINDOWS\\\\Fonts\\\\ALGER.TTF', 'C:\\\\WINDOWS\\\\Fonts\\\\calibrili.ttf', 'C:\\\\WINDOWS\\\\Fonts\\\\ebrima.ttf', 'C:\\\\WINDOWS\\\\Fonts\\\\H2HDRM.TTF', 'C:\\\\WINDOWS\\\\Fonts\\\\PERBI___.TTF', 'C:\\\\WINDOWS\\\\Fonts\\\\SCRIPTBL.TTF', 'C:\\\\WINDOWS\\\\Fonts\\\\tahomabd.ttf', 'C:\\\\WINDOWS\\\\Fonts\\\\ITCKRIST.TTF', 'c:\\\\windows\\\\fonts\\\\hanbatang.ttf', 'c:\\\\windows\\\\fonts\\\\segoeui.ttf', 'c:\\\\windows\\\\fonts\\\\ravie.ttf', 'c:\\\\windows\\\\fonts\\\\arialnbi.ttf', 'C:\\\\WINDOWS\\\\Fonts\\\\JUMJA.TTF', 'c:\\\\windows\\\\fonts\\\\calibri.ttf', 'C:\\\\WINDOWS\\\\Fonts\\\\comici.ttf', 'c:\\\\windows\\\\fonts\\\\ariali.ttf', 'c:\\\\windows\\\\fonts\\\\hmfmpyun.ttf', 'c:\\\\windows\\\\fonts\\\\elephnti.ttf', 'c:\\\\windows\\\\fonts\\\\trebucit.ttf', 'C:\\\\WINDOWS\\\\Fonts\\\\NGULIM.TTF', 'C:\\\\WINDOWS\\\\Fonts\\\\TEMPSITC.TTF', 'C:\\\\WINDOWS\\\\Fonts\\\\palabi.ttf', 'c:\\\\windows\\\\fonts\\\\impact.ttf', 'c:\\\\windows\\\\fonts\\\\rockeb.ttf', 'c:\\\\windows\\\\fonts\\\\hyhwpeq.ttf', 'C:\\\\WINDOWS\\\\Fonts\\\\BRITANIC.TTF', 'C:\\\\WINDOWS\\\\Fonts\\\\H2MJRE.TTF', 'C:\\\\WINDOWS\\\\Fonts\\\\VINERITC.TTF', 'C:\\\\WINDOWS\\\\Fonts\\\\BRLNSR.TTF', 'c:\\\\windows\\\\fonts\\\\ntailub.ttf', 'C:\\\\WINDOWS\\\\Fonts\\\\pala.ttf', 'C:\\\\WINDOWS\\\\Fonts\\\\timesbd.ttf', 'c:\\\\windows\\\\fonts\\\\gabriola.ttf', 'c:\\\\windows\\\\fonts\\\\seguibl.ttf', 'C:\\\\WINDOWS\\\\Fonts\\\\taileb.ttf', 'c:\\\\windows\\\\fonts\\\\showg.ttf', 'C:\\\\WINDOWS\\\\Fonts\\\\BRLNSDB.TTF', 'c:\\\\windows\\\\fonts\\\\gigi.ttf', 'C:\\\\WINDOWS\\\\Fonts\\\\MB.TTF', 'C:\\\\WINDOWS\\\\Fonts\\\\arial.ttf', 'C:\\\\WINDOWS\\\\Fonts\\\\consolaz.ttf', 'C:\\\\WINDOWS\\\\Fonts\\\\corbelb.ttf', 'c:\\\\windows\\\\fonts\\\\ebrimabd.ttf', 'C:\\\\WINDOWS\\\\Fonts\\\\GILI____.TTF', 'c:\\\\windows\\\\fonts\\\\tcm_____.ttf', 'C:\\\\WINDOWS\\\\Fonts\\\\seguisli.ttf', 'c:\\\\windows\\\\fonts\\\\refsan.ttf', 'C:\\\\WINDOWS\\\\Fonts\\\\BOOKOSBI.TTF', 'C:\\\\WINDOWS\\\\Fonts\\\\BASKVILL.TTF', 'C:\\\\WINDOWS\\\\Fonts\\\\RAVIE.TTF', 'c:\\\\windows\\\\fonts\\\\vineritc.ttf', 'c:\\\\windows\\\\fonts\\\\bod_pstc.ttf', 'C:\\\\WINDOWS\\\\Fonts\\\\JUICE___.TTF', 'c:\\\\windows\\\\fonts\\\\garait.ttf', 'c:\\\\windows\\\\fonts\\\\comici.ttf', 'C:\\\\WINDOWS\\\\Fonts\\\\ANTQUABI.TTF', 'c:\\\\windows\\\\fonts\\\\calist.ttf', 'C:\\\\WINDOWS\\\\Fonts\\\\mmrtext.ttf', 'C:\\\\WINDOWS\\\\Fonts\\\\timesi.ttf', 'c:\\\\windows\\\\fonts\\\\frabkit.ttf', 'c:\\\\windows\\\\fonts\\\\baskvill.ttf', 'C:\\\\WINDOWS\\\\Fonts\\\\ANTQUAB.TTF', 'c:\\\\windows\\\\fonts\\\\ntailu.ttf', 'c:\\\\windows\\\\fonts\\\\stencil.ttf', 'C:\\\\WINDOWS\\\\Fonts\\\\CALIST.TTF', 'c:\\\\windows\\\\fonts\\\\ftltlt.ttf', 'c:\\\\windows\\\\fonts\\\\ltype.ttf', 'C:\\\\WINDOWS\\\\Fonts\\\\holomdl2.ttf', 'c:\\\\windows\\\\fonts\\\\eraslght.ttf', 'C:\\\\WINDOWS\\\\Fonts\\\\BOD_CR.TTF', 'c:\\\\windows\\\\fonts\\\\wingdng3.ttf', 'c:\\\\windows\\\\fonts\\\\antquabi.ttf', 'C:\\\\WINDOWS\\\\Fonts\\\\MH.TTF', 'C:\\\\WINDOWS\\\\Fonts\\\\seguihis.ttf', 'C:\\\\WINDOWS\\\\Fonts\\\\CALISTB.TTF', 'C:\\\\WINDOWS\\\\Fonts\\\\cambriaz.ttf', 'c:\\\\windows\\\\fonts\\\\maian.ttf', 'C:\\\\WINDOWS\\\\Fonts\\\\KUNSTLER.TTF', 'c:\\\\windows\\\\fonts\\\\mb.ttf', 'C:\\\\WINDOWS\\\\Fonts\\\\REFSAN.TTF', 'C:\\\\WINDOWS\\\\Fonts\\\\FRAHV.TTF', 'c:\\\\windows\\\\fonts\\\\palai.ttf', 'C:\\\\WINDOWS\\\\Fonts\\\\TCCB____.TTF', 'c:\\\\windows\\\\fonts\\\\lbrite.ttf', 'c:\\\\windows\\\\fonts\\\\h2gsrb.ttf', 'c:\\\\windows\\\\fonts\\\\itckrist.ttf', 'c:\\\\windows\\\\fonts\\\\outlook.ttf', 'c:\\\\windows\\\\fonts\\\\cour.ttf', 'c:\\\\windows\\\\fonts\\\\hanbatangextb.ttf', 'C:\\\\WINDOWS\\\\Fonts\\\\COPRGTL.TTF', 'c:\\\\windows\\\\fonts\\\\nirmala.ttf', 'c:\\\\windows\\\\fonts\\\\candarab.ttf', 'c:\\\\windows\\\\fonts\\\\mvboli.ttf', 'c:\\\\windows\\\\fonts\\\\pertibd.ttf', 'c:\\\\windows\\\\fonts\\\\bod_blai.ttf', 'c:\\\\windows\\\\fonts\\\\frscript.ttf', 'c:\\\\windows\\\\fonts\\\\lucon.ttf', 'C:\\\\WINDOWS\\\\Fonts\\\\ROCKB.TTF', 'C:\\\\WINDOWS\\\\Fonts\\\\MP.TTF', 'c:\\\\windows\\\\fonts\\\\handotumb.ttf', 'C:\\\\WINDOWS\\\\Fonts\\\\LHANDW.TTF', 'c:\\\\windows\\\\fonts\\\\hmkmami.ttf', 'C:\\\\WINDOWS\\\\Fonts\\\\BKANT.TTF', 'C:\\\\WINDOWS\\\\Fonts\\\\calibril.ttf', 'C:\\\\WINDOWS\\\\Fonts\\\\LTYPEO.TTF', 'C:\\\\WINDOWS\\\\Fonts\\\\ROCKI.TTF', 'c:\\\\windows\\\\fonts\\\\seguili.ttf', 'C:\\\\WINDOWS\\\\Fonts\\\\ARIALNBI.TTF', 'C:\\\\WINDOWS\\\\Fonts\\\\BOOKOSB.TTF', 'c:\\\\windows\\\\fonts\\\\calibriz.ttf', 'c:\\\\windows\\\\fonts\\\\pristina.ttf', 'c:\\\\windows\\\\fonts\\\\handotum.ttf', 'c:\\\\windows\\\\fonts\\\\arialnb.ttf', 'C:\\\\WINDOWS\\\\Fonts\\\\NanumBarunGothicLight.ttf', 'c:\\\\windows\\\\fonts\\\\belli.ttf', 'C:\\\\WINDOWS\\\\Fonts\\\\NanumGothicBold.ttf', 'C:\\\\WINDOWS\\\\Fonts\\\\LBRITEI.TTF', 'C:\\\\WINDOWS\\\\Fonts\\\\GARA.TTF', 'c:\\\\windows\\\\fonts\\\\goudosi.ttf', 'C:\\\\WINDOWS\\\\Fonts\\\\comicbd.ttf', 'C:\\\\WINDOWS\\\\Fonts\\\\CALIFR.TTF', 'C:\\\\WINDOWS\\\\Fonts\\\\LSANSD.TTF', 'C:\\\\WINDOWS\\\\Fonts\\\\FRSCRIPT.TTF', 'C:\\\\WINDOWS\\\\Fonts\\\\LeelaUIb.ttf', 'C:\\\\WINDOWS\\\\Fonts\\\\BOD_BLAR.TTF', 'c:\\\\windows\\\\fonts\\\\mj.ttf', 'C:\\\\WINDOWS\\\\Fonts\\\\Nirmala.ttf', 'c:\\\\windows\\\\fonts\\\\brlnsr.ttf', 'c:\\\\windows\\\\fonts\\\\agencyb.ttf', 'C:\\\\WINDOWS\\\\Fonts\\\\LSANS.TTF', 'C:\\\\WINDOWS\\\\Fonts\\\\FRADM.TTF', 'c:\\\\windows\\\\fonts\\\\cambriab.ttf', 'C:\\\\WINDOWS\\\\Fonts\\\\GLSNECB.TTF', 'C:\\\\WINDOWS\\\\Fonts\\\\seguibli.ttf', 'C:\\\\WINDOWS\\\\Fonts\\\\consola.ttf', 'c:\\\\windows\\\\fonts\\\\leelauib.ttf', 'c:\\\\windows\\\\fonts\\\\msyi.ttf', 'C:\\\\WINDOWS\\\\Fonts\\\\FRAMDCN.TTF', 'C:\\\\WINDOWS\\\\Fonts\\\\FORTE.TTF', 'C:\\\\WINDOWS\\\\Fonts\\\\GOUDOSB.TTF', 'C:\\\\WINDOWS\\\\Fonts\\\\OCRAEXT.TTF', 'C:\\\\WINDOWS\\\\Fonts\\\\phagspa.ttf', 'C:\\\\WINDOWS\\\\Fonts\\\\comicz.ttf', 'C:\\\\WINDOWS\\\\Fonts\\\\segoeuiz.ttf', 'C:\\\\WINDOWS\\\\Fonts\\\\constanz.ttf', 'c:\\\\windows\\\\fonts\\\\mm.ttf', 'C:\\\\WINDOWS\\\\Fonts\\\\IMPRISHA.TTF', 'C:\\\\WINDOWS\\\\Fonts\\\\courbi.ttf', 'c:\\\\windows\\\\fonts\\\\antquai.ttf', 'C:\\\\WINDOWS\\\\Fonts\\\\GOUDOSI.TTF', 'C:\\\\WINDOWS\\\\Fonts\\\\HANDotumExt.ttf', 'C:\\\\WINDOWS\\\\Fonts\\\\TCB_____.TTF', 'c:\\\\windows\\\\fonts\\\\tccm____.ttf', 'c:\\\\windows\\\\fonts\\\\bod_cr.ttf', 'C:\\\\WINDOWS\\\\Fonts\\\\ARIALNB.TTF', 'c:\\\\windows\\\\fonts\\\\refspcl.ttf', 'C:\\\\WINDOWS\\\\Fonts\\\\verdanab.ttf', 'c:\\\\windows\\\\fonts\\\\fradm.ttf', 'C:\\\\WINDOWS\\\\Fonts\\\\georgiaz.ttf', 'c:\\\\windows\\\\fonts\\\\sylfaen.ttf', 'C:\\\\WINDOWS\\\\Fonts\\\\LFAXI.TTF', 'C:\\\\WINDOWS\\\\Fonts\\\\PERTIBD.TTF', 'C:\\\\WINDOWS\\\\Fonts\\\\H2MJSM.TTF', 'c:\\\\windows\\\\fonts\\\\papyrus.ttf', 'c:\\\\windows\\\\fonts\\\\parchm.ttf', 'C:\\\\WINDOWS\\\\Fonts\\\\GLECB.TTF', 'C:\\\\WINDOWS\\\\Fonts\\\\sylfaen.ttf', 'C:\\\\WINDOWS\\\\Fonts\\\\CALIFI.TTF', 'c:\\\\windows\\\\fonts\\\\bernhc.ttf', 'C:\\\\WINDOWS\\\\Fonts\\\\NanumBarunGothic.ttf', 'C:\\\\WINDOWS\\\\Fonts\\\\BOD_CI.TTF', 'C:\\\\WINDOWS\\\\Fonts\\\\H2PORM.TTF', 'c:\\\\windows\\\\fonts\\\\vladimir.ttf', 'c:\\\\windows\\\\fonts\\\\nirmalas.ttf', 'C:\\\\WINDOWS\\\\Fonts\\\\gadugi.ttf', 'c:\\\\windows\\\\fonts\\\\verdanab.ttf', 'C:\\\\WINDOWS\\\\Fonts\\\\H2MKPB.TTF', 'C:\\\\WINDOWS\\\\Fonts\\\\ENGR.TTF', 'c:\\\\windows\\\\fonts\\\\comicbd.ttf', 'C:\\\\WINDOWS\\\\Fonts\\\\CENTURY.TTF', 'C:\\\\WINDOWS\\\\Fonts\\\\HMFMPYUN.TTF', 'C:\\\\WINDOWS\\\\Fonts\\\\NirmalaS.ttf', 'c:\\\\windows\\\\fonts\\\\h2sa1m.ttf', 'c:\\\\windows\\\\fonts\\\\lsansi.ttf', 'c:\\\\windows\\\\fonts\\\\h2gtre.ttf', 'c:\\\\windows\\\\fonts\\\\bell.ttf', 'c:\\\\windows\\\\fonts\\\\snap____.ttf', 'C:\\\\WINDOWS\\\\Fonts\\\\CENSCBK.TTF', 'c:\\\\windows\\\\fonts\\\\jokerman.ttf', 'C:\\\\WINDOWS\\\\Fonts\\\\SNAP____.TTF', 'C:\\\\WINDOWS\\\\Fonts\\\\calibriz.ttf', 'C:\\\\WINDOWS\\\\Fonts\\\\GIGI.TTF', 'C:\\\\WINDOWS\\\\Fonts\\\\FRADMCN.TTF', 'c:\\\\windows\\\\fonts\\\\mistral.ttf', 'C:\\\\WINDOWS\\\\Fonts\\\\H2GSRB.TTF', 'C:\\\\WINDOWS\\\\Fonts\\\\lucon.ttf', 'c:\\\\windows\\\\fonts\\\\gil_____.ttf', 'C:\\\\WINDOWS\\\\Fonts\\\\verdana.ttf', 'C:\\\\WINDOWS\\\\Fonts\\\\timesbi.ttf', 'c:\\\\windows\\\\fonts\\\\gothic.ttf', 'c:\\\\windows\\\\fonts\\\\gothici.ttf', 'c:\\\\windows\\\\fonts\\\\glsnecb.ttf', 'C:\\\\WINDOWS\\\\Fonts\\\\ERASBD.TTF', 'C:\\\\WINDOWS\\\\Fonts\\\\RAGE.TTF', 'c:\\\\windows\\\\fonts\\\\calistbi.ttf', 'C:\\\\WINDOWS\\\\Fonts\\\\PLAYBILL.TTF', 'C:\\\\WINDOWS\\\\Fonts\\\\LeelUIsl.ttf', 'c:\\\\windows\\\\fonts\\\\candaraz.ttf', 'c:\\\\windows\\\\fonts\\\\poorich.ttf', 'c:\\\\windows\\\\fonts\\\\ngulim.ttf', 'C:\\\\WINDOWS\\\\Fonts\\\\constan.ttf', 'c:\\\\windows\\\\fonts\\\\perb____.ttf', 'c:\\\\windows\\\\fonts\\\\mod20.ttf', 'c:\\\\windows\\\\fonts\\\\seguibli.ttf', 'C:\\\\WINDOWS\\\\Fonts\\\\MISTRAL.TTF', 'C:\\\\WINDOWS\\\\Fonts\\\\HANBatangB.ttf', 'C:\\\\WINDOWS\\\\Fonts\\\\palab.ttf', 'c:\\\\windows\\\\fonts\\\\cambriaz.ttf', 'c:\\\\windows\\\\fonts\\\\scriptbl.ttf', 'c:\\\\windows\\\\fonts\\\\constanz.ttf', 'c:\\\\windows\\\\fonts\\\\playbill.ttf', 'C:\\\\WINDOWS\\\\Fonts\\\\tahoma.ttf', 'C:\\\\WINDOWS\\\\Fonts\\\\ONYX.TTF', 'c:\\\\windows\\\\fonts\\\\rockb.ttf', 'c:\\\\windows\\\\fonts\\\\timesi.ttf', 'c:\\\\windows\\\\fonts\\\\bahnschrift.ttf', 'C:\\\\WINDOWS\\\\Fonts\\\\trebuc.ttf', 'c:\\\\windows\\\\fonts\\\\felixti.ttf', 'c:\\\\windows\\\\fonts\\\\malgunbd.ttf', 'C:\\\\WINDOWS\\\\Fonts\\\\BOD_B.TTF', 'c:\\\\windows\\\\fonts\\\\leeluisl.ttf', 'c:\\\\windows\\\\fonts\\\\erasmd.ttf', 'c:\\\\windows\\\\fonts\\\\bod_i.ttf', 'c:\\\\windows\\\\fonts\\\\segoeuiz.ttf', 'c:\\\\windows\\\\fonts\\\\hanbatangextbb.ttf', 'C:\\\\WINDOWS\\\\Fonts\\\\georgia.ttf', 'c:\\\\windows\\\\fonts\\\\antquab.ttf', 'C:\\\\WINDOWS\\\\Fonts\\\\ITCBLKAD.TTF', 'C:\\\\WINDOWS\\\\Fonts\\\\PARCHM.TTF', 'c:\\\\windows\\\\fonts\\\\verdanaz.ttf', 'c:\\\\windows\\\\fonts\\\\califi.ttf', 'c:\\\\windows\\\\fonts\\\\gilb____.ttf', 'C:\\\\WINDOWS\\\\Fonts\\\\MATURASC.TTF', 'c:\\\\windows\\\\fonts\\\\onyx.ttf', 'c:\\\\windows\\\\fonts\\\\mp.ttf', 'c:\\\\windows\\\\fonts\\\\roccb___.ttf', 'C:\\\\WINDOWS\\\\Fonts\\\\GOTHICI.TTF', 'c:\\\\windows\\\\fonts\\\\hmkmrhd.ttf', 'c:\\\\windows\\\\fonts\\\\magnetob.ttf', 'c:\\\\windows\\\\fonts\\\\bod_bi.ttf', 'c:\\\\windows\\\\fonts\\\\bookos.ttf', 'C:\\\\WINDOWS\\\\Fonts\\\\MOD20.TTF', 'C:\\\\WINDOWS\\\\Fonts\\\\calibrii.ttf', 'C:\\\\WINDOWS\\\\Fonts\\\\H2GTRM.TTF', 'C:\\\\WINDOWS\\\\Fonts\\\\VLADIMIR.TTF', 'C:\\\\WINDOWS\\\\Fonts\\\\PAPYRUS.TTF', 'C:\\\\WINDOWS\\\\Fonts\\\\MK.TTF', 'C:\\\\WINDOWS\\\\Fonts\\\\OLDENGL.TTF', 'c:\\\\windows\\\\fonts\\\\hmfmold.ttf', 'c:\\\\windows\\\\fonts\\\\courbi.ttf', 'C:\\\\WINDOWS\\\\Fonts\\\\WINGDNG2.TTF', 'c:\\\\windows\\\\fonts\\\\mmrtextb.ttf', 'c:\\\\windows\\\\fonts\\\\comicz.ttf', 'c:\\\\windows\\\\fonts\\\\bod_cbi.ttf', 'C:\\\\WINDOWS\\\\Fonts\\\\BOD_CB.TTF', 'c:\\\\windows\\\\fonts\\\\arialn.ttf', 'C:\\\\WINDOWS\\\\Fonts\\\\BOD_CBI.TTF', 'C:\\\\WINDOWS\\\\Fonts\\\\GOTHIC.TTF', 'C:\\\\WINDOWS\\\\Fonts\\\\LFAXD.TTF', 'C:\\\\WINDOWS\\\\Fonts\\\\ntailu.ttf', 'C:\\\\WINDOWS\\\\Fonts\\\\ELEPHNT.TTF', 'C:\\\\WINDOWS\\\\Fonts\\\\HYHWPEQ.TTF', 'C:\\\\WINDOWS\\\\Fonts\\\\COPRGTB.TTF', 'c:\\\\windows\\\\fonts\\\\framdit.ttf', 'C:\\\\WINDOWS\\\\Fonts\\\\palai.ttf', 'c:\\\\windows\\\\fonts\\\\bod_cb.ttf', 'c:\\\\windows\\\\fonts\\\\brlnsdb.ttf', 'c:\\\\windows\\\\fonts\\\\coprgtb.ttf', 'c:\\\\windows\\\\fonts\\\\candara.ttf', 'c:\\\\windows\\\\fonts\\\\peri____.ttf', 'c:\\\\windows\\\\fonts\\\\h2gtrm.ttf', 'c:\\\\windows\\\\fonts\\\\arlrdbd.ttf', 'C:\\\\WINDOWS\\\\Fonts\\\\courbd.ttf', 'C:\\\\WINDOWS\\\\Fonts\\\\BERNHC.TTF', 'C:\\\\WINDOWS\\\\Fonts\\\\BELLB.TTF', 'C:\\\\WINDOWS\\\\Fonts\\\\ROCKBI.TTF', 'c:\\\\windows\\\\fonts\\\\elephnt.ttf', 'C:\\\\WINDOWS\\\\Fonts\\\\corbel.ttf', 'c:\\\\windows\\\\fonts\\\\lfaxd.ttf', 'C:\\\\WINDOWS\\\\Fonts\\\\segoeprb.ttf', 'C:\\\\WINDOWS\\\\Fonts\\\\Candaraz.ttf', 'c:\\\\windows\\\\fonts\\\\segoepr.ttf', 'c:\\\\windows\\\\fonts\\\\ltypeo.ttf', 'c:\\\\windows\\\\fonts\\\\century.ttf', 'C:\\\\WINDOWS\\\\Fonts\\\\LCALLIG.TTF', 'c:\\\\windows\\\\fonts\\\\segoesc.ttf', 'C:\\\\WINDOWS\\\\Fonts\\\\constani.ttf', 'C:\\\\WINDOWS\\\\Fonts\\\\MT.TTF', 'C:\\\\WINDOWS\\\\Fonts\\\\phagspab.ttf', 'C:\\\\WINDOWS\\\\Fonts\\\\MM.TTF', 'c:\\\\windows\\\\fonts\\\\schlbkb.ttf', 'c:\\\\windows\\\\fonts\\\\wingding.ttf', 'c:\\\\windows\\\\fonts\\\\h2porm.ttf', 'c:\\\\program files\\\\common files\\\\microsoft shared\\\\equation\\\\mtextra.ttf', 'C:\\\\WINDOWS\\\\Fonts\\\\BSSYM7.TTF', 'C:\\\\WINDOWS\\\\Fonts\\\\gadugib.ttf', 'C:\\\\WINDOWS\\\\Fonts\\\\seguisym.ttf', 'C:\\\\WINDOWS\\\\Fonts\\\\MG.TTF', 'c:\\\\windows\\\\fonts\\\\goudosb.ttf', 'C:\\\\WINDOWS\\\\Fonts\\\\msyi.ttf', 'C:\\\\WINDOWS\\\\Fonts\\\\MAGNETOB.TTF', 'C:\\\\WINDOWS\\\\Fonts\\\\CALISTI.TTF', 'c:\\\\windows\\\\fonts\\\\taile.ttf', 'c:\\\\windows\\\\fonts\\\\verdanai.ttf', 'c:\\\\windows\\\\fonts\\\\mh.ttf', 'c:\\\\windows\\\\fonts\\\\mtcorsva.ttf', 'c:\\\\windows\\\\fonts\\\\georgiai.ttf', 'c:\\\\windows\\\\fonts\\\\times.ttf', 'c:\\\\windows\\\\fonts\\\\rocc____.ttf', 'c:\\\\windows\\\\fonts\\\\califb.ttf', 'c:\\\\windows\\\\fonts\\\\gili____.ttf', 'c:\\\\windows\\\\fonts\\\\infroman.ttf', 'C:\\\\WINDOWS\\\\Fonts\\\\cambriab.ttf', 'c:\\\\windows\\\\fonts\\\\schlbki.ttf', 'c:\\\\windows\\\\fonts\\\\webdings.ttf', 'C:\\\\WINDOWS\\\\Fonts\\\\mmrtextb.ttf', 'c:\\\\windows\\\\fonts\\\\nanumgothicextrabold.ttf', 'C:\\\\WINDOWS\\\\Fonts\\\\HTOWERT.TTF', 'C:\\\\WINDOWS\\\\Fonts\\\\LSANSI.TTF', 'c:\\\\windows\\\\fonts\\\\nirmalab.ttf', 'C:\\\\WINDOWS\\\\Fonts\\\\Candarai.ttf', 'C:\\\\WINDOWS\\\\Fonts\\\\BELL.TTF', 'C:\\\\WINDOWS\\\\Fonts\\\\AGENCYB.TTF', 'c:\\\\windows\\\\fonts\\\\tccb____.ttf', 'C:\\\\WINDOWS\\\\Fonts\\\\ariali.ttf', 'C:\\\\WINDOWS\\\\Fonts\\\\ntailub.ttf', 'c:\\\\windows\\\\fonts\\\\goudos.ttf', 'C:\\\\WINDOWS\\\\Fonts\\\\seguibl.ttf', 'C:\\\\WINDOWS\\\\Fonts\\\\FRADMIT.TTF', 'c:\\\\windows\\\\fonts\\\\palabi.ttf', 'c:\\\\windows\\\\fonts\\\\h2mjsm.ttf', 'C:\\\\WINDOWS\\\\Fonts\\\\LSANSDI.TTF', 'C:\\\\WINDOWS\\\\Fonts\\\\ARLRDBD.TTF', 'c:\\\\windows\\\\fonts\\\\tcb_____.ttf', 'C:\\\\WINDOWS\\\\Fonts\\\\ITCEDSCR.TTF', 'C:\\\\WINDOWS\\\\Fonts\\\\MJ.TTF', 'C:\\\\WINDOWS\\\\Fonts\\\\webdings.ttf', 'c:\\\\windows\\\\fonts\\\\gadugi.ttf', 'C:\\\\WINDOWS\\\\Fonts\\\\segoeuib.ttf', 'c:\\\\windows\\\\fonts\\\\chiller.ttf', 'c:\\\\windows\\\\fonts\\\\brushsci.ttf', 'c:\\\\windows\\\\fonts\\\\lbritedi.ttf', 'C:\\\\WINDOWS\\\\Fonts\\\\TCMI____.TTF', 'C:\\\\WINDOWS\\\\Fonts\\\\COOPBL.TTF', 'c:\\\\windows\\\\fonts\\\\niageng.ttf', 'C:\\\\WINDOWS\\\\Fonts\\\\georgiab.ttf', 'C:\\\\WINDOWS\\\\Fonts\\\\GIL_____.TTF', 'C:\\\\WINDOWS\\\\Fonts\\\\Candarab.ttf', 'C:\\\\WINDOWS\\\\Fonts\\\\SCHLBKB.TTF', 'c:\\\\windows\\\\fonts\\\\seguisym.ttf', 'c:\\\\windows\\\\fonts\\\\segoeprb.ttf', 'C:\\\\WINDOWS\\\\Fonts\\\\POORICH.TTF', 'C:\\\\WINDOWS\\\\Fonts\\\\HMKMAMI.TTF', 'c:\\\\windows\\\\fonts\\\\monbaiti.ttf', 'c:\\\\windows\\\\fonts\\\\lhandw.ttf', 'c:\\\\windows\\\\fonts\\\\agencyr.ttf', 'c:\\\\windows\\\\fonts\\\\bookosbi.ttf', 'C:\\\\WINDOWS\\\\Fonts\\\\malgunsl.ttf', 'c:\\\\windows\\\\fonts\\\\bod_ci.ttf', 'C:\\\\WINDOWS\\\\Fonts\\\\MN.TTF', 'C:\\\\WINDOWS\\\\Fonts\\\\segoesc.ttf', 'c:\\\\windows\\\\fonts\\\\verdana.ttf', 'c:\\\\windows\\\\fonts\\\\seguisbi.ttf', 'c:\\\\windows\\\\fonts\\\\consolai.ttf', 'c:\\\\windows\\\\fonts\\\\courbd.ttf', 'c:\\\\windows\\\\fonts\\\\h2mjre.ttf', 'C:\\\\WINDOWS\\\\Fonts\\\\LFAXDI.TTF', 'c:\\\\windows\\\\fonts\\\\arial.ttf', 'c:\\\\windows\\\\fonts\\\\lfaxi.ttf', 'C:\\\\WINDOWS\\\\Fonts\\\\GILLUBCD.TTF', 'c:\\\\windows\\\\fonts\\\\segoeuii.ttf', 'C:\\\\WINDOWS\\\\Fonts\\\\HANBatangExtB.ttf', 'c:\\\\windows\\\\fonts\\\\constanb.ttf']\n",
      "702\n"
     ]
    }
   ],
   "source": [
    "font_list = fm.findSystemFonts(fontpaths=None, fontext='ttf')\n",
    "\n",
    "# ttf 폰트 전체갯수\n",
    "print(font_list)\n",
    "print(len(font_list)) "
   ]
  },
  {
   "cell_type": "code",
   "execution_count": 21,
   "metadata": {},
   "outputs": [],
   "source": [
    "# 아래와 같이 사용하면 한글 출력\n",
    "from matplotlib import font_manager, rc\n",
    "font_name = font_manager.FontProperties(fname=\"c:/Windows/Fonts/malgun.ttf\").get_name()\n",
    "rc('font', family=font_name)"
   ]
  }
 ],
 "metadata": {
  "kernelspec": {
   "display_name": "text3.5",
   "language": "python",
   "name": "text3.5"
  },
  "language_info": {
   "codemirror_mode": {
    "name": "ipython",
    "version": 3
   },
   "file_extension": ".py",
   "mimetype": "text/x-python",
   "name": "python",
   "nbconvert_exporter": "python",
   "pygments_lexer": "ipython3",
   "version": "3.5.5"
  }
 },
 "nbformat": 4,
 "nbformat_minor": 2
}

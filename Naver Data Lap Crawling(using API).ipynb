{
 "cells": [
  {
   "cell_type": "markdown",
   "metadata": {},
   "source": [
    "[naver api 사용하기](https://ericnjennifer.github.io/python_crawling/2018/01/05/PythonCrawling_Chapt4.html)  \n",
    "[naver 데이터 수집하기](https://ericnjennifer.github.io/python_crawling/2018/01/21/PythonCrawling_Chapt9.html)  \n",
    "[파이썬을 이용하여 naver 책 검색하기](https://wayhome25.github.io/python/2017/07/15/naver-search-api/)  \n",
    "[파이썬으로 네이버 검색 API 요약문 수집 및 형태소 분석하기](http://kkwaks.net/920)  \n",
    "[Naver Developers](https://developers.naver.com/docs/search/news/)  \n",
    "[웹크롤링 - Open API(Rest API)를 활용한 크롤링](http://www.fun-coding.org/crawl_basic3.html)  \n",
    "[통합 검색어 트랜드(naver)](https://developers.naver.com/docs/datalab/search/#%EA%B0%9C%EC%9A%94)  \n",
    "[matplotlib](https://matplotlib.org/2.0.2/users/legend_guide.html)  \n",
    "[Converting strings to Datatime](https://chrisalbon.com/python/basics/strings_to_datetime/)  \n",
    "[Pandas from dict](http://pandas.pydata.org/pandas-docs/version/0.22/generated/pandas.DataFrame.from_dict.html)  \n",
    "[matplotlib korean-1](http://pinkwink.kr/956)   \n",
    "[matplotlib korean-2](http://corazzon.github.io/matplotlib_font_setting)  \n",
    "아래 내용은 상기 링크를 정리한것."
   ]
  },
  {
   "cell_type": "markdown",
   "metadata": {},
   "source": [
    "# Naver Data Lap Crawling(using API)"
   ]
  },
  {
   "cell_type": "markdown",
   "metadata": {},
   "source": [
    "주의사항  \n",
    "* 하루 검색 기사수: API 호출 25000회/일로 제한.  \n",
    "최대 한번에 100개의 검색을 가지고 있으므로 250,000건의 데이터를 가지고 올 수 있다.\n",
    "* 검색 포인터 문제: 네이버 \"탄핵\"이라는 데이터를 검색하면 뉴스에서만 43만건이 검색되나 최대 1,000개 밖에 API를 이용하여 가지고 올 수 없다.(코드에서 설명)"
   ]
  },
  {
   "cell_type": "code",
   "execution_count": 7,
   "metadata": {},
   "outputs": [],
   "source": [
    "import os\n",
    "import sys\n",
    "import urllib.request\n",
    "import datetime\n",
    "import time\n",
    "import json\n",
    "from configparser import *"
   ]
  },
  {
   "cell_type": "code",
   "execution_count": 13,
   "metadata": {},
   "outputs": [
    {
     "name": "stdout",
     "output_type": "stream",
     "text": [
      "[2018-06-14 20:33:47.780386] Url Request Success\n",
      "[2018-06-14 20:33:47.850444] Url Request Success\n",
      "[2018-06-14 20:33:47.930568] Url Request Success\n",
      "[2018-06-14 20:33:48.012662] Url Request Success\n",
      "[2018-06-14 20:33:48.099780] Url Request Success\n",
      "[2018-06-14 20:33:48.184934] Url Request Success\n",
      "[2018-06-14 20:33:48.248105] Url Request Success\n",
      "[2018-06-14 20:33:48.469216] Url Request Success\n",
      "[2018-06-14 20:33:48.523250] Url Request Success\n",
      "[2018-06-14 20:33:48.594796] Url Request Success\n",
      "[2018-06-14 20:33:48.677822] Url Request Success\n",
      "[2018-06-14 20:33:48.765311] Url Request Success\n",
      "[2018-06-14 20:33:48.825373] Url Request Success\n",
      "[2018-06-14 20:33:48.888930] Url Request Success\n",
      "HTTP Error 429: Too Many Requests\n",
      "[2018-06-14 20:33:48.934490] Error for URL : https://openapi.naver.com/v1/search/news.json?query=%EC%B9%98%ED%82%A8&start=1&display=5\n",
      "치킨_naver_news.json SAVED\n"
     ]
    }
   ],
   "source": [
    "#[CODE 1]\n",
    "\n",
    "def get_request_url(url):\n",
    "    \n",
    "    req = urllib.request.Request(url)\n",
    "    req.add_header(\"X-Naver-Client-Id\", app_id)\n",
    "    req.add_header(\"X-Naver-Client-Secret\", app_secret)\n",
    "    try: \n",
    "        response = urllib.request.urlopen(req)\n",
    "        if response.getcode() == 200:\n",
    "            print (\"[%s] Url Request Success\" % datetime.datetime.now())\n",
    "            return response.read().decode('utf-8')\n",
    "    except Exception as e:\n",
    "        print(e)\n",
    "        print(\"[%s] Error for URL : %s\" % (datetime.datetime.now(), url))\n",
    "        return None\n",
    "\n",
    "#[CODE 2]\n",
    "\n",
    "def getNaverSearchResult(sNode, search_text, page_start, display):\n",
    "    \n",
    "    base = \"https://openapi.naver.com/v1/search\"\n",
    "    node = \"/%s.json\" % sNode\n",
    "    parameters = \"?query=%s&start=%s&display=%s\" % (urllib.parse.quote(search_text), page_start, display)\n",
    "    url = base + node + parameters\n",
    "    \n",
    "    retData = get_request_url(url)\n",
    "    \n",
    "    if (retData == None):\n",
    "        return None\n",
    "    else:\n",
    "        return json.loads(retData)\n",
    "\n",
    "#[CODE 3]\n",
    "\n",
    "def getPostData(post, jsonResult):\n",
    "    \n",
    "    title = post['title']\n",
    "    description = post['description']\n",
    "    org_link = post['originallink']\n",
    "    link = post['link']\n",
    "\n",
    "    #Tue, 14 Feb 2017 18:46:00 +0900\n",
    "\n",
    "    pDate = datetime.datetime.strptime(post['pubDate'],  '%a, %d %b %Y %H:%M:%S +0900')\n",
    "    pDate = pDate.strftime('%Y-%m-%d %H:%M:%S')\n",
    "    \n",
    "    jsonResult.append({'title':title, 'description': description,\n",
    "                    'org_link':org_link, 'link': org_link, \n",
    "                    'pDate':pDate})\n",
    "    return    \n",
    "\n",
    "def main():\n",
    "\n",
    "    jsonResult = []\n",
    "\n",
    "    # 'news', 'blog', 'cafearticle'\n",
    "\n",
    "    sNode = 'news'\n",
    "    search_text = '치킨'\n",
    "    display_count = 10\n",
    "    \n",
    "    jsonSearch = getNaverSearchResult(sNode, search_text, 1, display_count)\n",
    "    \n",
    "    while ((jsonSearch != None) and (jsonSearch['display'] != 0)):\n",
    "        for post in jsonSearch['items']:\n",
    "            getPostData(post, jsonResult)\n",
    "        \n",
    "        nStart = jsonSearch['start'] + jsonSearch['display']\n",
    "        jsonSearch = getNaverSearchResult(sNode, search_text, 1, 5)\n",
    "    \n",
    "    with open('%s_naver_%s.json' % (search_text, sNode), 'w', encoding='utf8') as outfile:\n",
    "        retJson = json.dumps(jsonResult,\n",
    "                        indent=4, sort_keys=True,\n",
    "                        ensure_ascii=False)\n",
    "        outfile.write(retJson)\n",
    "        \n",
    "    print ('%s_naver_%s.json SAVED' % (search_text, sNode))\n",
    "\n",
    "    \n",
    "if __name__ == '__main__':\n",
    "    main()"
   ]
  },
  {
   "cell_type": "markdown",
   "metadata": {},
   "source": [
    "# 데이터랩(크롤링)"
   ]
  },
  {
   "cell_type": "markdown",
   "metadata": {},
   "source": [
    "주의사항 \n",
    "* 통합 검색 트렌드 API의 하루 호출 한도 1000회를 주의"
   ]
  },
  {
   "cell_type": "code",
   "execution_count": 100,
   "metadata": {},
   "outputs": [],
   "source": [
    "import os\n",
    "import sys\n",
    "import urllib.request\n",
    "import json\n",
    "\n",
    "def data_lap_(i, k):\n",
    "    client_id = i\n",
    "    client_secret = k\n",
    "    url = \"https://openapi.naver.com/v1/datalab/search\";\n",
    "    body = \"{\\\"startDate\\\":\\\"2018-01-01\\\",\\\"endDate\\\":\\\"2018-04-30\\\",\\\"timeUnit\\\":\\\"month\\\",\\\"keywordGroups\\\":[{\\\"groupName\\\":\\\"한국\\\",\\\"keywords\\\":[\\\"북한\\\",\\\"미국\\\"]},{\\\"groupName\\\":\\\"미국\\\",\\\"keywords\\\":[\\\"북한\\\",\\\"회담\\\"]}],\\\"device\\\":\\\"pc\\\",\\\"ages\\\":[\\\"1\\\",\\\"2\\\"],\\\"gender\\\":\\\"f\\\"}\";\n",
    "\n",
    "    request = urllib.request.Request(url)\n",
    "    request.add_header(\"X-Naver-Client-Id\",client_id)\n",
    "    request.add_header(\"X-Naver-Client-Secret\",client_secret)\n",
    "    request.add_header(\"Content-Type\",\"application/json\")\n",
    "    response = urllib.request.urlopen(request, data=body.encode(\"utf-8\"))\n",
    "    rescode = response.getcode()\n",
    "    if(rescode==200):\n",
    "        response_body = response.read()\n",
    "#         print(response_body.decode('utf-8'))\n",
    "        return response_body.decode('utf-8')\n",
    "    else:\n",
    "        print(\"Error Code:\" + rescode)"
   ]
  },
  {
   "cell_type": "code",
   "execution_count": 101,
   "metadata": {
    "scrolled": true
   },
   "outputs": [
    {
     "name": "stdout",
     "output_type": "stream",
     "text": [
      "{\"startDate\":\"2018-01-01\",\"endDate\":\"2018-04-30\",\"timeUnit\":\"month\",\"results\":[{\"title\":\"한국\",\"keywords\":[\"북한\",\"미국\"],\"data\":[{\"period\":\"2018-01-01\",\"ratio\":44.08842},{\"period\":\"2018-02-01\",\"ratio\":32.36462},{\"period\":\"2018-03-01\",\"ratio\":51.98708},{\"period\":\"2018-04-01\",\"ratio\":100}]},{\"title\":\"미국\",\"keywords\":[\"북한\",\"회담\"],\"data\":[{\"period\":\"2018-01-01\",\"ratio\":26.20466},{\"period\":\"2018-02-01\",\"ratio\":17.80923},{\"period\":\"2018-03-01\",\"ratio\":25.60854},{\"period\":\"2018-04-01\",\"ratio\":68.45504}]}]}\n"
     ]
    }
   ],
   "source": [
    "data = data_lap_(,)\n",
    "print(data)"
   ]
  },
  {
   "cell_type": "code",
   "execution_count": 255,
   "metadata": {},
   "outputs": [
    {
     "data": {
      "text/plain": [
       "dict"
      ]
     },
     "execution_count": 255,
     "metadata": {},
     "output_type": "execute_result"
    }
   ],
   "source": [
    "type(data)"
   ]
  },
  {
   "cell_type": "code",
   "execution_count": 107,
   "metadata": {
    "scrolled": true
   },
   "outputs": [
    {
     "data": {
      "text/plain": [
       "dict"
      ]
     },
     "execution_count": 107,
     "metadata": {},
     "output_type": "execute_result"
    }
   ],
   "source": [
    "data = json.loads(data)\n",
    "type(data)"
   ]
  },
  {
   "cell_type": "code",
   "execution_count": 268,
   "metadata": {
    "scrolled": false
   },
   "outputs": [
    {
     "name": "stdout",
     "output_type": "stream",
     "text": [
      "DatetimeIndex(['2018-01-01', '2018-02-01', '2018-03-01', '2018-04-01'], dtype='datetime64[ns]', freq=None)\n",
      "DatetimeIndex(['2018-01-01', '2018-02-01', '2018-03-01', '2018-04-01'], dtype='datetime64[ns]', freq=None)\n",
      "[ 44.08842  32.36462  51.98708 100.     ]\n",
      "[26.20466 17.80923 25.60854 68.45504]\n",
      "한국 미국\n"
     ]
    },
    {
     "data": {
      "image/png": "[encoded data removed]",
      "text/plain": [
       "<Figure size 1080x720 with 1 Axes>"
      ]
     },
     "metadata": {},
     "output_type": "display_data"
    }
   ],
   "source": [
    "import numpy as np\n",
    "import pandas as pd\n",
    "from datetime import datetime\n",
    "from dateutil.parser import parse\n",
    "import matplotlib.pyplot as plt\n",
    "\n",
    "x_1 = []\n",
    "y_1 = []\n",
    "\n",
    "x_2 = []\n",
    "y_2 = []\n",
    " \n",
    "for i in range(len(data['results'][0]['data'])):\n",
    "#     print(i)\n",
    "#     print(data['results'][i])\n",
    "#     print(data['results'][i]['data'])\n",
    "#     x = []\n",
    "#     y = []\n",
    "    \n",
    "    x_1.append(data['results'][0]['data'][i]['period'])\n",
    "    y_1.append(data['results'][0]['data'][i]['ratio'])\n",
    "    \n",
    "    x_2.append(data['results'][1]['data'][i]['period'])\n",
    "    y_2.append(data['results'][1]['data'][i]['ratio'])\n",
    "    \n",
    "    \n",
    "\n",
    "#     for j in range(len(data['results'][i]['data'])):\n",
    "# #         print(data['results'][i]['data'][j])\n",
    "# #         print(data['results'][i]['data'][j]['ratio'])\n",
    "# #         print(data['results'][i]['data'][j]['period'])\n",
    "#         date_fc = pandas.to_datetime(data['results'][i]['data'][j]['period'])\n",
    "# #         value = pandas.to_numeric(data['results'][i]['data'][j]['ratio'])\n",
    "#         x.append(data['results'][0]['data'][j]['period'])\n",
    "#         y.append(data['results'][i]['data'][j]['ratio'])\n",
    "\n",
    "#     print(type(value), value)\n",
    "# print(x_1)\n",
    "# print(y_1)\n",
    "# date_fc = pandas.to_datetime(data['results'][0]['data'][i]['period'])\n",
    "\n",
    "x_1 = pandas.to_datetime(x_1)\n",
    "y_1 = pandas.to_numeric(y_1)\n",
    "x_2 = pandas.to_datetime(x_2)\n",
    "y_2 = pandas.to_numeric(y_2)\n",
    "print(x_1)\n",
    "print(x_2)\n",
    "print(y_1)\n",
    "print(y_2)\n",
    "print(data['results'][0]['title'], data['results'][1]['title'])\n",
    "plt.figure(figsize=(15,10))\n",
    "plt.grid()\n",
    "plt.plot(x_1, y_1, label = data['results'][0]['title'])\n",
    "plt.plot(x_2, y_2, label = data['results'][1]['title'])\n",
    "plt.rc('font', size=12)\n",
    "plt.xlabel(\"period\", fontsize=20)\n",
    "plt.ylabel(\"ratio\", fontsize=20)\n",
    "plt.legend()\n",
    "plt.show()"
   ]
  },
  {
   "cell_type": "markdown",
   "metadata": {},
   "source": [
    "## 한글폰트 설정"
   ]
  },
  {
   "cell_type": "markdown",
   "metadata": {},
   "source": [
    "matplotlib의 버전과 위치정보를 가져온다."
   ]
  },
  {
   "cell_type": "code",
   "execution_count": 263,
   "metadata": {},
   "outputs": [
    {
     "name": "stdout",
     "output_type": "stream",
     "text": [
      "버전:  2.2.2\n",
      "설치 위치:  C:\\Users\\Andrew\\AppData\\Local\\conda\\conda\\envs\\text3.5\\lib\\site-packages\\matplotlib\\__init__.py\n",
      "설정 위치:  C:\\Users\\Andrew\\.matplotlib\n",
      "캐시 위치:  C:\\Users\\Andrew\\.matplotlib\n"
     ]
    }
   ],
   "source": [
    "import matplotlib as mpl\n",
    "import matplotlib.font_manager as fm\n",
    "\n",
    "# 그래프에서 마이너스 폰트 깨지는 문제에 대한 대처\n",
    "mpl.rcParams['axes.unicode_minus'] = False\n",
    "\n",
    "print ('버전: ', mpl.__version__)\n",
    "print ('설치 위치: ', mpl.__file__)\n",
    "print ('설정 위치: ', mpl.get_configdir())\n",
    "print ('캐시 위치: ', mpl.get_cachedir())"
   ]
  },
  {
   "cell_type": "markdown",
   "metadata": {},
   "source": [
    "matplotlib의 위치를 이용하여 터미널로 이동"
   ]
  },
  {
   "cell_type": "code",
   "execution_count": 259,
   "metadata": {},
   "outputs": [
    {
     "name": "stdout",
     "output_type": "stream",
     "text": [
      "설정파일 위치:  C:\\Users\\Andrew\\AppData\\Local\\conda\\conda\\envs\\text3.5\\lib\\site-packages\\matplotlib\\mpl-data\\matplotlibrc\n"
     ]
    }
   ],
   "source": [
    "print ('설정파일 위치: ', mpl.matplotlib_fname())"
   ]
  },
  {
   "cell_type": "markdown",
   "metadata": {},
   "source": [
    "설치된 폰트를 찍어본다."
   ]
  },
  {
   "cell_type": "code",
   "execution_count": 262,
   "metadata": {},
   "outputs": [
    {
     "name": "stdout",
     "output_type": "stream",
     "text": [
      "688\n"
     ]
    }
   ],
   "source": [
    "font_list = fm.findSystemFonts(fontpaths=None, fontext='ttf')\n",
    "\n",
    "# ttf 폰트 전체갯수\n",
    "print(len(font_list)) "
   ]
  },
  {
   "cell_type": "code",
   "execution_count": 265,
   "metadata": {},
   "outputs": [
    {
     "name": "stdout",
     "output_type": "stream",
     "text": [
      "0\n"
     ]
    },
    {
     "ename": "NameError",
     "evalue": "name 'font_manager' is not defined",
     "output_type": "error",
     "traceback": [
      "\u001b[1;31m---------------------------------------------------------------------------\u001b[0m",
      "\u001b[1;31mNameError\u001b[0m                                 Traceback (most recent call last)",
      "\u001b[1;32m<ipython-input-265-f21ad8fd9c45>\u001b[0m in \u001b[0;36m<module>\u001b[1;34m()\u001b[0m\n\u001b[0;32m      3\u001b[0m \u001b[1;33m\u001b[0m\u001b[0m\n\u001b[0;32m      4\u001b[0m \u001b[1;33m\u001b[0m\u001b[0m\n\u001b[1;32m----> 5\u001b[1;33m \u001b[0mfont_name\u001b[0m \u001b[1;33m=\u001b[0m \u001b[0mfont_manager\u001b[0m\u001b[1;33m.\u001b[0m\u001b[0mFontProperties\u001b[0m\u001b[1;33m(\u001b[0m\u001b[0mfname\u001b[0m\u001b[1;33m=\u001b[0m\u001b[1;34m\"c:/Windows/Fonts/malgun.ttf\"\u001b[0m\u001b[1;33m)\u001b[0m\u001b[1;33m.\u001b[0m\u001b[0mget_name\u001b[0m\u001b[1;33m(\u001b[0m\u001b[1;33m)\u001b[0m\u001b[1;33m\u001b[0m\u001b[0m\n\u001b[0m\u001b[0;32m      6\u001b[0m \u001b[0mrc\u001b[0m\u001b[1;33m(\u001b[0m\u001b[1;34m'font'\u001b[0m\u001b[1;33m,\u001b[0m \u001b[0mfamily\u001b[0m\u001b[1;33m=\u001b[0m\u001b[0mfont_name\u001b[0m\u001b[1;33m)\u001b[0m\u001b[1;33m\u001b[0m\u001b[0m\n",
      "\u001b[1;31mNameError\u001b[0m: name 'font_manager' is not defined"
     ]
    }
   ],
   "source": [
    "font_list_mac = fm.OSXInstalledFonts()\n",
    "print(len(font_list_mac))\n",
    "\n",
    "\n",
    "font_name = font_manager.FontProperties(fname=\"c:/Windows/Fonts/malgun.ttf\").get_name()\n",
    "rc('font', family=font_name)"
   ]
  }
 ],
 "metadata": {
  "kernelspec": {
   "display_name": "text3.5",
   "language": "python",
   "name": "text3.5"
  },
  "language_info": {
   "codemirror_mode": {
    "name": "ipython",
    "version": 3
   },
   "file_extension": ".py",
   "mimetype": "text/x-python",
   "name": "python",
   "nbconvert_exporter": "python",
   "pygments_lexer": "ipython3",
   "version": "3.5.5"
  }
 },
 "nbformat": 4,
 "nbformat_minor": 2
}

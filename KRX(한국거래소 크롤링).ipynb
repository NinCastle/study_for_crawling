{
 "cells": [
  {
   "cell_type": "markdown",
   "metadata": {},
   "source": [
    "# KRX(한국거래소 크롤링)"
   ]
  },
  {
   "cell_type": "code",
   "execution_count": 7,
   "metadata": {},
   "outputs": [],
   "source": [
    "from selenium import webdriver\n",
    "from selenium.webdriver.common.keys import Keys\n",
    "\n",
    "driver = webdriver.Chrome('D:\\chromedriver_win32/chromedriver')\n",
    "\n",
    "driver.implicitly_wait(3)\n",
    "\n",
    "driver.get(\"http://marketdata.krx.co.kr/mdi#document=040201\")\n",
    "\n",
    "\n",
    "\n",
    "element = driver.find_element_by_xpath('//*[@name=\"snb_search\"]')\n",
    "\n",
    "element.clear() #버튼 클릭\n",
    "element.send_keys('30015 주식 > 순위정보 > 시가총액 상/하위')\n",
    "element.send_keys(Keys.ENTER)\n",
    "\n",
    "driver.implicitly_wait(3)\n",
    "_date = driver.find_element_by_xpath('//*[@name=\"schdate\"]')\n",
    "driver.implicitly_wait(3)\n",
    "def date(start):\n",
    "    _date.clear()\n",
    "    _date.send_keys(start)\n",
    "    \n",
    "    driver.find_element_by_xpath('//*[@id=\"form34173cb38f07f89ddbebc2ac9128303f\"]/dl[4]/dd/div/button').click()\n",
    "    driver.find_element_by_xpath('//*[@id=\"form34173cb38f07f89ddbebc2ac9128303f\"]/dl[4]/dd/div/div/div[2]/button[1]').click()\n",
    "    driver.find_element_by_xpath('//*[@id=\"form34173cb38f07f89ddbebc2ac9128303f\"]/div/button').click()\n",
    "    driver.find_element_by_xpath('//*[@id=\"btnid34173cb38f07f89ddbebc2ac9128303f\"]').click()\n",
    "#     driver.find_element_by_xpath('//*[@class=\"btn-board btn-board-search\"]').click()\n",
    "            \n",
    "date(20170608)\n",
    "download = driver.find_element_by_xpath('//*[@id=\"form34173cb38f07f89ddbebc2ac9128303f\"]/div/span/button[4]')\n",
    "download.click()"
   ]
  }
 ],
 "metadata": {
  "kernelspec": {
   "display_name": "text3.5",
   "language": "python",
   "name": "text3.5"
  },
  "language_info": {
   "codemirror_mode": {
    "name": "ipython",
    "version": 3
   },
   "file_extension": ".py",
   "mimetype": "text/x-python",
   "name": "python",
   "nbconvert_exporter": "python",
   "pygments_lexer": "ipython3",
   "version": "3.5.5"
  }
 },
 "nbformat": 4,
 "nbformat_minor": 2
}

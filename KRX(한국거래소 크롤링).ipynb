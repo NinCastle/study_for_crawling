{
 "cells": [
  {
   "cell_type": "markdown",
   "metadata": {},
   "source": [
    "# KRX(한국거래소 크롤링)"
   ]
  },
  {
   "cell_type": "code",
   "execution_count": 100,
   "metadata": {},
   "outputs": [],
   "source": [
    "from selenium import webdriver\n",
    "from selenium.webdriver.common.keys import Keys\n",
    "\n",
    "driver = webdriver.Chrome('D:\\chromedriver_win32/chromedriver')\n",
    "\n",
    "driver.implicitly_wait(3)\n",
    "\n",
    "driver.get(\"http://marketdata.krx.co.kr/mdi#document=040201\")\n",
    "\n",
    "\n",
    "\n",
    "element = driver.find_element_by_xpath('//*[@name=\"snb_search\"]')\n",
    "\n",
    "element.clear() #버튼 클릭\n",
    "element.send_keys('30015 주식 > 순위정보 > 시가총액 상/하위')\n",
    "element.send_keys(Keys.ENTER)\n",
    "\n",
    "\n",
    "_date = driver.find_element_by_xpath('//*[@name=\"schdate\"]')\n",
    "\n",
    "def date(start, end):\n",
    "    _date.clear()\n",
    "    _date.send_keys(start)\n",
    "    \n",
    "    driver.find_element_by_xpath('//*[@id=\"form34173cb38f07f89ddbebc2ac9128303f\"]/dl[4]/dd/div/button').click()\n",
    "    driver.find_element_by_xpath('//*[@id=\"form34173cb38f07f89ddbebc2ac9128303f\"]/dl[4]/dd/div/div/div[2]/button[1]').click()\n",
    "    driver.find_element_by_xpath('//*[@id=\"form34173cb38f07f89ddbebc2ac9128303f\"]/div/button').click()\n",
    "    driver.find_element_by_xpath('//*[@id=\"btnid34173cb38f07f89ddbebc2ac9128303f\"]').click()\n",
    "#     driver.find_element_by_xpath('//*[@class=\"btn-board btn-board-search\"]').click()\n",
    "    #     for i in range(start, end+1):\n",
    "#         _date.send_keys(start)\n",
    "#         if True ==:\n",
    "#             _date.send_keys(i)\n",
    "            \n",
    "date(20170608, 20180608)\n",
    "# download = driver.find_element_by_xpath('//*[@id=\"form34173cb38f07f89ddbebc2ac9128303f\"]/div/span/button[4]')\n",
    "# download.click()\n"
   ]
  },
  {
   "cell_type": "code",
   "execution_count": null,
   "metadata": {},
   "outputs": [],
   "source": [
    "//*[@id=\"schdate72b32a1f754ba1c09b3695e0cb6cde7f\n",
    "    \n",
    "//*[@id=\"form9a1158154dfa42caddbd0694a4e9bdc8\"]/dl[4]/dd/div/button\n",
    "    \n",
    "    \n",
    "    "
   ]
  },
  {
   "cell_type": "code",
   "execution_count": null,
   "metadata": {},
   "outputs": [],
   "source": [
    "from BeautifulSoup import BeautifulSoup\n",
    "\n",
    "URL = \"http://marketdata.krx.co.kr/mdi#document=040201\"\n",
    "\n",
    "def crawling (URL)"
   ]
  },
  {
   "cell_type": "code",
   "execution_count": null,
   "metadata": {},
   "outputs": [],
   "source": [
    "## 크롤링 함수\n",
    "def get_text(URL):\n",
    "    source_code_from_URL = urllib.request.urlopen(URL)\n",
    "    '''\n",
    "    해당 웹주소를 열고 Beautifulsoup으로 변수화 시킨다.\n",
    "    BeautifulSoup객체 생성자의 2번재 인자로 'lxml'을 사용해 기존 'html'방식 대식 'lxml'방식으로 파싱하고,\n",
    "    한글이 포함된 기사이기 때문에 encoding을 utf-8 방식을 채용했다.\n",
    "    ''' \n",
    "    soup = BeautifulSoup(source_code_from_URL, 'lxml', from_encoding='utf-8')\n",
    "    text = ''\n",
    "    ## find_all \n",
    "    for t in soup.find_all('div', id=\"articleBodyContents\"):\n",
    "        text = text + str(t.find_all(text=True))\n",
    "    return text\n",
    "\n",
    "## 메인 함수\n",
    "def main():\n",
    "    open_output_file = open(output_file_name, 'w')\n",
    "    result_text = get_text(URL)\n",
    "    open_output_file.write(result_text)\n",
    "    open_output_file.close()"
   ]
  }
 ],
 "metadata": {
  "kernelspec": {
   "display_name": "text3.5",
   "language": "python",
   "name": "text3.5"
  },
  "language_info": {
   "codemirror_mode": {
    "name": "ipython",
    "version": 3
   },
   "file_extension": ".py",
   "mimetype": "text/x-python",
   "name": "python",
   "nbconvert_exporter": "python",
   "pygments_lexer": "ipython3",
   "version": "3.5.5"
  }
 },
 "nbformat": 4,
 "nbformat_minor": 2
}

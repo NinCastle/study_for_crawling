{
 "cells": [
  {
   "cell_type": "markdown",
   "metadata": {},
   "source": [
    "[파이썬으로 특정 키워드를 포함하는 신문기사 웹크롤링](http://yoonpunk.tistory.com/4)  \n",
    "[파이썬 웹크롤러를 만드는 기초](http://f4strada4.cafe24.com/?p=1121)  \n",
    "[파이썬으로 웹 크롤러 만들기](http://www.hanbit.co.kr/channel/category/category_view.html?cms_code=CMS6168044195)  \n",
    "[html 버전](https://twpower.github.io/84-how-to-use-beautiful-soup)  \n",
    "[KoNLPy 논문](http://dmlab.snu.ac.kr/~lucypark/docs/2014-10-10-hclt.pdf)  \n",
    "[감성분석기 개발](http://hugman.re.kr/blog/sentiment_analysis/)  \n",
    "[자연어 처리 문제 유형](http://hugman.re.kr/blog/nlp_problem_category/) \n",
    "[파이썬으로 감정사전 구축해보기-1(명사)](http://jjssoolee.tistory.com/5)\n",
    "아래 내용은 상기 링크를 정리한것."
   ]
  },
  {
   "cell_type": "markdown",
   "metadata": {},
   "source": [
    "# 네이버 뉴스 기사 크롤링"
   ]
  },
  {
   "cell_type": "code",
   "execution_count": 1,
   "metadata": {
    "collapsed": true
   },
   "outputs": [],
   "source": [
    "## bs4모듈에서 BeautifulSoup 함수를 불러온다.\n",
    "from bs4 import BeautifulSoup \n",
    "## URL을 열고 HTML을 읽는 모듈, urllib를 불러온다.\n",
    "import urllib.request "
   ]
  },
  {
   "cell_type": "code",
   "execution_count": 2,
   "metadata": {
    "collapsed": true
   },
   "outputs": [],
   "source": [
    "## output file name\n",
    "output_file_name = 'naver_crawling.txt'\n",
    "## URL\n",
    "URL = 'http://news.naver.com/main/read.nhn?mode=LS2D&mid=shm&sid1=105&sid2=732&oid=015&aid=0003956688'"
   ]
  },
  {
   "cell_type": "markdown",
   "metadata": {},
   "source": [
    "## find()와 findAll()\n",
    "find()와 findAll()은 BeautifulSoup에서 가장 자주 쓰이는 함수이다.  \n",
    "이 함수를 쓰면 HTML 페이지에서 원하는 태그를 다양한 속성에 따라 쉽게 필터링이 가능하다.  \n",
    "두 함수는 거의 비슷하며 함수의 정의 또한 비슷하다\n",
    "```python\n",
    "find_all(tag, attributes, recursive, text, limit, keywords)\n",
    "find(tag, attributes, recursive, text, keywords)\n",
    "```\n",
    "find_all(): 조건에 맞는 모든 태그들을 가져온다.  \n",
    "find():해당 조건에 맞는 하나의 태그를 가져온다.   \n",
    "중복이면 첫번째 태그를 가져온다."
   ]
  },
  {
   "cell_type": "code",
   "execution_count": 3,
   "metadata": {
    "collapsed": true
   },
   "outputs": [],
   "source": [
    "## 크롤링 함수\n",
    "def get_text(URL):\n",
    "    source_code_from_URL = urllib.request.urlopen(URL)\n",
    "    '''\n",
    "    해당 웹주소를 열고 Beautifulsoup으로 변수화 시킨다.\n",
    "    BeautifulSoup객체 생성자의 2번재 인자로 'lxml'을 사용해 기존 'html'방식 대식 'lxml'방식으로 파싱하고,\n",
    "    한글이 포함된 기사이기 때문에 encoding을 utf-8 방식을 채용했다.\n",
    "    ''' \n",
    "    soup = BeautifulSoup(source_code_from_URL, 'lxml', from_encoding='utf-8')\n",
    "    text = ''\n",
    "    ## find_all \n",
    "    for t in soup.find_all('div', id=\"articleBodyContents\"):\n",
    "        text = text + str(t.find_all(text=True))\n",
    "    return text\n",
    "\n",
    "## 메인 함수\n",
    "def main():\n",
    "    open_output_file = open(output_file_name, 'w')\n",
    "    result_text = get_text(URL)\n",
    "    open_output_file.write(result_text)\n",
    "    open_output_file.close()"
   ]
  },
  {
   "cell_type": "markdown",
   "metadata": {},
   "source": [
    "[html 버전](https://twpower.github.io/84-how-to-use-beautiful-soup)  "
   ]
  },
  {
   "cell_type": "code",
   "execution_count": 4,
   "metadata": {},
   "outputs": [
    {
     "data": {
      "text/plain": [
       "'\\nhtml버전으로 크롤링하기\\nwith open(\"example.html\") as fp:\\n    soup = BeautifulSoup(fp, \\'html.parser\\')\\n'"
      ]
     },
     "execution_count": 4,
     "metadata": {},
     "output_type": "execute_result"
    }
   ],
   "source": [
    "'''\n",
    "html버전으로 크롤링하기\n",
    "with open(\"example.html\") as fp:\n",
    "    soup = BeautifulSoup(fp, 'html.parser')\n",
    "'''"
   ]
  },
  {
   "cell_type": "code",
   "execution_count": 5,
   "metadata": {
    "collapsed": true
   },
   "outputs": [],
   "source": [
    "'''\n",
    "메인 함수를 별도로 만들고 __name__을 이용해 main함수를 실행시켰다.\n",
    "'''\n",
    "if __name__ == '__main__':\n",
    "    main()"
   ]
  },
  {
   "cell_type": "code",
   "execution_count": 8,
   "metadata": {
    "collapsed": true
   },
   "outputs": [],
   "source": [
    "'''\n",
    "텍스트 정제 모듈\n",
    "특수기호 모두 제거\n",
    "'''\n",
    "import re\n",
    "\n",
    "## 입,출력 파일명\n",
    "input_file_name = 'naver_crawling.txt'\n",
    "output_file_name = 'naver_crawling_filter.txt'\n",
    "\n",
    "## fillter 함수\n",
    "def filter_text(text):\n",
    "    filter_text = re.sub('[a-zA-Z]', '', text)\n",
    "    filter_text = re.sub('[\\{\\}\\[\\]\\/?.,;:|\\)*~`!^\\-_+<>@\\#$%&\\\\\\=\\(\\'\\\"]','',filter_text)\n",
    "    return filter_text\n",
    "\n",
    "# 메인함수\n",
    "def main():\n",
    "    read_file = open(input_file_name, 'r')\n",
    "    \n",
    "    write_file = open(output_file_name, 'w')\n",
    "    text = read_file.read()\n",
    "    print(\"---------수정 전---------\")\n",
    "    print(text)\n",
    "    text = filter_text(text)\n",
    "    print()\n",
    "    print(\"---------수정 후---------\")\n",
    "    print(text)\n",
    "    write_file.write(text)\n",
    "    read_file.close()\n",
    "    write_file.close()"
   ]
  },
  {
   "cell_type": "code",
   "execution_count": 9,
   "metadata": {
    "scrolled": false
   },
   "outputs": [
    {
     "name": "stdout",
     "output_type": "stream",
     "text": [
      "---------수정 전---------\n",
      "['\\n', ' 본문 내용 ', '\\n', ' TV플레이어 ', '\\n', ' // TV플레이어 ', '\\n', '\\n// flash 오류를 우회하기 위한 함수 추가\\nfunction _flash_removeCallback() {}\\n', '\\n', \"'유니버시티 블록체인 리서치 이니셔티브' 프로젝트 수행\", '고려대 본관. / 사진=한경 DB', '고려대가 글로벌 블록체인 기업 리플(Ripple)과 파트너십을 체결해 관련 전문인력 양성과 연구 프로젝트 수행에 나선다.', '리플은 블록체인을 이용해 저렴하면서 빠른 송금 서비스를 제공하는 회사로 자체 암호토큰 XRP를 이용한 서비스도 제공한다.', '7일 고려대에 따르면 이 대학 정보보호대학원 블록체인보안연구센터는 지난 4일 리플과 장기 연구 프로젝트 ‘유니버시티 블록체인 리서치 이니셔티브(University Blockchain Research Initiative)’ 수행을 위한 파트너십을 맺었다.', '세계 유수의 대학들과 함께 블록체인 및 암호화폐 관련 학문적·기술적 연구를 수행하도록 지원하는 연구 프로젝트다. 이 프로젝트 수행을 위해 리플과 파트너십을 맺은 대학은 MIT(매사추세츠공대) 프린스턴대 스탠퍼드대 등 전세계 17곳으로 국내에서는 고려대가 유일하다.', '파트너십 체결에 따라 고려대 블록체인보안연구센터는 블록체인 합의 알고리즘의 안전성, 스마트 콘트랙트(smart contract)의 안전성 등 블록체인 및 암호화폐에 필요한 보안 기술을 중점적으로 연구하며 리플은 연구 수행에 필요한 재정적·기술적 지원을 제공한다.', '아울러 사회적으로 부족한 블록체인 전문가를 양성하는 효과도 있을 것으로 예상된다.', '에릭 반 밀텐버그 리플 비즈니스 운영 수석부사장은 “‘유니버시티 블록체인 리서치 이니셔티브’는 대학이 블록체인 기술의 혁신에 있어 중요 역할을 할 수 있게 하는 디딤돌이 될 것”이라며 “블록체인 관련 산업체에서 일할 수 있는 인력을 길러내는 효과도 있을 것”이라고 말했다.', '이상진 고려대 정보보호대학원장도 “이번 파트너십 체결과 프로젝트 수행으로 리플의 실제 데이터에 접근해 분석해보는 기회를 갖게 됐다. 실용적인 블록체인 보안기술 개발에 중요한 역할을 할 것으로 기대된다”고 부연했다.', '김봉구 한경닷컴 기자 ', 'kbk9@hankyung.com', '기사제보 및 보도자료 ', 'open@hankyung.com', '[', '한경닷컴 바로가기', '] [', '글방', '] [', '모바일한경 구독신청', '] ', 'ⓒ 한국경제 & ', 'hankyung.com', ', 무단전재 및 재배포 금지\\n\\t', ' // 본문 내용 ', '\\n']\n",
      "\n",
      "---------수정 후---------\n",
      "  본문 내용    플레이어     플레이어     오류를 우회하기 위한 함수 추가    유니버시티 블록체인 리서치 이니셔티브 프로젝트 수행 고려대 본관  사진한경  고려대가 글로벌 블록체인 기업 리플과 파트너십을 체결해 관련 전문인력 양성과 연구 프로젝트 수행에 나선다 리플은 블록체인을 이용해 저렴하면서 빠른 송금 서비스를 제공하는 회사로 자체 암호토큰 를 이용한 서비스도 제공한다 7일 고려대에 따르면 이 대학 정보보호대학원 블록체인보안연구센터는 지난 4일 리플과 장기 연구 프로젝트 ‘유니버시티 블록체인 리서치 이니셔티브   ’ 수행을 위한 파트너십을 맺었다 세계 유수의 대학들과 함께 블록체인 및 암호화폐 관련 학문적·기술적 연구를 수행하도록 지원하는 연구 프로젝트다 이 프로젝트 수행을 위해 리플과 파트너십을 맺은 대학은 매사추세츠공대 프린스턴대 스탠퍼드대 등 전세계 17곳으로 국내에서는 고려대가 유일하다 파트너십 체결에 따라 고려대 블록체인보안연구센터는 블록체인 합의 알고리즘의 안전성 스마트 콘트랙트 의 안전성 등 블록체인 및 암호화폐에 필요한 보안 기술을 중점적으로 연구하며 리플은 연구 수행에 필요한 재정적·기술적 지원을 제공한다 아울러 사회적으로 부족한 블록체인 전문가를 양성하는 효과도 있을 것으로 예상된다 에릭 반 밀텐버그 리플 비즈니스 운영 수석부사장은 “‘유니버시티 블록체인 리서치 이니셔티브’는 대학이 블록체인 기술의 혁신에 있어 중요 역할을 할 수 있게 하는 디딤돌이 될 것”이라며 “블록체인 관련 산업체에서 일할 수 있는 인력을 길러내는 효과도 있을 것”이라고 말했다 이상진 고려대 정보보호대학원장도 “이번 파트너십 체결과 프로젝트 수행으로 리플의 실제 데이터에 접근해 분석해보는 기회를 갖게 됐다 실용적인 블록체인 보안기술 개발에 중요한 역할을 할 것으로 기대된다”고 부연했다 김봉구 한경닷컴 기자  9 기사제보 및 보도자료    한경닷컴 바로가기   글방   모바일한경 구독신청   ⓒ 한국경제     무단전재 및 재배포 금지   본문 내용  \n"
     ]
    }
   ],
   "source": [
    "if __name__ == '__main__':\n",
    "    main()"
   ]
  },
  {
   "cell_type": "markdown",
   "metadata": {},
   "source": [
    "# 형태소 분석과 품사 태깅"
   ]
  },
  {
   "cell_type": "code",
   "execution_count": 10,
   "metadata": {},
   "outputs": [
    {
     "name": "stdout",
     "output_type": "stream",
     "text": [
      "  본문 내용    플레이어     플레이어     오류를 우회하기 위한 함수 추가    유니버시티 블록체인 리서치 이니셔티브 프로젝트 수행 고려대 본관  사진한경  고려대가 글로벌 블록체인 기업 리플과 파트너십을 체결해 관련 전문인력 양성과 연구 프로젝트 수행에 나선다 리플은 블록체인을 이용해 저렴하면서 빠른 송금 서비스를 제공하는 회사로 자체 암호토큰 를 이용한 서비스도 제공한다 7일 고려대에 따르면 이 대학 정보보호대학원 블록체인보안연구센터는 지난 4일 리플과 장기 연구 프로젝트 ‘유니버시티 블록체인 리서치 이니셔티브   ’ 수행을 위한 파트너십을 맺었다 세계 유수의 대학들과 함께 블록체인 및 암호화폐 관련 학문적·기술적 연구를 수행하도록 지원하는 연구 프로젝트다 이 프로젝트 수행을 위해 리플과 파트너십을 맺은 대학은 매사추세츠공대 프린스턴대 스탠퍼드대 등 전세계 17곳으로 국내에서는 고려대가 유일하다 파트너십 체결에 따라 고려대 블록체인보안연구센터는 블록체인 합의 알고리즘의 안전성 스마트 콘트랙트 의 안전성 등 블록체인 및 암호화폐에 필요한 보안 기술을 중점적으로 연구하며 리플은 연구 수행에 필요한 재정적·기술적 지원을 제공한다 아울러 사회적으로 부족한 블록체인 전문가를 양성하는 효과도 있을 것으로 예상된다 에릭 반 밀텐버그 리플 비즈니스 운영 수석부사장은 “‘유니버시티 블록체인 리서치 이니셔티브’는 대학이 블록체인 기술의 혁신에 있어 중요 역할을 할 수 있게 하는 디딤돌이 될 것”이라며 “블록체인 관련 산업체에서 일할 수 있는 인력을 길러내는 효과도 있을 것”이라고 말했다 이상진 고려대 정보보호대학원장도 “이번 파트너십 체결과 프로젝트 수행으로 리플의 실제 데이터에 접근해 분석해보는 기회를 갖게 됐다 실용적인 블록체인 보안기술 개발에 중요한 역할을 할 것으로 기대된다”고 부연했다 김봉구 한경닷컴 기자  9 기사제보 및 보도자료    한경닷컴 바로가기   글방   모바일한경 구독신청   ⓒ 한국경제     무단전재 및 재배포 금지   본문 내용  \n"
     ]
    }
   ],
   "source": [
    "from konlpy.corpus import kolaw\n",
    "from konlpy.utils import concordance\n",
    "f = open('naver_crawling_filter.txt', 'r')\n",
    "line = f.read()\n",
    "print(line)"
   ]
  },
  {
   "cell_type": "code",
   "execution_count": 11,
   "metadata": {},
   "outputs": [
    {
     "name": "stdout",
     "output_type": "stream",
     "text": [
      "[('본문', 'NNG'),\n",
      " ('내용', 'NNG'),\n",
      " ('플레이어', 'NNG'),\n",
      " ('플레이어', 'NNG'),\n",
      " ('오류', 'NNG'),\n",
      " ('를', 'JKO'),\n",
      " ('우회', 'NNG'),\n",
      " ('하', 'XSV'),\n",
      " ('기', 'ETN'),\n",
      " ('위하', 'VV'),\n",
      " ('ㄴ', 'ETD'),\n",
      " ('함수', 'NNG'),\n",
      " ('추가', 'NNG'),\n",
      " ('유니', 'NNP'),\n",
      " ('버시', 'UN'),\n",
      " ('티', 'NNG'),\n",
      " ('블록', 'NNG'),\n",
      " ('체인', 'NNG'),\n",
      " ('리서치', 'NNG'),\n",
      " ('이니셔티브', 'NNG'),\n",
      " ('프로젝트', 'NNG'),\n",
      " ('수행', 'NNG'),\n",
      " ('고려대', 'NNG'),\n",
      " ('본관', 'NNG'),\n",
      " ('사진', 'NNG'),\n",
      " ('하', 'XSV'),\n",
      " ('ㄴ', 'ETD'),\n",
      " ('경', 'NNG'),\n",
      " ('고려대', 'NNG'),\n",
      " ('가', 'JKS'),\n",
      " ('글로벌', 'NNG'),\n",
      " ('블록', 'NNG'),\n",
      " ('체인', 'NNG'),\n",
      " ('기업', 'NNG'),\n",
      " ('리플', 'NNG'),\n",
      " ('과', 'JC'),\n",
      " ('파트너십', 'NNG'),\n",
      " ('을', 'JKO'),\n",
      " ('체결', 'NNG'),\n",
      " ('하', 'XSV'),\n",
      " ('어', 'ECS'),\n",
      " ('관련', 'NNG'),\n",
      " ('전문', 'NNG'),\n",
      " ('인력', 'NNG'),\n",
      " ('양성', 'NNG'),\n",
      " ('과', 'JC'),\n",
      " ('연구', 'NNG'),\n",
      " ('프로젝트', 'NNG'),\n",
      " ('수행', 'NNG'),\n",
      " ('에', 'JKM'),\n",
      " ('나서', 'VV'),\n",
      " ('ㄴ다', 'ECS'),\n",
      " ('리플', 'NNG'),\n",
      " ('은', 'JX'),\n",
      " ('블록', 'NNG'),\n",
      " ('체인', 'NNG'),\n",
      " ('을', 'JKO'),\n",
      " ('이용', 'NNG'),\n",
      " ('하', 'XSV'),\n",
      " ('어', 'ECS'),\n",
      " ('저렴', 'XR'),\n",
      " ('하', 'XSA'),\n",
      " ('면서', 'ECE'),\n",
      " ('빠르', 'VA'),\n",
      " ('ㄴ', 'ETD'),\n",
      " ('송금', 'NNG'),\n",
      " ('서비스', 'NNG'),\n",
      " ('를', 'JKO'),\n",
      " ('제공', 'NNG'),\n",
      " ('하', 'XSV'),\n",
      " ('는', 'ETD'),\n",
      " ('회사', 'NNG'),\n",
      " ('로', 'JKM'),\n",
      " ('자체', 'NNG'),\n",
      " ('암호', 'NNG'),\n",
      " ('토큰', 'NNG'),\n",
      " ('를', 'UN'),\n",
      " ('이용', 'NNG'),\n",
      " ('하', 'XSV'),\n",
      " ('ㄴ', 'ETD'),\n",
      " ('서비스', 'NNG'),\n",
      " ('도', 'JX'),\n",
      " ('제공', 'NNG'),\n",
      " ('하', 'XSV'),\n",
      " ('ㄴ다', 'ECS'),\n",
      " ('7', 'NR'),\n",
      " ('일', 'NNM'),\n",
      " ('고려대', 'NNG'),\n",
      " ('에', 'JKM'),\n",
      " ('따르', 'VV'),\n",
      " ('면', 'ECE'),\n",
      " ('이', 'MDT'),\n",
      " ('대학', 'NNG'),\n",
      " ('정보', 'NNG'),\n",
      " ('보호', 'NNG'),\n",
      " ('대학원', 'NNG'),\n",
      " ('블록', 'NNG'),\n",
      " ('체인', 'NNG'),\n",
      " ('보안', 'NNG'),\n",
      " ('연구', 'NNG'),\n",
      " ('센터', 'NNG'),\n",
      " ('는', 'JX'),\n",
      " ('지나', 'VV'),\n",
      " ('ㄴ', 'ETD'),\n",
      " ('4', 'NR'),\n",
      " ('일', 'NNM'),\n",
      " ('리플', 'NNG'),\n",
      " ('과', 'JC'),\n",
      " ('장기', 'NNG'),\n",
      " ('연구', 'NNG'),\n",
      " ('프로젝트', 'NNG'),\n",
      " ('‘', 'SS'),\n",
      " ('유니', 'NNP'),\n",
      " ('버시', 'UN'),\n",
      " ('티', 'NNG'),\n",
      " ('블록', 'NNG'),\n",
      " ('체인', 'NNG'),\n",
      " ('리서치', 'NNG'),\n",
      " ('이니셔티브', 'NNG'),\n",
      " ('’', 'SS'),\n",
      " ('수행', 'NNG'),\n",
      " ('을', 'JKO'),\n",
      " ('위하', 'VV'),\n",
      " ('ㄴ', 'ETD'),\n",
      " ('파트너십', 'NNG'),\n",
      " ('을', 'JKO'),\n",
      " ('맺었', 'UN'),\n",
      " ('다', 'MAG'),\n",
      " ('세계', 'NNG'),\n",
      " ('유수', 'NNG'),\n",
      " ('의', 'JKG'),\n",
      " ('대학', 'NNG'),\n",
      " ('들', 'XSN'),\n",
      " ('과', 'JKO'),\n",
      " ('함께', 'MAG'),\n",
      " ('블록', 'NNG'),\n",
      " ('체인', 'NNG'),\n",
      " ('및', 'MAG'),\n",
      " ('암호', 'NNG'),\n",
      " ('화폐', 'NNG'),\n",
      " ('관련', 'NNG'),\n",
      " ('학문적', 'NNG'),\n",
      " ('·', 'SP'),\n",
      " ('기술적', 'NNG'),\n",
      " ('연구', 'NNG'),\n",
      " ('를', 'JKO'),\n",
      " ('수행', 'NNG'),\n",
      " ('하', 'XSV'),\n",
      " ('도록', 'ECD'),\n",
      " ('지원', 'NNG'),\n",
      " ('하', 'XSV'),\n",
      " ('는', 'ETD'),\n",
      " ('연구', 'NNG'),\n",
      " ('프로젝트', 'NNG'),\n",
      " ('이', 'VCP'),\n",
      " ('다', 'EFN'),\n",
      " ('이', 'MDT'),\n",
      " ('프로젝트', 'NNG'),\n",
      " ('수행', 'NNG'),\n",
      " ('을', 'JKO'),\n",
      " ('위하', 'VV'),\n",
      " ('어', 'ECS'),\n",
      " ('리플', 'NNG'),\n",
      " ('과', 'JC'),\n",
      " ('파트너십', 'NNG'),\n",
      " ('을', 'JKO'),\n",
      " ('맺', 'VV'),\n",
      " ('은', 'ETD'),\n",
      " ('대학', 'NNG'),\n",
      " ('은', 'JX'),\n",
      " ('매사', 'NNG'),\n",
      " ('추세', 'NNG'),\n",
      " ('츠', 'UN'),\n",
      " ('공대', 'NNG'),\n",
      " ('프린스', 'NNG'),\n",
      " ('턴', 'NNG'),\n",
      " ('대', 'NNG'),\n",
      " ('스탠', 'UN'),\n",
      " ('푸', 'VV'),\n",
      " ('어', 'ECS'),\n",
      " ('드', 'XPN'),\n",
      " ('대', 'NNG'),\n",
      " ('등', 'NNB'),\n",
      " ('전', 'NNG'),\n",
      " ('세계', 'NNG'),\n",
      " ('17', 'NR'),\n",
      " ('곳', 'NNG'),\n",
      " ('으로', 'JKM'),\n",
      " ('국내', 'NNG'),\n",
      " ('에서', 'JKM'),\n",
      " ('는', 'JX'),\n",
      " ('고려대', 'NNG'),\n",
      " ('가', 'JKS'),\n",
      " ('유일', 'NNG'),\n",
      " ('하다', 'NNP'),\n",
      " ('파트너십', 'NNG'),\n",
      " ('체결', 'NNG'),\n",
      " ('에', 'JKM'),\n",
      " ('따르', 'VV'),\n",
      " ('아', 'ECS'),\n",
      " ('고려대', 'NNG'),\n",
      " ('블록', 'NNG'),\n",
      " ('체인', 'NNG'),\n",
      " ('보안', 'NNG'),\n",
      " ('연구', 'NNG'),\n",
      " ('센터', 'NNG'),\n",
      " ('는', 'JX'),\n",
      " ('블록', 'NNG'),\n",
      " ('체인', 'NNG'),\n",
      " ('합의', 'NNG'),\n",
      " ('알고리즘', 'NNG'),\n",
      " ('의', 'JKG'),\n",
      " ('안전성', 'NNG'),\n",
      " ('스마트', 'NNP'),\n",
      " ('콘트랙트', 'NNG'),\n",
      " ('의', 'NNG'),\n",
      " ('안전성', 'NNG'),\n",
      " ('등', 'NNB'),\n",
      " ('블록', 'NNG'),\n",
      " ('체인', 'NNG'),\n",
      " ('및', 'MAG'),\n",
      " ('암호', 'NNG'),\n",
      " ('화폐', 'NNG'),\n",
      " ('에', 'JKM'),\n",
      " ('필요', 'NNG'),\n",
      " ('하', 'XSV'),\n",
      " ('ㄴ', 'ETD'),\n",
      " ('보안', 'NNG'),\n",
      " ('기술', 'NNG'),\n",
      " ('을', 'JKO'),\n",
      " ('중점적', 'NNG'),\n",
      " ('으로', 'JKM'),\n",
      " ('연구', 'NNG'),\n",
      " ('하', 'XSV'),\n",
      " ('며', 'ECE'),\n",
      " ('리플', 'NNG'),\n",
      " ('은', 'JX'),\n",
      " ('연구', 'NNG'),\n",
      " ('수행', 'NNG'),\n",
      " ('에', 'JKM'),\n",
      " ('필요', 'NNG'),\n",
      " ('하', 'XSV'),\n",
      " ('ㄴ', 'ETD'),\n",
      " ('재정적', 'NNG'),\n",
      " ('·', 'SP'),\n",
      " ('기술적', 'NNG'),\n",
      " ('지원', 'NNG'),\n",
      " ('을', 'JKO'),\n",
      " ('제공', 'NNG'),\n",
      " ('하', 'XSV'),\n",
      " ('ㄴ다', 'ECS'),\n",
      " ('아울러', 'MAG'),\n",
      " ('사회적', 'NNG'),\n",
      " ('으로', 'JKM'),\n",
      " ('부족', 'NNG'),\n",
      " ('하', 'XSV'),\n",
      " ('ㄴ', 'ETD'),\n",
      " ('블록', 'NNG'),\n",
      " ('체인', 'NNG'),\n",
      " ('전문가', 'NNG'),\n",
      " ('를', 'JKO'),\n",
      " ('양성', 'NNG'),\n",
      " ('하', 'XSV'),\n",
      " ('는', 'ETD'),\n",
      " ('효과', 'NNG'),\n",
      " ('도', 'JX'),\n",
      " ('있', 'VV'),\n",
      " ('을', 'ETD'),\n",
      " ('것', 'NNB'),\n",
      " ('으로', 'JKM'),\n",
      " ('예상', 'NNG'),\n",
      " ('되', 'XSV'),\n",
      " ('ㄴ다', 'EFN'),\n",
      " ('에', 'JC'),\n",
      " ('릭', 'UN'),\n",
      " ('반', 'NNG'),\n",
      " ('밀', 'VV'),\n",
      " ('ㄹ', 'ETD'),\n",
      " ('터', 'NNB'),\n",
      " ('이', 'VCP'),\n",
      " ('ㄴ', 'ETD'),\n",
      " ('버그', 'NNG'),\n",
      " ('리플', 'NNG'),\n",
      " ('비즈니스', 'NNG'),\n",
      " ('운영', 'NNG'),\n",
      " ('수석', 'NNG'),\n",
      " ('부사장', 'NNG'),\n",
      " ('은', 'JX'),\n",
      " ('“', 'SS'),\n",
      " ('‘', 'SS'),\n",
      " ('유니', 'NNP'),\n",
      " ('버시', 'UN'),\n",
      " ('티', 'NNG'),\n",
      " ('블록', 'NNG'),\n",
      " ('체인', 'NNG'),\n",
      " ('리서치', 'NNG'),\n",
      " ('이니셔티브', 'NNG'),\n",
      " ('’', 'SS'),\n",
      " ('늘', 'VV'),\n",
      " ('ㄴ', 'ETD'),\n",
      " ('대학', 'NNG'),\n",
      " ('이', 'JKS'),\n",
      " ('블록', 'NNG'),\n",
      " ('체인', 'NNG'),\n",
      " ('기술', 'NNG'),\n",
      " ('의', 'JKG'),\n",
      " ('혁신', 'NNG'),\n",
      " ('에', 'JKM'),\n",
      " ('있', 'VV'),\n",
      " ('어', 'ECD'),\n",
      " ('중요', 'NNG'),\n",
      " ('역할', 'NNG'),\n",
      " ('을', 'JKO'),\n",
      " ('하', 'VV'),\n",
      " ('ㄹ', 'ETD'),\n",
      " ('수', 'NNB'),\n",
      " ('있', 'VV'),\n",
      " ('게', 'ECD'),\n",
      " ('하', 'VV'),\n",
      " ('는', 'ETD'),\n",
      " ('디딤돌', 'NNG'),\n",
      " ('이', 'JKC'),\n",
      " ('되', 'VV'),\n",
      " ('ㄹ', 'ETD'),\n",
      " ('것', 'NNB'),\n",
      " ('”', 'SS'),\n",
      " ('이', 'VCP'),\n",
      " ('라며', 'ECE'),\n",
      " ('“', 'SS'),\n",
      " ('블', 'VV'),\n",
      " ('ㄹ', 'ETD'),\n",
      " ('록', 'NNG'),\n",
      " ('체인', 'NNG'),\n",
      " ('관련', 'NNG'),\n",
      " ('산업체', 'NNG'),\n",
      " ('에서', 'JKM'),\n",
      " ('일하', 'VV'),\n",
      " ('ㄹ', 'ETD'),\n",
      " ('수', 'NNB'),\n",
      " ('있', 'VV'),\n",
      " ('는', 'ETD'),\n",
      " ('인력', 'NNG'),\n",
      " ('을', 'JKO'),\n",
      " ('기르', 'VV'),\n",
      " ('어', 'ECS'),\n",
      " ('내', 'VXV'),\n",
      " ('는', 'ETD'),\n",
      " ('효과', 'NNG'),\n",
      " ('도', 'JX'),\n",
      " ('있', 'VV'),\n",
      " ('을', 'ETD'),\n",
      " ('것', 'NNB'),\n",
      " ('”', 'SS'),\n",
      " ('이', 'VCP'),\n",
      " ('라고', 'ECD'),\n",
      " ('말하', 'VV'),\n",
      " ('었', 'EPT'),\n",
      " ('다', 'ECS'),\n",
      " ('이상진', 'NNG'),\n",
      " ('고려대', 'NNG'),\n",
      " ('정보', 'NNG'),\n",
      " ('보호', 'NNG'),\n",
      " ('대학', 'NNG'),\n",
      " ('원장', 'NNG'),\n",
      " ('도', 'JX'),\n",
      " ('“', 'SS'),\n",
      " ('이번', 'NNG'),\n",
      " ('파트너십', 'NNG'),\n",
      " ('체', 'NNG'),\n",
      " ('결과', 'NNG'),\n",
      " ('프로젝트', 'NNG'),\n",
      " ('수행', 'NNG'),\n",
      " ('으로', 'JKM'),\n",
      " ('리플', 'NNG'),\n",
      " ('의', 'JKG'),\n",
      " ('실제', 'NNG'),\n",
      " ('데이터', 'NNG'),\n",
      " ('에', 'JKM'),\n",
      " ('접근', 'NNG'),\n",
      " ('하', 'XSV'),\n",
      " ('어', 'ECS'),\n",
      " ('분석', 'NNG'),\n",
      " ('하', 'XSV'),\n",
      " ('어', 'ECS'),\n",
      " ('보', 'VXV'),\n",
      " ('는', 'ETD'),\n",
      " ('기회', 'NNG'),\n",
      " ('를', 'JKO'),\n",
      " ('갖', 'VV'),\n",
      " ('게', 'ECD'),\n",
      " ('되', 'VV'),\n",
      " ('었', 'EPT'),\n",
      " ('다', 'ECS'),\n",
      " ('실용적', 'NNG'),\n",
      " ('이', 'VCP'),\n",
      " ('ㄴ', 'ETD'),\n",
      " ('블록', 'NNG'),\n",
      " ('체인', 'NNG'),\n",
      " ('보안', 'NNG'),\n",
      " ('기술', 'NNG'),\n",
      " ('개발', 'NNG'),\n",
      " ('에', 'JKM'),\n",
      " ('중요', 'NNG'),\n",
      " ('하', 'XSV'),\n",
      " ('ㄴ', 'ETD'),\n",
      " ('역할', 'NNG'),\n",
      " ('을', 'JKO'),\n",
      " ('하', 'VV'),\n",
      " ('ㄹ', 'ETD'),\n",
      " ('것', 'NNB'),\n",
      " ('으로', 'JKM'),\n",
      " ('기대되', 'VV'),\n",
      " ('ㄴ다', 'ECS'),\n",
      " ('”', 'SS'),\n",
      " ('고', 'NNG'),\n",
      " ('부연', 'NNG'),\n",
      " ('하', 'XSV'),\n",
      " ('었', 'EPT'),\n",
      " ('다', 'ECS'),\n",
      " ('김', 'NNG'),\n",
      " ('봉', 'NNG'),\n",
      " ('구', 'XSN'),\n",
      " ('한', 'MDN'),\n",
      " ('경', 'NNG'),\n",
      " ('닷컴', 'NNG'),\n",
      " ('기자', 'NNG'),\n",
      " ('9', 'NR'),\n",
      " ('기사', 'NNG'),\n",
      " ('제보', 'NNG'),\n",
      " ('및', 'MAG'),\n",
      " ('보도', 'NNG'),\n",
      " ('자료', 'NNG'),\n",
      " ('한', 'MDN'),\n",
      " ('경', 'NNG'),\n",
      " ('닷컴', 'NNG'),\n",
      " ('바로', 'MAG'),\n",
      " ('가기', 'NNG'),\n",
      " ('글방', 'NNG'),\n",
      " ('모바일', 'NNG'),\n",
      " ('하', 'XSV'),\n",
      " ('ㄴ', 'ETD'),\n",
      " ('경', 'NNG'),\n",
      " ('구독', 'NNG'),\n",
      " ('신청', 'NNG'),\n",
      " ('ⓒ', 'SW'),\n",
      " ('한국', 'NNG'),\n",
      " ('경제', 'NNG'),\n",
      " ('무단', 'NNG'),\n",
      " ('전재', 'NNG'),\n",
      " ('및', 'MAG'),\n",
      " ('재', 'XPN'),\n",
      " ('배포', 'NNG'),\n",
      " ('금지', 'NNG'),\n",
      " ('본문', 'NNG'),\n",
      " ('내용', 'NNG')]\n"
     ]
    }
   ],
   "source": [
    "from konlpy.tag import Kkma\n",
    "from konlpy.utils import pprint\n",
    "kkma = Kkma()\n",
    "pprint(kkma.pos(line))"
   ]
  },
  {
   "cell_type": "markdown",
   "metadata": {},
   "source": [
    "# 키워드 분석"
   ]
  },
  {
   "cell_type": "markdown",
   "metadata": {},
   "source": [
    "## 최빈 형태소 Top5"
   ]
  },
  {
   "cell_type": "code",
   "execution_count": 26,
   "metadata": {},
   "outputs": [
    {
     "name": "stdout",
     "output_type": "stream",
     "text": [
      "[(('하', 'XSV'), 20),\n",
      " (('ㄴ', 'ETD'), 14),\n",
      " (('체인', 'NNG'), 14),\n",
      " (('블록', 'NNG'), 13),\n",
      " (('을', 'JKO'), 11)]\n",
      "\n",
      "[(('하', 'XSV'), 20), (('ㄴ', 'ETD'), 14), (('체인', 'NNG'), 14), (('블록', 'NNG'), 13), (('을', 'JKO'), 11)]\n",
      "['본문', '내용', '플레이어', '오류', '우회', '함수', '추가', '유니', '유니버시티', '버시', '티', '블록', '블록체인', '체인', '리서치', '이니셔티브', '프로젝트', '수행', '고려대', '본관', '사진', '경', '글로벌', '기업', '리플', '파트너십', '체결', '관련', '전문', '전문인력', '인력', '양성', '연구', '이용', '송금', '서비스', '제공', '회사', '자체', '암호', '암호토큰', '토큰', '를', '7', '7일', '일', '대학', '정보', '정보보호대학원', '보호', '대학원', '보안', '보안연구센터', '센터', '4', '4일', '장기', '맺었', '세계', '유수', '암호화폐', '화폐', '학문적', '기술적', '지원', '매사', '매사추세츠공대', '추세', '츠', '공대', '프린스', '프린스턴대', '턴', '대', '스탠', '등', '전', '전세계', '17', '17곳', '곳', '국내', '유일', '유일하다', '하다', '합의', '알고리즘', '안전성', '스마트', '콘트랙트', '의', '필요', '기술', '중점적', '재정적', '사회적', '부족', '전문가', '효과', '예상', '릭', '반', '터', '버그', '비즈니스', '운영', '수석', '수석부사장', '부사장', '혁신', '중요', '역할', '수', '디딤돌', '록', '록체인', '산업체', '이상진', '정보보호대학원장', '원장', '이번', '체', '체결과', '결과', '실제', '데이터', '접근', '분석', '기회', '실용적', '보안기술', '개발', '고', '부연', '김', '김봉', '봉', '경닷컴', '닷컴', '기자', '9', '기사', '기사제보', '제보', '보도', '보도자료', '자료', '가기', '글방', '모바일', '구독', '구독신청', '신청', '한국', '한국경제', '경제', '무단', '무단전재', '전재', '배포', '금지']\n"
     ]
    }
   ],
   "source": [
    "from collections import Counter\n",
    "import konlpy\n",
    "\n",
    "doc = line\n",
    "pos = kkma.pos(doc)\n",
    "cnt = Counter(pos)\n",
    "konlpy.utils.pprint(cnt.most_common(5))\n",
    "print()\n",
    "print(cnt.most_common(5))\n",
    "print(nouns)"
   ]
  },
  {
   "cell_type": "markdown",
   "metadata": {},
   "source": [
    "## 문서 탐색"
   ]
  },
  {
   "cell_type": "code",
   "execution_count": 15,
   "metadata": {
    "scrolled": false
   },
   "outputs": [
    {
     "name": "stdout",
     "output_type": "stream",
     "text": [
      "nchars  :  997\n",
      "ntokens :  222\n",
      "nmorphs :  215\n",
      "\n",
      "Top 10 frequent morphemes:\n",
      "[(('하', 'XSV'), 20),\n",
      " (('ㄴ', 'ETD'), 14),\n",
      " (('체인', 'NNG'), 14),\n",
      " (('블록', 'NNG'), 13),\n",
      " (('을', 'JKO'), 11),\n",
      " (('에', 'JKM'), 8),\n",
      " (('연구', 'NNG'), 8),\n",
      " (('리플', 'NNG'), 7),\n",
      " (('수행', 'NNG'), 7),\n",
      " (('는', 'ETD'), 7)]\n",
      "\n",
      "Word of \"블록\" in the document : \n",
      "10\t함수 추가 유니버시티 블록체인 리서치 이니셔티브\n",
      "20\t사진한경 고려대가 글로벌 블록체인 기업 리플과\n",
      "33\t수행에 나선다 리플은 블록체인을 이용해 저렴하면서\n",
      "53\t이 대학 정보보호대학원 블록체인보안연구센터는 지난 4일\n",
      "61\t연구 프로젝트 ‘유니버시티 블록체인 리서치 이니셔티브\n",
      "73\t유수의 대학들과 함께 블록체인 및 암호화폐\n",
      "104\t체결에 따라 고려대 블록체인보안연구센터는 블록체인 합의\n",
      "105\t따라 고려대 블록체인보안연구센터는 블록체인 합의 알고리즘의\n",
      "114\t의 안전성 등 블록체인 및 암호화폐에\n",
      "132\t아울러 사회적으로 부족한 블록체인 전문가를 양성하는\n",
      "147\t운영 수석부사장은 “‘유니버시티 블록체인 리서치 이니셔티브’는\n",
      "151\t리서치 이니셔티브’는 대학이 블록체인 기술의 혁신에\n",
      "164\t디딤돌이 될 것”이라며 “블록체인 관련 산업체에서\n",
      "193\t갖게 됐다 실용적인 블록체인 보안기술 개발에\n"
     ]
    },
    {
     "data": {
      "image/png": "[encoded data removed]",
      "text/plain": [
       "<Figure size 432x288 with 1 Axes>"
      ]
     },
     "metadata": {},
     "output_type": "display_data"
    }
   ],
   "source": [
    "from collections import Counter\n",
    "\n",
    "from konlpy.corpus import kolaw\n",
    "from konlpy.tag import Hannanum\n",
    "from konlpy.utils import concordance, pprint\n",
    "from matplotlib import pyplot\n",
    "\n",
    "def draw_zipf(count_list, filename, color = 'blue', marker = 'o'):\n",
    "    sorted_list = sorted(count_list, reverse=True)\n",
    "    pyplot.plot(sorted_list, color=color, marker=marker)\n",
    "    pyplot.xscale('log')\n",
    "    pyplot.yscale('log')\n",
    "    pyplot.savefig(filename)\n",
    "    \n",
    "print('nchars  : ', len(doc))\n",
    "print('ntokens : ', len(doc.split()))\n",
    "print('nmorphs : ', len(set(pos)))\n",
    "print('\\nTop 10 frequent morphemes:'); pprint(cnt.most_common(10))\n",
    "print('\\nWord of \"블록\" in the document : ')\n",
    "concordance(u'블록', doc, show=True)\n",
    "draw_zipf(cnt.values(), 'zipf.png')"
   ]
  },
  {
   "cell_type": "markdown",
   "metadata": {},
   "source": [
    "# 감성 분석기"
   ]
  },
  {
   "cell_type": "markdown",
   "metadata": {},
   "source": [
    "## 문제 정의\n",
    "감성분석은 감성의 극성(Polarity)를 긍정/부정/중립/객과의 4가지로 구분한다.  \n",
    "ex)\n",
    "* [긍정] 다음에 또 가려 구요!\n",
    "* [부정] 비좁은 느낌을 가져다 줄지도!\n",
    "* [중립] 역시나 비싼 호텔인가 싶어요.\n",
    "* [객관] 무료 Wi-Fi\n"
   ]
  },
  {
   "cell_type": "markdown",
   "metadata": {},
   "source": [
    "이러한 유형의 **자연어 처리 문제**는 대표적인 N21 문제이다.  \n",
    "즉, N 개의 token을 읽고, 1개의 값으로 출력하는 문제이다.  "
   ]
  },
  {
   "cell_type": "markdown",
   "metadata": {},
   "source": [
    "### 자연어 처리 문제 유형(NLP problem category)"
   ]
  },
  {
   "cell_type": "markdown",
   "metadata": {},
   "source": [
    "keyword : end - to - end(한쪽 끝에서 다른쪽 끝까지)"
   ]
  },
  {
   "cell_type": "markdown",
   "metadata": {},
   "source": [
    "어떠한 [종류의 자연어 처리 문제](http://hugman.re.kr/blog/nlp_problem_category/)든지 End-to-end 입장에서 추상화 하면 몇가지 유형으로 분류 할 수 있다.  \n",
    "일단 한번 문제를 잘 정의된 frame으로 유형화 시켜놓으면,  \n",
    "각 유형 별로 잘 작동하는 방법론을 순차적으로 적용해 볼수 있다.  \n",
    "아래의 표가 그 유형이다.  \n",
    "[표 : 자연어 처리 문제 유형, (둥근 박스(round box): 입력단위(token))]\n",
    "![자연어 처리 문제 유형](http://hugman.re.kr/static/media/uploads/nlp_problems.png)"
   ]
  },
  {
   "cell_type": "markdown",
   "metadata": {},
   "source": [
    "## 데이터 수집 및 가공\n",
    "상용 시스템을 위한 구현이 아니므로,  \n",
    "문장 길이가 128 문자(character) 미만인 문장들만 활용하여,  \n",
    "훈련 데이터를 만들어 둔다.  \n",
    "이러한 데이터를 적당히 가공하여 아래와 같은 포맷으로 만든다.  \n",
    "![train data](http://hugman.re.kr/static/media/uploads/senti_data.png)"
   ]
  },
  {
   "cell_type": "markdown",
   "metadata": {},
   "source": [
    "## 감성사전 구축해보기-1(명사)"
   ]
  },
  {
   "cell_type": "code",
   "execution_count": 54,
   "metadata": {},
   "outputs": [
    {
     "name": "stdout",
     "output_type": "stream",
     "text": [
      "Counter({'전문': 1, '닷컴': 1, '추가': 1, '접근': 1, '봉': 1, '체결과': 1, '7': 1, '9': 1, '합의': 1, '릭': 1, '맺었': 1, '연구': 1, '부사장': 1, '실용적': 1, '체': 1, '제공': 1, '7일': 1, '고': 1, '리플': 1, '기술적': 1, '분석': 1, '스마트': 1, '글방': 1, '전재': 1, '4': 1, '전세계': 1, '츠': 1, '블록체인': 1, '유니': 1, '금지': 1, '운영': 1, '알고리즘': 1, '정보보호대학원': 1, '가기': 1, '송금': 1, '중점적': 1, '공대': 1, '를': 1, '김봉': 1, '모바일': 1, '대': 1, '보안연구센터': 1, '전문인력': 1, '정보': 1, '국내': 1, '사진': 1, '기사': 1, '비즈니스': 1, '경': 1, '보도자료': 1, '경닷컴': 1, '제보': 1, '학문적': 1, '터': 1, '필요': 1, '체결': 1, '암호': 1, '관련': 1, '스탠': 1, '이번': 1, '블록': 1, '버시': 1, '중요': 1, '17': 1, '의': 1, '유일하다': 1, '대학원': 1, '배포': 1, '체인': 1, '수석': 1, '곳': 1, '4일': 1, '인력': 1, '턴': 1, '17곳': 1, '이용': 1, '수석부사장': 1, '토큰': 1, '보도': 1, '프로젝트': 1, '내용': 1, '사회적': 1, '한국': 1, '예상': 1, '파트너십': 1, '기술': 1, '고려대': 1, '본관': 1, '전': 1, '수행': 1, '전문가': 1, '글로벌': 1, '유니버시티': 1, '이니셔티브': 1, '본문': 1, '프린스': 1, '안전성': 1, '하다': 1, '재정적': 1, '정보보호대학원장': 1, '우회': 1, '서비스': 1, '경제': 1, '부족': 1, '리서치': 1, '신청': 1, '록체인': 1, '보안': 1, '결과': 1, '자료': 1, '프린스턴대': 1, '효과': 1, '기업': 1, '반': 1, '무단': 1, '유일': 1, '기자': 1, '양성': 1, '장기': 1, '버그': 1, '개발': 1, '회사': 1, '혁신': 1, '록': 1, '역할': 1, '세계': 1, '암호화폐': 1, '매사': 1, '티': 1, '콘트랙트': 1, '오류': 1, '화폐': 1, '일': 1, '김': 1, '암호토큰': 1, '유수': 1, '지원': 1, '수': 1, '자체': 1, '함수': 1, '무단전재': 1, '실제': 1, '보안기술': 1, '등': 1, '센터': 1, '매사추세츠공대': 1, '한국경제': 1, '플레이어': 1, '원장': 1, '구독': 1, '데이터': 1, '추세': 1, '보호': 1, '대학': 1, '이상진': 1, '디딤돌': 1, '기회': 1, '구독신청': 1, '기사제보': 1, '부연': 1, '산업체': 1})\n"
     ]
    }
   ],
   "source": [
    "import collections\n",
    "\n",
    "return_list = []\n",
    "c = collections.Counter()\n",
    "nouns = kkma.nouns(doc)\n",
    "\n",
    "output_file = open('noun.txt', 'w', encoding='utf-8')\n",
    "\n",
    "c = Counter(n for n in nouns)\n",
    "print(c)\n",
    "for n, c in c.most_common(300):\n",
    "    temp = 'tag: '+n+', count: '+str(c)+'\\n'\n",
    "    return_list.append(temp)\n",
    "\n",
    "for l in return_list:\n",
    "    output_file.write(l)\n",
    "output_file.close()"
   ]
  },
  {
   "cell_type": "code",
   "execution_count": 55,
   "metadata": {
    "collapsed": true
   },
   "outputs": [],
   "source": [
    "re_txt = open('noun.txt', 'r', encoding='utf-8')"
   ]
  },
  {
   "cell_type": "code",
   "execution_count": 56,
   "metadata": {},
   "outputs": [
    {
     "data": {
      "text/plain": [
       "'tag: 전문, count: 1\\ntag: 닷컴, count: 1\\ntag: 추가, count: 1\\ntag: 접근, count: 1\\ntag: 봉, count: 1\\ntag: 체결과, count: 1\\ntag: 7, count: 1\\ntag: 9, count: 1\\ntag: 합의, count: 1\\ntag: 릭, count: 1\\ntag: 맺었, count: 1\\ntag: 연구, count: 1\\ntag: 부사장, count: 1\\ntag: 실용적, count: 1\\ntag: 체, count: 1\\ntag: 제공, count: 1\\ntag: 7일, count: 1\\ntag: 고, count: 1\\ntag: 리플, count: 1\\ntag: 기술적, count: 1\\ntag: 분석, count: 1\\ntag: 스마트, count: 1\\ntag: 글방, count: 1\\ntag: 전재, count: 1\\ntag: 4, count: 1\\ntag: 전세계, count: 1\\ntag: 츠, count: 1\\ntag: 블록체인, count: 1\\ntag: 유니, count: 1\\ntag: 금지, count: 1\\ntag: 운영, count: 1\\ntag: 알고리즘, count: 1\\ntag: 정보보호대학원, count: 1\\ntag: 가기, count: 1\\ntag: 송금, count: 1\\ntag: 중점적, count: 1\\ntag: 공대, count: 1\\ntag: 를, count: 1\\ntag: 김봉, count: 1\\ntag: 모바일, count: 1\\ntag: 대, count: 1\\ntag: 보안연구센터, count: 1\\ntag: 전문인력, count: 1\\ntag: 정보, count: 1\\ntag: 국내, count: 1\\ntag: 사진, count: 1\\ntag: 기사, count: 1\\ntag: 비즈니스, count: 1\\ntag: 경, count: 1\\ntag: 보도자료, count: 1\\ntag: 경닷컴, count: 1\\ntag: 제보, count: 1\\ntag: 학문적, count: 1\\ntag: 터, count: 1\\ntag: 필요, count: 1\\ntag: 체결, count: 1\\ntag: 암호, count: 1\\ntag: 관련, count: 1\\ntag: 스탠, count: 1\\ntag: 이번, count: 1\\ntag: 블록, count: 1\\ntag: 버시, count: 1\\ntag: 중요, count: 1\\ntag: 17, count: 1\\ntag: 의, count: 1\\ntag: 유일하다, count: 1\\ntag: 대학원, count: 1\\ntag: 배포, count: 1\\ntag: 체인, count: 1\\ntag: 수석, count: 1\\ntag: 곳, count: 1\\ntag: 4일, count: 1\\ntag: 인력, count: 1\\ntag: 턴, count: 1\\ntag: 17곳, count: 1\\ntag: 이용, count: 1\\ntag: 수석부사장, count: 1\\ntag: 토큰, count: 1\\ntag: 보도, count: 1\\ntag: 프로젝트, count: 1\\ntag: 내용, count: 1\\ntag: 사회적, count: 1\\ntag: 한국, count: 1\\ntag: 예상, count: 1\\ntag: 파트너십, count: 1\\ntag: 기술, count: 1\\ntag: 고려대, count: 1\\ntag: 본관, count: 1\\ntag: 전, count: 1\\ntag: 수행, count: 1\\ntag: 전문가, count: 1\\ntag: 글로벌, count: 1\\ntag: 유니버시티, count: 1\\ntag: 이니셔티브, count: 1\\ntag: 본문, count: 1\\ntag: 프린스, count: 1\\ntag: 안전성, count: 1\\ntag: 하다, count: 1\\ntag: 재정적, count: 1\\ntag: 정보보호대학원장, count: 1\\ntag: 우회, count: 1\\ntag: 서비스, count: 1\\ntag: 경제, count: 1\\ntag: 부족, count: 1\\ntag: 리서치, count: 1\\ntag: 신청, count: 1\\ntag: 록체인, count: 1\\ntag: 보안, count: 1\\ntag: 결과, count: 1\\ntag: 자료, count: 1\\ntag: 프린스턴대, count: 1\\ntag: 효과, count: 1\\ntag: 기업, count: 1\\ntag: 반, count: 1\\ntag: 무단, count: 1\\ntag: 유일, count: 1\\ntag: 기자, count: 1\\ntag: 양성, count: 1\\ntag: 장기, count: 1\\ntag: 버그, count: 1\\ntag: 개발, count: 1\\ntag: 회사, count: 1\\ntag: 혁신, count: 1\\ntag: 록, count: 1\\ntag: 역할, count: 1\\ntag: 세계, count: 1\\ntag: 암호화폐, count: 1\\ntag: 매사, count: 1\\ntag: 티, count: 1\\ntag: 콘트랙트, count: 1\\ntag: 오류, count: 1\\ntag: 화폐, count: 1\\ntag: 일, count: 1\\ntag: 김, count: 1\\ntag: 암호토큰, count: 1\\ntag: 유수, count: 1\\ntag: 지원, count: 1\\ntag: 수, count: 1\\ntag: 자체, count: 1\\ntag: 함수, count: 1\\ntag: 무단전재, count: 1\\ntag: 실제, count: 1\\ntag: 보안기술, count: 1\\ntag: 등, count: 1\\ntag: 센터, count: 1\\ntag: 매사추세츠공대, count: 1\\ntag: 한국경제, count: 1\\ntag: 플레이어, count: 1\\ntag: 원장, count: 1\\ntag: 구독, count: 1\\ntag: 데이터, count: 1\\ntag: 추세, count: 1\\ntag: 보호, count: 1\\ntag: 대학, count: 1\\ntag: 이상진, count: 1\\ntag: 디딤돌, count: 1\\ntag: 기회, count: 1\\ntag: 구독신청, count: 1\\ntag: 기사제보, count: 1\\ntag: 부연, count: 1\\ntag: 산업체, count: 1\\n'"
      ]
     },
     "execution_count": 56,
     "metadata": {},
     "output_type": "execute_result"
    }
   ],
   "source": [
    "re_txt.read()"
   ]
  }
 ],
 "metadata": {
  "kernelspec": {
   "display_name": "Python [conda env:text3.5]",
   "language": "python",
   "name": "conda-env-text3.5-py"
  },
  "language_info": {
   "codemirror_mode": {
    "name": "ipython",
    "version": 3
   },
   "file_extension": ".py",
   "mimetype": "text/x-python",
   "name": "python",
   "nbconvert_exporter": "python",
   "pygments_lexer": "ipython3",
   "version": "3.5.5"
  }
 },
 "nbformat": 4,
 "nbformat_minor": 2
}

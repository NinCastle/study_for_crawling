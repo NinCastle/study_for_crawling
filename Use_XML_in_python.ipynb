{
 "cells": [
  {
   "cell_type": "markdown",
   "metadata": {},
   "source": [
    "[XML이란?](http://mommoo.tistory.com/17)  \n",
    "[점프 투 파이썬](https://wikidocs.net/42#_2)  \n",
    "[Elements and Element Trees](http://effbot.org/zone/element.htm)  \n",
    "하기 내용은 상기 링크를 정리한것.  "
   ]
  },
  {
   "cell_type": "markdown",
   "metadata": {},
   "source": [
    "# XML"
   ]
  },
  {
   "cell_type": "markdown",
   "metadata": {},
   "source": [
    "## XML이란?\n",
    "XML(eXtensible Markup Language)는 확장될수 있는 표시 언어라고 생각하면된다.\n",
    "대표적인 Markup Language가 HTML이다.  \n",
    "XML과 HTML의 큰 차이점은.\n",
    "* HTML\n",
    "    * 이미 약속한 태그들만 사용가능.  \n",
    "    ex) ```<h1></h1>```=>글자크기를 키우는 태그.  \n",
    "    즉 이미 만들어서 제공되는 태그만 사용해야한다. \n",
    "  \n",
    "* XML\n",
    "    * 사용자 임의대로 만들어 사용가능하다.  \n",
    "    즉, XML은 어떠한 데이터를 설명하기 위해 이름을 임의로 지은 태그로 데이터를 감싼다.  \n",
    "    다시말해서 태그로 데이터를 설명하는 것이다.  \n",
    "    이 부분에서 데이터의 표시(Markup)가 되고,  \n",
    "    더 필요한 데이터가 생길시 태그추가나,  \n",
    "    태그안의 내용을 추가할수 있다는 특징이 있다."
   ]
  },
  {
   "cell_type": "markdown",
   "metadata": {},
   "source": [
    "## 파이썬으로 XML 처리하기"
   ]
  },
  {
   "cell_type": "markdown",
   "metadata": {},
   "source": [
    "이 절에서는 파이썬으로 XML 문서를 다루는 방법에 대해서 살펴본다.  \n",
    "XML 처리를 위한 파이썬 라이브러리는 아주 많으며 아래 사이트에서 확인가능.  \n",
    "[http://wiki.python.org/moin/PythonXml](http://wiki.python.org/moin/PythonXml)"
   ]
  },
  {
   "cell_type": "markdown",
   "metadata": {},
   "source": [
    "### XML 문서 생성하기"
   ]
  },
  {
   "cell_type": "markdown",
   "metadata": {},
   "source": [
    "```\n",
    "<note date = '20120104'>\n",
    "    <to>Tove</To>\n",
    "    <from>Jani</from>\n",
    "    <heading>Reminder</heading>\n",
    "    <body>Dont't forget me this weekend!</body>\n",
    "</note>\n",
    "```"
   ]
  },
  {
   "cell_type": "code",
   "execution_count": 2,
   "metadata": {},
   "outputs": [
    {
     "name": "stdout",
     "output_type": "stream",
     "text": [
      "<note><to>Tove</to></note>\n"
     ]
    }
   ],
   "source": [
    "from xml.etree.ElementTree import Element, dump\n",
    "\n",
    "note = Element(\"note\")\n",
    "to = Element(\"to\")\n",
    "to.text = 'Tove'\n",
    "\n",
    "note.append(to)\n",
    "dump(note)"
   ]
  },
  {
   "cell_type": "markdown",
   "metadata": {},
   "source": [
    "위의 코드를 작성하면 결과물이 출력된다.  \n",
    "Element를 이용하여태그를 생성하고, 만들어진 태그에 텍스트 값을 추가 할수 있다."
   ]
  },
  {
   "cell_type": "markdown",
   "metadata": {},
   "source": [
    "#### SubElement"
   ]
  },
  {
   "cell_type": "code",
   "execution_count": 3,
   "metadata": {},
   "outputs": [
    {
     "name": "stdout",
     "output_type": "stream",
     "text": [
      "<note><to>Tove</to><from>Jani</from></note>\n"
     ]
    }
   ],
   "source": [
    "from xml.etree.ElementTree import Element, SubElement, dump\n",
    "\n",
    "# note에 tag를 추가하는 방법1\n",
    "note = Element(\"note\")\n",
    "to = Element(\"to\")\n",
    "to.text = \"Tove\"\n",
    "note.append(to)\n",
    "\n",
    "# note에 tag를 추가하는 방법2\n",
    "SubElement(note, \"from\").text = \"Jani\"\n",
    "\n",
    "dump(note)"
   ]
  },
  {
   "cell_type": "markdown",
   "metadata": {},
   "source": [
    "SubElement는 태그명과 태그의 텍스트 값을 한 번에 설정할 수 있다.  \n",
    "또는 다음과 같이 태그 사이에 태그를 추가하거나 특정태그를 삭제할 수 도 있다."
   ]
  },
  {
   "cell_type": "markdown",
   "metadata": {},
   "source": [
    "<br>"
   ]
  },
  {
   "cell_type": "markdown",
   "metadata": {},
   "source": [
    "dummy 태그 삽입"
   ]
  },
  {
   "cell_type": "code",
   "execution_count": 11,
   "metadata": {
    "scrolled": true
   },
   "outputs": [
    {
     "name": "stdout",
     "output_type": "stream",
     "text": [
      "<note><to>Tove</to><dummy /><dummy /><from>Jani</from></note>\n"
     ]
    }
   ],
   "source": [
    "dummy = Element(\"dummy\")\n",
    "note.insert(1, dummy)\n",
    "dump(note)"
   ]
  },
  {
   "cell_type": "markdown",
   "metadata": {},
   "source": [
    "dummy 태그 삭제"
   ]
  },
  {
   "cell_type": "code",
   "execution_count": 12,
   "metadata": {},
   "outputs": [
    {
     "name": "stdout",
     "output_type": "stream",
     "text": [
      "<note><to>Tove</to><dummy /><from>Jani</from></note>\n"
     ]
    }
   ],
   "source": [
    "note.remove(dummy)\n",
    "dump(note)"
   ]
  },
  {
   "cell_type": "markdown",
   "metadata": {},
   "source": [
    "### Attribute 추가하기\n",
    "이번에는 note태그에 Attribute를 추가한다."
   ]
  },
  {
   "cell_type": "code",
   "execution_count": 13,
   "metadata": {},
   "outputs": [
    {
     "name": "stdout",
     "output_type": "stream",
     "text": [
      "<note date=\"20120104\"><to>Tove</to><from>Jani</from></note>\n"
     ]
    }
   ],
   "source": [
    "from xml.etree.ElementTree import Element, SubElement, dump\n",
    "\n",
    "note = Element(\"note\")\n",
    "to = Element(\"to\")\n",
    "to.text = \"Tove\"\n",
    "note.append(to)\n",
    "\n",
    "SubElement(note, \"from\").text = \"Jani\"\n",
    "\n",
    "note.attrib['date'] = \"20120104\"\n",
    "\n",
    "dump(note)"
   ]
  },
  {
   "cell_type": "markdown",
   "metadata": {},
   "source": [
    "note.attrib['date']와 같은 방법으로 Attribute value를 추가 할 수 있다.  \n",
    "다음과 같이 엘리먼트 생성 시 직접 애트리뷰트 값을 추가하는 방법을 사용해도 된다.  "
   ]
  },
  {
   "cell_type": "code",
   "execution_count": 14,
   "metadata": {},
   "outputs": [],
   "source": [
    "note = Element(\"note\", date = '20120104')"
   ]
  },
  {
   "cell_type": "markdown",
   "metadata": {},
   "source": [
    "아래는 Attribute를 이용한 완성된 소스이다."
   ]
  },
  {
   "cell_type": "code",
   "execution_count": 15,
   "metadata": {},
   "outputs": [
    {
     "name": "stdout",
     "output_type": "stream",
     "text": [
      "<note date=\"20120104\"><to>Tove</to><from>Jani</from><heading>Reminder</heading><body>Don't forget me this weekend!</body></note>\n"
     ]
    }
   ],
   "source": [
    "from xml.etree.ElementTree import Element, SubElement, dump\n",
    "\n",
    "note = Element('note')\n",
    "note.attrib['date'] = '20120104'\n",
    "\n",
    "to = Element('to')\n",
    "to.text = \"Tove\"\n",
    "note.append(to)\n",
    "\n",
    "SubElement(note, 'from').text = \"Jani\"\n",
    "SubElement(note, 'heading').text = \"Reminder\"\n",
    "SubElement(note, 'body').text = \"Don't forget me this weekend!\"\n",
    "\n",
    "dump(note)"
   ]
  },
  {
   "cell_type": "markdown",
   "metadata": {},
   "source": [
    "### indent 함수"
   ]
  },
  {
   "cell_type": "markdown",
   "metadata": {},
   "source": [
    "위의 결과 값은 한줄로 작성되어 보기가 쉽지 않다.  \n",
    "해서 정렬된 형태의 XML값을 보려면 다음과 같이 indent 함수를 작성해본다."
   ]
  },
  {
   "cell_type": "code",
   "execution_count": 17,
   "metadata": {},
   "outputs": [
    {
     "name": "stdout",
     "output_type": "stream",
     "text": [
      "<note date=\"20120104\">\n",
      "    <to>Tove</to>\n",
      "    <from>Jani</from>\n",
      "    <heading>Reminder</heading>\n",
      "    <body>Don't forget me this weekend!</body>\n",
      "</note>\n"
     ]
    }
   ],
   "source": [
    "from xml.etree.ElementTree import Element, SubElement, dump\n",
    "\n",
    "note = Element('note')\n",
    "note.attrib['date'] = '20120104'\n",
    "\n",
    "to = Element('to')\n",
    "to.text = \"Tove\"\n",
    "note.append(to)\n",
    "\n",
    "SubElement(note, \"from\").text = \"Jani\"\n",
    "SubElement(note, \"heading\").text = \"Reminder\"\n",
    "SubElement(note, \"body\").text = \"Don't forget me this weekend!\"\n",
    "\n",
    "def indent(elem, level=0):\n",
    "    i = \"\\n\" + level*\"    \"\n",
    "    if len(elem):\n",
    "        if not elem.text or not elem.text.strip():\n",
    "            elem.text = i + \"    \"\n",
    "        if not elem.tail or not elem.tail.strip():\n",
    "            elem.tail = i\n",
    "        for elem in elem:\n",
    "            indent(elem, level+1)\n",
    "        if not elem.tail or not elem.tail.strip():\n",
    "            elem.tail = i\n",
    "    else:\n",
    "        if level and (not elem.tail or not elem.tail.strip()):\n",
    "            elem.tail = i\n",
    "\n",
    "indent(note)\n",
    "dump(note)"
   ]
  },
  {
   "cell_type": "markdown",
   "metadata": {},
   "source": [
    "### 파일에 쓰기(write) 수행하기"
   ]
  },
  {
   "cell_type": "markdown",
   "metadata": {},
   "source": [
    "이제 생성한 xml 문서를 가지고 다음과 같이 element의 write메서드를 이용하서 파일을 써본다."
   ]
  },
  {
   "cell_type": "code",
   "execution_count": 20,
   "metadata": {},
   "outputs": [],
   "source": [
    "from xml.etree.ElementTree import ElementTree\n",
    "ElementTree(note).write(\"note.xml\")"
   ]
  },
  {
   "cell_type": "markdown",
   "metadata": {},
   "source": [
    "이제 xml이 생성된것을 볼 수 있다."
   ]
  },
  {
   "cell_type": "markdown",
   "metadata": {},
   "source": [
    "### XML문서 파싱하기"
   ]
  },
  {
   "cell_type": "code",
   "execution_count": 22,
   "metadata": {},
   "outputs": [],
   "source": [
    "from xml.etree.ElementTree import parse\n",
    "tree = parse(\"note.xml\")\n",
    "note = tree.getroot()"
   ]
  },
  {
   "cell_type": "markdown",
   "metadata": {},
   "source": [
    "#### 애트리뷰터 값 읽기"
   ]
  },
  {
   "cell_type": "code",
   "execution_count": 23,
   "metadata": {},
   "outputs": [
    {
     "name": "stdout",
     "output_type": "stream",
     "text": [
      "None\n",
      "default\n",
      "['date']\n",
      "[('date', '20120104')]\n"
     ]
    }
   ],
   "source": [
    "print(note.get(\"data\"))\n",
    "print(note.get(\"foo\", \"default\"))\n",
    "print(note.keys())\n",
    "print(note.items())"
   ]
  },
  {
   "cell_type": "markdown",
   "metadata": {},
   "source": [
    "#### XML 태그 접근하기"
   ]
  },
  {
   "cell_type": "code",
   "execution_count": 26,
   "metadata": {},
   "outputs": [],
   "source": [
    "from_tag = note.find(\"from\")\n",
    "from_tags = note.findall(\"from\")\n",
    "from_text = note.findtext(\"from\")"
   ]
  },
  {
   "cell_type": "markdown",
   "metadata": {},
   "source": [
    "note.find(\"from\")은 note 태그 하위에 from과 일치하는 첫 번째 태그를 찾아서 리턴하고, 없으면 None을 리턴한다.  \n",
    "note.findall(\"from\")은 note 태그 하위에 from과 일치하는 모든 태그를 리스트로 리턴한다.  \n",
    "note.findtext(\"from\")은 note 태그 하위에 from과 일치하는 첫번째 태그의 텍스트 값을 리턴한다.  \n",
    "  \n",
    "특정 태그의 모든 하위 엘리먼트를 순차적으로 처리할 때는 아래의 메서드를 사용한다."
   ]
  },
  {
   "cell_type": "code",
   "execution_count": 27,
   "metadata": {},
   "outputs": [],
   "source": [
    "childs = note.getiterator()\n",
    "childs = note.getchildren()"
   ]
  },
  {
   "cell_type": "markdown",
   "metadata": {},
   "source": [
    "gettiterator()함수는 첫 번째 인수로 다음과 같이 태그명을 받을 수도 있다."
   ]
  },
  {
   "cell_type": "code",
   "execution_count": 28,
   "metadata": {},
   "outputs": [
    {
     "data": {
      "text/plain": [
       "<_elementtree._element_iterator at 0x2cc21b600f8>"
      ]
     },
     "execution_count": 28,
     "metadata": {},
     "output_type": "execute_result"
    }
   ],
   "source": [
    "note.getiterator(\"from\")"
   ]
  },
  {
   "cell_type": "markdown",
   "metadata": {},
   "source": [
    "위와 같은 경우 from 태그의 하위 엘리먼트들이 순차적으로 리턴되며, 보통다음과 같이 많이 사용된다."
   ]
  },
  {
   "cell_type": "code",
   "execution_count": 29,
   "metadata": {},
   "outputs": [
    {
     "ename": "SyntaxError",
     "evalue": "invalid syntax (<ipython-input-29-37a7b31559aa>, line 3)",
     "output_type": "error",
     "traceback": [
      "\u001b[1;36m  File \u001b[1;32m\"<ipython-input-29-37a7b31559aa>\"\u001b[1;36m, line \u001b[1;32m3\u001b[0m\n\u001b[1;33m    ... work on parent/child tuple\u001b[0m\n\u001b[1;37m           ^\u001b[0m\n\u001b[1;31mSyntaxError\u001b[0m\u001b[1;31m:\u001b[0m invalid syntax\n"
     ]
    }
   ],
   "source": [
    "for parent in terr.getiterator():\n",
    "    for child in parent:\n",
    "        ... work on parent/child tuple"
   ]
  },
  {
   "cell_type": "markdown",
   "metadata": {},
   "source": [
    "위의 코드나 더 자세한 내용은 프레드릭 런드가 직접 작성한 튜토리얼에서 확인하면된다.\n",
    "[http://effbot.org/zone/element.htm](http://effbot.org/zone/element.htm)"
   ]
  }
 ],
 "metadata": {
  "kernelspec": {
   "display_name": "Python 3",
   "language": "python",
   "name": "python3"
  },
  "language_info": {
   "codemirror_mode": {
    "name": "ipython",
    "version": 3
   },
   "file_extension": ".py",
   "mimetype": "text/x-python",
   "name": "python",
   "nbconvert_exporter": "python",
   "pygments_lexer": "ipython3",
   "version": "3.6.4"
  }
 },
 "nbformat": 4,
 "nbformat_minor": 2
}

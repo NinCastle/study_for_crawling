{
 "cells": [
  {
   "cell_type": "markdown",
   "metadata": {},
   "source": [
    "[텍스트 마이닝 사용예](http://www.fastcampus.co.kr/data_camp_textmining_blog_student_1/)<br>\n",
    "[텍스트 마이닝 사용예-2](http://www.saltlux.com/bigdata/lea.do;jsessionid=F6C222B6194B106C8BB19E9E9AC8ED78)<br>\n",
    "[Text Mining-1](https://www.elastic.co/kr/blog/using-korean-analyzers)<br>\n",
    "[Text Mining-2](http://www.aistudy.co.kr/linguistics/natural/text_mining.htm)<br>\n",
    "[Text Mining-3](http://www.goldenplanet.co.kr/blog/2017/02/22/%ED%85%8D%EC%8A%A4%ED%8A%B8-%EB%A7%88%EC%9D%B4%EB%8B%9D-%EB%AC%B4%EC%97%87%EC%9D%84-%ED%95%A0-%EC%88%98-%EC%9E%88%EC%9D%84%EA%B9%8C-%EA%B3%A8%EB%93%A0%ED%94%8C%EB%9E%98%EB%8B%9B/)<br>\n",
    "[Text Mining-4](http://iamdaisy.tistory.com/29)<br>"
   ]
  },
  {
   "cell_type": "markdown",
   "metadata": {},
   "source": [
    "# Text Mining"
   ]
  }
 ],
 "metadata": {
  "kernelspec": {
   "display_name": "Python 3",
   "language": "python",
   "name": "python3"
  },
  "language_info": {
   "codemirror_mode": {
    "name": "ipython",
    "version": 3
   },
   "file_extension": ".py",
   "mimetype": "text/x-python",
   "name": "python",
   "nbconvert_exporter": "python",
   "pygments_lexer": "ipython3",
   "version": "3.6.4"
  }
 },
 "nbformat": 4,
 "nbformat_minor": 2
}

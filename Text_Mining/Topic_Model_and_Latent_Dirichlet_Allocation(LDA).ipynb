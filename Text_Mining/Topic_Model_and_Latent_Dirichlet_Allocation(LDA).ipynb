{
 "cells": [
  {
   "cell_type": "markdown",
   "metadata": {},
   "source": [
    "[LDA-1](http://bab2min.tistory.com/568)  \n",
    "[LDA-2](http://www.4four.us/article/2010/11/latent-dirichlet-allocation-simply)<br>\n",
    "[Topic model & LDA](https://ratsgo.github.io/from%20frequency%20to%20semantics/2017/06/01/LDA/)<br>\n",
    "[Topic model](https://ko.wikipedia.org/wiki/%ED%86%A0%ED%94%BD_%EB%AA%A8%EB%8D%B8)<br>\n",
    "아래 내용은 상위 링크를 정리한 것이다."
   ]
  },
  {
   "cell_type": "markdown",
   "metadata": {},
   "source": [
    "# Latent Dirichlet Allocation(LDA)"
   ]
  }
 ],
 "metadata": {
  "kernelspec": {
   "display_name": "Python 3",
   "language": "python",
   "name": "python3"
  },
  "language_info": {
   "codemirror_mode": {
    "name": "ipython",
    "version": 3
   },
   "file_extension": ".py",
   "mimetype": "text/x-python",
   "name": "python",
   "nbconvert_exporter": "python",
   "pygments_lexer": "ipython3",
   "version": "3.6.4"
  }
 },
 "nbformat": 4,
 "nbformat_minor": 2
}

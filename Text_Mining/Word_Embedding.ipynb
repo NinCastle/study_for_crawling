{
 "cells": [
  {
   "cell_type": "markdown",
   "metadata": {},
   "source": [
    "[Word2Vec으로 문장 분류하기](https://ratsgo.github.io/natural%20language%20processing/2017/03/08/word2vec/)<br>\n",
    "[Word2Vec 학습방식](https://ratsgo.github.io/from%20frequency%20to%20semantics/2017/03/30/word2vec/)<br>\n",
    "[Word_Embeding_직관적인 이해](https://www.nextobe.com/single-post/2017/06/20/Word-Embedding%EC%9D%98-%EC%A7%81%EA%B4%80%EC%A0%81%EC%9D%B8-%EC%9D%B4%ED%95%B4-Count-Vector%EC%97%90%EC%84%9C-Word2Vec%EC%97%90-%EC%9D%B4%EB%A5%B4%EA%B8%B0%EA%B9%8C%EC%A7%80)<br>\n",
    "[word2vec 소개](https://programmers.co.kr/learn/courses/21/lessons/1697#)<br>\n",
    "[word2vec 이해](https://www.nextobe.com/single-post/2017/11/10/Word2vec-%EC%9D%B4%ED%95%B4-GloVe-SPPMI-SVD-%EB%B9%84%EA%B5%90)<br>\n",
    "아래 내용은 상위 링크를 정리한 것이다."
   ]
  },
  {
   "cell_type": "markdown",
   "metadata": {},
   "source": [
    "# Word2Vec"
   ]
  }
 ],
 "metadata": {
  "kernelspec": {
   "display_name": "Python 3",
   "language": "python",
   "name": "python3"
  },
  "language_info": {
   "codemirror_mode": {
    "name": "ipython",
    "version": 3
   },
   "file_extension": ".py",
   "mimetype": "text/x-python",
   "name": "python",
   "nbconvert_exporter": "python",
   "pygments_lexer": "ipython3",
   "version": "3.6.4"
  }
 },
 "nbformat": 4,
 "nbformat_minor": 2
}

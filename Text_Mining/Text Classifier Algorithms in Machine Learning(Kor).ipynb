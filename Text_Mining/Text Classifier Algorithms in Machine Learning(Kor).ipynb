{
 "cells": [
  {
   "cell_type": "markdown",
   "metadata": {},
   "source": [
    "[Text Classifier Algorithms in Machine Learning](https://blog.statsbot.co/text-classifier-algorithms-in-machine-learning-acc115293278)<br>\n",
    "[머신러닝에서의 텍스트 분류 알고리즘 in Nextobe](https://www.nextobe.com/single-post/2017/07/13/%EB%A8%B8%EC%8B%A0%EB%9F%AC%EB%8B%9D%EC%97%90%EC%84%9C%EC%9D%98-%ED%85%8D%EC%8A%A4%ED%8A%B8-%EB%B6%84%EB%A5%98-%EC%95%8C%EA%B3%A0%EB%A6%AC%EC%A6%98)<br>\n",
    "아래 내용은 상위 링크를 정리한것."
   ]
  },
  {
   "cell_type": "markdown",
   "metadata": {},
   "source": [
    "# 머신러닝에서 텍스트 분류 알고리즘"
   ]
  },
  {
   "cell_type": "markdown",
   "metadata": {},
   "source": [
    "메인 ML 문제중 하나는 text classification이다.<br> \n",
    "예를 들어 스팸을 감지하거나, 뉴스기사의 주제를 찾을 때, 또는 다중 값의 단어의 올바른 마이닝을 선택하는 데 사용된다.<br>\n",
    "이 글에서 머신러닝의 텍스트 분석에 대해 더 깊이 알아본다.<br>"
   ]
  },
  {
   "cell_type": "markdown",
   "metadata": {},
   "source": [
    "<br>\n",
    "최고의 텍스트 분류기를 정의하는 것은 불가능하다.<br>\n",
    "컴퓨터 비전과 같은 분야에서는 모델을 설계하는 일반적인 방법,<br>\n",
    "residual connection(잔여 연결)이 많은 심층 네트워크에 대해서는 확고히 정리가 되어있다.<br>\n",
    "그와 달리 텍스트 분류는 좁은 영역에서 아직 정리가 되지 않았다.<br>\n",
    "이 글에서는 텍스트 분류기 알고리즘과 그 사용 사례의 몇 가지의 주요 일반화된 접근법에 초점을 맞춘다.<br>\n",
    "고수준의 토론과 함께 우리는 자신만의 모델을 구축하는 데 도움이 되는 실습 자습서 및 도구 모음을 제공한다.<br>"
   ]
  },
  {
   "cell_type": "markdown",
   "metadata": {},
   "source": [
    "<br>\n",
    "## 텍스트 분류 벤치 마크\n",
    "TF-IDF 기능과 Linear"
   ]
  }
 ],
 "metadata": {
  "kernelspec": {
   "display_name": "Python 3",
   "language": "python",
   "name": "python3"
  },
  "language_info": {
   "codemirror_mode": {
    "name": "ipython",
    "version": 3
   },
   "file_extension": ".py",
   "mimetype": "text/x-python",
   "name": "python",
   "nbconvert_exporter": "python",
   "pygments_lexer": "ipython3",
   "version": "3.6.4"
  }
 },
 "nbformat": 4,
 "nbformat_minor": 2
}

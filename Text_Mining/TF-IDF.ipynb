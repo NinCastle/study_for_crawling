{
 "cells": [
  {
   "cell_type": "markdown",
   "metadata": {},
   "source": [
    "[감성분석(TF-IDF)](http://rumo.tistory.com/93)  \n",
    "[TF-IDF](http://euriion.com/?p=411929)<br>\n",
    "[Word Weighting](https://ratsgo.github.io/from%20frequency%20to%20semantics/2017/03/28/tfidf/)<br>\n",
    "[조영규의 블로그](http://dev.youngkyu.kr/25)<br>\n",
    "[용어 정리-입 개발자를 위한 TF-IDF](https://charsyam.wordpress.com/2017/04/08/%EC%9A%A9%EC%96%B4-%EC%A0%95%EB%A6%AC-%EC%9E%85-%EA%B0%9C%EB%B0%9C%EC%9E%90%EB%A5%BC-%EC%9C%84%ED%95%9C-tf-idf/)<br>\n",
    "[위키백과](https://ko.wikipedia.org/wiki/TF-IDF)<br>\n",
    "아래 내용은 상위 링크를 정리한 것이다."
   ]
  },
  {
   "cell_type": "markdown",
   "metadata": {},
   "source": [
    "# TF-IDF"
   ]
  },
  {
   "cell_type": "markdown",
   "metadata": {},
   "source": [
    "TF-IDF는 문서 내에 어떤 단어의 중요도를 의미한다.  \n",
    "어떤 단어 두 개가 있고 각각 TF-IDF가 10, 5라면 5보다 10이 더 중요한 단어라는 의미가 된다.\n",
    "$$\n",
    "A = 5 < B = 10\n",
    "$$"
   ]
  },
  {
   "cell_type": "markdown",
   "metadata": {},
   "source": [
    "예를 들어 코코아가 주제인 문서를 찾았다고 가정한다.  \n",
    "그러면 '코코아'라는 단어가 많이 등장한 문서를 고르면 되지 않을까?  \n",
    "코코아에 대해 말하는 기사라면 아무래도 본문에 코코아를 많이 언급 것이다.  \n",
    "그럼 5개의 문서가 있다고 가정하고 이 중에서 '코코아'를 주제로 하는 문서를 찾아내 본다."
   ]
  },
  {
   "cell_type": "markdown",
   "metadata": {},
   "source": [
    "![TF](https://t1.daumcdn.net/cfile/tistory/995925375ACB2CE403)"
   ]
  },
  {
   "cell_type": "markdown",
   "metadata": {},
   "source": [
    "<center> <그림1> </center>"
   ]
  },
  {
   "cell_type": "markdown",
   "metadata": {},
   "source": [
    "일단 '코코아'가 가장 많이 언급된 문서는 '문서D'이다.  \n",
    "35번이나 언급 됐다.  \n",
    "**TF(Term Frequency)란 Term(Word)이 등장한 횟수를 말한다. 문서D에서 코코아의 TF는 35이다.**"
   ]
  },
  {
   "cell_type": "markdown",
   "metadata": {},
   "source": [
    "<br>"
   ]
  },
  {
   "cell_type": "markdown",
   "metadata": {},
   "source": [
    "그렇다면 '날씨'를 키워드로 하는 문서를 찾고 있다면 어떻할까?  \n",
    "'코코아' 처럼 단지 '날씨'가 많이 등장하는 문서를 고르면 될까?  \n",
    "그렇지 않다.  \n",
    "'날씨'는 흔하게 등장하는 단어이기 때문이다.  \n",
    "그래서 전체 문서를 다 훑어보고 '날씨'라는 단어 전체 문서에서 가지는 희소성이 어느정도인지 알아 볼 필요가 있다.    \n",
    "모든 문서에서 '날씨'라는 단어가 등장한다면 '날씨'는 별로 특별한 단어가 아닌 것이다.  "
   ]
  },
  {
   "cell_type": "markdown",
   "metadata": {},
   "source": [
    "![DF](https://t1.daumcdn.net/cfile/tistory/99471A375A84224D21)"
   ]
  },
  {
   "cell_type": "markdown",
   "metadata": {},
   "source": [
    "<center> <그림2> </center>"
   ]
  },
  {
   "cell_type": "markdown",
   "metadata": {},
   "source": [
    "DF는 전체 문서를 다 둘러보고 그 중에서 키워드가 등장하는 문서가 몇개 있는지 나타내는 수치이다.  \n",
    "위 그림을 보면 '코코아'의 경우 DF가 3이라고 볼수 있다.  \n",
    "'사람'이라는 키워드는 딱 한 건의 문서에만 등장하고 있다.  \n",
    "'날씨'는 모든 문서에서 등장하므로 흔한 단어라고 하는 것이다.  \n",
    "  \n",
    "아주 간단하게 TF-IDF의 공식을 나타내면 아래와 같다. \n",
    "**IDF는 DF를 거꾸로 한 것이다.**\n",
    "\n",
    "$$\n",
    "TF-IDF = TF \\times (1 / DF)\\\\\n",
    "TF-IDF = TF / DF\n",
    "$$"
   ]
  },
  {
   "cell_type": "markdown",
   "metadata": {},
   "source": [
    "$TF-IDF$는 간단하게 구현이 가능하다.  \n",
    "문서를 토크나이징 해서 각 단어마자 TF 값을 알아내면 된다.  \n",
    "그러나 IDF의 경우에는 모든 문서를 다 훑고나서야 알 수 있는 값이다.  \n",
    "무슨 말이냐면, TF는 한 문서 내에서 어떤 단어가 나타난 빈도를 의미하므로 한 문서에 대해서만 토크나이징을 하면 되지만 DF는 '몇개의 문서에서' 이 단어가 등장했느냐를 의미하므로 모든 문서를 다 살펴야 한다."
   ]
  }
 ],
 "metadata": {
  "kernelspec": {
   "display_name": "Python [default]",
   "language": "python",
   "name": "python3"
  },
  "language_info": {
   "codemirror_mode": {
    "name": "ipython",
    "version": 3
   },
   "file_extension": ".py",
   "mimetype": "text/x-python",
   "name": "python",
   "nbconvert_exporter": "python",
   "pygments_lexer": "ipython3",
   "version": "3.6.1"
  }
 },
 "nbformat": 4,
 "nbformat_minor": 2
}

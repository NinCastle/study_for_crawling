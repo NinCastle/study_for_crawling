{
 "cells": [
  {
   "cell_type": "markdown",
   "metadata": {},
   "source": [
    "[GAN](http://artoria.us/7)\n",
    "[GAN-2](http://jaejunyoo.blogspot.com/2017/01/generative-adversarial-nets-1.html)\n",
    "[GAN-3](https://jamiekang.github.io/2017/04/16/generative-adversarial-nets/)<br>\n",
    "[GAN 스터디 공유자료](http://www.datamarket.kr/xe/board_LCmL04/33070)<br>\n",
    "아래 내용은 상위 링크를 정리한 것입니다."
   ]
  },
  {
   "cell_type": "markdown",
   "metadata": {},
   "source": [
    "# GAN"
   ]
  }
 ],
 "metadata": {
  "kernelspec": {
   "display_name": "Python 3",
   "language": "python",
   "name": "python3"
  },
  "language_info": {
   "codemirror_mode": {
    "name": "ipython",
    "version": 3
   },
   "file_extension": ".py",
   "mimetype": "text/x-python",
   "name": "python",
   "nbconvert_exporter": "python",
   "pygments_lexer": "ipython3",
   "version": "3.6.4"
  }
 },
 "nbformat": 4,
 "nbformat_minor": 2
}

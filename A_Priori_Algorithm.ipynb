{
 "cells": [
  {
   "cell_type": "markdown",
   "metadata": {},
   "source": [
    "[연관규칙분석](https://ratsgo.github.io/machine%20learning/2017/04/08/apriori/)  \n",
    "아래의 내용은 상기 링크를 정리한것.  "
   ]
  },
  {
   "cell_type": "markdown",
   "metadata": {},
   "source": [
    "# 연관규칙분석(A Priori Alogorithm)"
   ]
  },
  {
   "cell_type": "markdown",
   "metadata": {},
   "source": [
    "## 알고리즘 개요 및 입력데이터"
   ]
  },
  {
   "cell_type": "markdown",
   "metadata": {},
   "source": [
    "연관규칙분석이란 두 아이템 집합이 자주 발생하는가를 알려주는 일련의 규칙을 생성하는 알고리즘이다.  \n",
    "경영학에서 **장바구니 분석(Market Basket Analysis)**으로 널리 알려져 있는 방법론이다.  \n",
    "소비자들의 구매이력 데이터를 가지고 \"X 아이템을 구매하는 고객은 Y아이템 역시 구매할 가능성이 높다\"라는 결론을 내는 알고리즘이다.  \n",
    "인터넷 쇼핑을 할 때 어떤 상품을 "
   ]
  }
 ],
 "metadata": {
  "kernelspec": {
   "display_name": "Python 3",
   "language": "python",
   "name": "python3"
  },
  "language_info": {
   "codemirror_mode": {
    "name": "ipython",
    "version": 3
   },
   "file_extension": ".py",
   "mimetype": "text/x-python",
   "name": "python",
   "nbconvert_exporter": "python",
   "pygments_lexer": "ipython3",
   "version": "3.6.4"
  }
 },
 "nbformat": 4,
 "nbformat_minor": 2
}

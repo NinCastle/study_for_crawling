{
 "cells": [
  {
   "cell_type": "markdown",
   "metadata": {},
   "source": [
    "[연관규칙분석](https://ratsgo.github.io/machine%20learning/2017/04/08/apriori/)  \n",
    "[배반사건](https://m.blog.naver.com/PostView.nhn?blogId=parkhc1992&logNo=220587985603&proxyReferer=https%3A%2F%2Fwww.google.co.kr%2F)  \n",
    "아래의 내용은 상기 링크를 정리한것.  "
   ]
  },
  {
   "cell_type": "markdown",
   "metadata": {},
   "source": [
    "# 연관규칙분석(A Priori Alogorithm)"
   ]
  },
  {
   "cell_type": "markdown",
   "metadata": {},
   "source": [
    "## 알고리즘 개요 및 입력데이터"
   ]
  },
  {
   "cell_type": "markdown",
   "metadata": {},
   "source": [
    "연관규칙분석이란 두 아이템 집합이 자주 발생하는가를 알려주는 일련의 규칙을 생성하는 알고리즘이다.  \n",
    "경영학에서 **장바구니 분석(Market Basket Analysis)**으로 널리 알려져 있는 방법론이다.  \n",
    "소비자들의 구매이력 데이터를 가지고 \"X 아이템을 구매하는 고객은 Y아이템 역시 구매할 가능성이 높다\"라는 결론을 내는 알고리즘이다.  \n",
    "인터넷 쇼핑을 할 때 어떤 상품을 그 상품을 구매한 사람들이 선택한 다른 상품을 제안해준다던지 하는 컨텐츠 기반 추천(contents-based recommendation)의 기본이 되는 방법론이다.  \n",
    "  \n",
    "|ID|Items|\n",
    "|---|---|\n",
    "|1|달걀, 라면, 참치캔|\n",
    "|2|라면, 햇반|\n",
    "|3|라면, 콜라|\n",
    "|4|달걀,라면,햇반|\n",
    "|5|달걀, 콜라|\n",
    "|6|라면, 콜라|\n",
    "|7|라면, 햇반|\n",
    "|8|달걀, 라면, 콜라, 참치캔|\n",
    "|9|달걀, 라면, 콜라|\n",
    "|10|양파|"
   ]
  },
  {
   "cell_type": "markdown",
   "metadata": {},
   "source": [
    "위 데이터는 이렇게 해석 할수 있다. \n",
    "1번 고객은 편의점에 들려 달걀, 라면, 참치캔을 샀고,  \n",
    "7번 고객은 라면과 햇반을,  \n",
    "10번 고객은 양파를 구매한것을 확인 할수 있다.  \n",
    "이를 행렬 형태로 표현하게 되면 아래와 같이 대부분의 상품의 셀값이 0 값을 가지는 **희소행렬(sparse matrix)**가된다."
   ]
  },
  {
   "cell_type": "markdown",
   "metadata": {},
   "source": [
    "|ID|달걀|라면|참치캔|햇반|콜라|양파|\n",
    "|---|---|---|---|---|---|---|\n",
    "|1|1|1|1|0|0|0|\n",
    "|2|0|1|0|0|1|0|\n",
    "|3|0|1|0|0|0|1|\n",
    "|4|1|1|0|0|1|0|\n",
    "|5|1|0|0|0|0|1|\n",
    "|6|0|1|0|0|0|1|\n",
    "|7|0|1|0|0|1|0|\n",
    "|8|1|1|1|0|0|1|\n",
    "|9|1|1|0|0|0|1|\n",
    "|10|0|0|0|0|0|0|"
   ]
  },
  {
   "cell_type": "markdown",
   "metadata": {},
   "source": [
    "## 규칙 및 규칙의 효용성 지표\n",
    "이제 주어진 데이터로 부터 규칙을 만들어본다.  \n",
    "예를들어  \n",
    "* 첫번째 고객 데이터만 가지고도 아래와 같은 규칙을 생성할 수 있다.\n",
    "    * 달걀을 구매하는 사람들은 라면도 함께 산다, 달걀과 라면을 사먹는 사람들은 참치캔도 산다,  \n",
    "    참치캔을 구매하는 사람들은 계란도 함께 산다.\n",
    "      \n",
    "와 같은 규칙을 만들 수 있다.  \n"
   ]
  },
  {
   "cell_type": "markdown",
   "metadata": {},
   "source": [
    "우선 용어부터 정의하면,  \n",
    "**조건절(Antecedent)**은 위 예시의 규칙에서 '만일~라면'에 해당하는 부분이다.  \n",
    "**결과절(Consequent)**은 그 뒷부분에 해당하는 내용이다.  \n",
    "**아이템 집합(Item set)**이란 조건절 또는 결과절을 구성하는 아이템들의 집합이다.  "
   ]
  },
  {
   "cell_type": "markdown",
   "metadata": {},
   "source": [
    "예컨대 '달걀을 구매하는 사람들은 라면도 함계 산다'를 본다.  \n",
    "여기에서 '달걀 구매'가 조건절, '라면 구매'가 결과절이며, 각각의 아이템 집합은 말 그대로 집합,  \n",
    "여러개 아이템이 들어가도 되지만 **상호배반(mutually exclusive)**이어야 한다.  \n",
    "다시 말해 조건절에 달걀이 들어가 있다면 결과절에는 달걀이 포함되어서는 안된다는 뜻이다.  "
   ]
  },
  {
   "cell_type": "markdown",
   "metadata": {},
   "source": [
    "#### 배반사건(서로소 집합)"
   ]
  },
  {
   "cell_type": "markdown",
   "metadata": {},
   "source": [
    "배반사건\n",
    "배반 사건을 이해하기 위해서 독립사건과 비교하며 이해하면 쉽다.  \n",
    "* 독립사건은 사건$A$가 사건$B$에 영향을 주지 않는 상태를 말한다\n",
    "  \n",
    "$$\n",
    "P(A) \\times P(B) = P(A \\cap B)\n",
    "$$\n",
    "![서로소](https://upload.wikimedia.org/wikipedia/commons/thumb/e/e6/Veranschaulichung_von_disjunkten_Mengen.svg/535px-Veranschaulichung_von_disjunkten_Mengen.svg.png)"
   ]
  },
  {
   "cell_type": "markdown",
   "metadata": {},
   "source": [
    "드럼과 기타의 집합, 카드와 책의 집합은 서로소이다."
   ]
  },
  {
   "cell_type": "markdown",
   "metadata": {},
   "source": [
    "즉, 위 그림과 같이 서로에 대한 공통 분모가 하나도 없는 상태를 말한다.  \n",
    "$$\n",
    "A \\cap B = \\emptyset\n",
    "$$"
   ]
  },
  {
   "cell_type": "markdown",
   "metadata": {},
   "source": [
    "독립사건\n",
    "\n",
    "![](http://farm.resources.ebs.co.kr/edrb/thumb//IMG_20120116_00020_THM.jpg)"
   ]
  },
  {
   "cell_type": "markdown",
   "metadata": {},
   "source": [
    "위 그림과 같이 교집합이 있는 두집합은 $P(A) \\times P(B)=P(A \\cap B)$가 성립하면 독립사건이라고 말하며 교집합이 있고 없고의 차이가 "
   ]
  }
 ],
 "metadata": {
  "kernelspec": {
   "display_name": "Python [default]",
   "language": "python",
   "name": "python3"
  },
  "language_info": {
   "codemirror_mode": {
    "name": "ipython",
    "version": 3
   },
   "file_extension": ".py",
   "mimetype": "text/x-python",
   "name": "python",
   "nbconvert_exporter": "python",
   "pygments_lexer": "ipython3",
   "version": "3.6.1"
  }
 },
 "nbformat": 4,
 "nbformat_minor": 2
}

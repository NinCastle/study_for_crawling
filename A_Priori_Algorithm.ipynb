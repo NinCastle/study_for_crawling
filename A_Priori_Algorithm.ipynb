{
 "cells": [
  {
   "cell_type": "markdown",
   "metadata": {},
   "source": [
    "[연관규칙분석](https://ratsgo.github.io/machine%20learning/2017/04/08/apriori/)  \n",
    "아래의 내용은 상기 링크를 정리한것.  "
   ]
  },
  {
   "cell_type": "markdown",
   "metadata": {},
   "source": [
    "# 연관규칙분석(A Priori Alogorithm)"
   ]
  },
  {
   "cell_type": "markdown",
   "metadata": {},
   "source": [
    "## 알고리즘 개요 및 입력데이터"
   ]
  },
  {
   "cell_type": "markdown",
   "metadata": {},
   "source": [
    "연관규칙분석이란 두 아이템 집합이 자주 발생하는가를 알려주는 일련의 규칙을 생성하는 알고리즘이다.  \n",
    "경영학에서 **장바구니 분석(Market Basket Analysis)**으로 널리 알려져 있는 방법론이다.  \n",
    "소비자들의 구매이력 데이터를 가지고 \"X 아이템을 구매하는 고객은 Y아이템 역시 구매할 가능성이 높다\"라는 결론을 내는 알고리즘이다.  \n",
    "인터넷 쇼핑을 할 때 어떤 상품을 그 상품을 구매한 사람들이 선택한 다른 상품을 제안해준다던지 하는 컨텐츠 기반 추천(contents-based recommendation)의 기본이 되는 방법론이다.  \n",
    "  \n",
    "|ID|Items|\n",
    "|---|---|\n",
    "|1|달걀, 라면, 참치캔|\n",
    "|2|라면, 햇반|\n",
    "|3|라면, 콜라|\n",
    "|4|달걀,라면,햇반|\n",
    "|5|달걀, 콜라|\n",
    "|6|라면, 콜라|\n",
    "|7|라면, 햇반|\n",
    "|8|달걀, 라면, 콜라, 참치캔|\n",
    "|9|달걀, 라면, 콜라|\n",
    "|10|양파|"
   ]
  },
  {
   "cell_type": "markdown",
   "metadata": {},
   "source": [
    "위 데이터는 이렇게 해석 할수 있다. \n",
    "1번 고객은 편의점에 들려 달걀, 라면, 참치캔을 샀고,  \n",
    "7번 고객은 라면과 햇반을,  \n",
    "10번 고객은 양파를 구매한것을 확인 할수 있다.  \n",
    "이를 행렬 형태로 표현하게 되면 아래와 같이 대부분의 상품의 셀값이 0 값을 가지는 **희소행렬(sparse matrix)**가된다."
   ]
  },
  {
   "cell_type": "markdown",
   "metadata": {},
   "source": [
    "|ID|달걀|라면|참치캔|햇반|콜라|양파|\n",
    "|---|---|---|---|---|---|---|\n",
    "|1|1|1|1|0|0|0|\n",
    "|2|0|1|0|0|1|0|\n",
    "|3|0|1|0|0|0|1|\n",
    "|4|1|1|0|0|1|0|\n",
    "|5|1|0|0|0|0|1|\n",
    "|6|0|1|0|0|0|1|\n",
    "|7|0|1|0|0|1|0|\n",
    "|8|1|1|1|0|0|1|\n",
    "|9|1|1|0|0|0|1|\n",
    "|10|0|0|0|0|0|"
   ]
  }
 ],
 "metadata": {
  "kernelspec": {
   "display_name": "Python 3",
   "language": "python",
   "name": "python3"
  },
  "language_info": {
   "codemirror_mode": {
    "name": "ipython",
    "version": 3
   },
   "file_extension": ".py",
   "mimetype": "text/x-python",
   "name": "python",
   "nbconvert_exporter": "python",
   "pygments_lexer": "ipython3",
   "version": "3.5.3"
  }
 },
 "nbformat": 4,
 "nbformat_minor": 2
}

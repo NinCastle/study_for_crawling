{
 "cells": [
  {
   "cell_type": "markdown",
   "metadata": {},
   "source": [
    "# 정규표현식(Regular Expression)\n",
    "\n",
    "## 학습목표\n",
    "    + 정규표현식(re)에 대한 이해 및 숙지\n",
    "    \n",
    "    + 정규표현식\n",
    "        - regular expression(RE)\n",
    "        - 특정한 패턴과 일치하는 문자열을 '검색', '치환', '제거'하는 기능을 지원\n",
    "        - 정규표현식의 도움없이 패턴을 찾는 작업(Rule 기반)은 불완전 하거나, 작업의 Cost가 높음\n",
    "        - e.g) 이메일 형식 판별, 전화번호 형식 판별, 숫자로만 이루어진 문자열등"
   ]
  },
  {
   "cell_type": "markdown",
   "metadata": {},
   "source": [
    "**Python re module로 제공**\n",
    "    + 아래의 함수로 각각의 기능을 제공\n",
    "    + search\n",
    "    + match\n",
    "    + findall\n",
    "    + sub\n",
    "    + split\n",
    "    + compile"
   ]
  },
  {
   "cell_type": "markdown",
   "metadata": {},
   "source": [
    "**기본 패턴**\n",
    "    + a, X, 9 등등 문자 하나하나의 character들은 정확히 해당 문자와 일치\n",
    "        - e.g) 패턴 test는 test 문자열과 일치\n",
    "        - 대소문자의 경우 기본적으로 구별하나, 구별하지 않도록 설정 가능\n",
    "    + 몇 몇 문자들에 대해서는 예외가 존재하는데, 이들은 특별한 의미로 사용됨.\n",
    "     - . ^ $ + ? { } [ ] \\ | ( )\n",
    "     \n",
    "    + .(마침표) - 어떤 한개의 character와 일치 (newline(엔터) 제외)\n",
    "    + \\w - 문자 character와 일치 [a-zA-Z0-(_]\n",
    "    + \\s - 공백문자와 일치\n",
    "    + \\t, \\n, \\r - tab, newline, return\n",
    "    + \\d - 숫자 character와 일치[0-9]\n",
    "    + ^ = 시작, $ = 끝 각각 문자열의 시작과 끝을 의미.\n",
    "    + \\가 붙으면 스페셜한 의미가 없어짐. 예를 들어 \\\\.는 .자체를 의미 \\\\\\는 \\를 의미\n",
    "    + 자세한 내용은 링크 참조 https://docs.python.org/2/library/re.html"
   ]
  },
  {
   "cell_type": "markdown",
   "metadata": {},
   "source": [
    "* **raw string**\n",
    "    + 문자열 앞에 r이 붙으면 해당 문자열이 구성된 그대로 문자열로 반환"
   ]
  },
  {
   "cell_type": "code",
   "execution_count": 1,
   "metadata": {},
   "outputs": [
    {
     "name": "stdout",
     "output_type": "stream",
     "text": [
      "abcdef\n",
      "\n",
      "abcdef\\n\n"
     ]
    }
   ],
   "source": [
    "a = 'abcdef\\n' # \\n 익스케이프 문자열\n",
    "print(a)\n",
    "\n",
    "# raw string\n",
    "b = r'abcdef\\n'\n",
    "print(b)"
   ]
  },
  {
   "cell_type": "markdown",
   "metadata": {},
   "source": [
    "* **search method**\n",
    "    + 첫번째로 패턴을 찾으면 match 객채를 반환\n",
    "    + 패턴을 찾지 못하면 None 반환"
   ]
  },
  {
   "cell_type": "code",
   "execution_count": 2,
   "metadata": {},
   "outputs": [],
   "source": [
    "import re"
   ]
  },
  {
   "cell_type": "code",
   "execution_count": 7,
   "metadata": {
    "scrolled": true
   },
   "outputs": [
    {
     "name": "stdout",
     "output_type": "stream",
     "text": [
      "<_sre.SRE_Match object; span=(0, 4), match='test'>\n",
      "None\n",
      "\n",
      "<_sre.SRE_Match object; span=(0, 4), match='test'>\n",
      "None\n"
     ]
    }
   ],
   "source": [
    "# 패턴과 패턴을 검색할 문자열을 입력으로 전달\n",
    "# 일반적으로 패턴은 escape문자열이 사용 되기 때문에, raw string으로 사용함\n",
    "m = re.search(r'test', 'test') # (찾을문자열 찾을것)\n",
    "m1 = re.search(r'testd', 'test')\n",
    "\n",
    "test_c = [\"test\", \"testd\"]\n",
    "for i in range(len(test_c)):\n",
    "    m2 = re.search(test_c[i], 'test')\n",
    "    print(m2)\n",
    "print()\n",
    "print(m)\n",
    "print(m1)\n",
    "# 가장 기본적으로는 각 문자는 해당 문자와 매칭 되기 때문에\n",
    "# 위의 경우에서는 test가 test라는 패턴과 일치하여 결과를 match 객체를 반환"
   ]
  },
  {
   "cell_type": "code",
   "execution_count": 4,
   "metadata": {},
   "outputs": [
    {
     "name": "stdout",
     "output_type": "stream",
     "text": [
      "<_sre.SRE_Match object; span=(1, 4), match='iii'>\n"
     ]
    }
   ],
   "source": [
    "# piiig에 패턴 iii가 속해 있음\n",
    "i_t = r'iii'\n",
    "p_t = 'piiig'\n",
    "match = re.search(i_t, p_t)\n",
    "print(match)"
   ]
  },
  {
   "cell_type": "code",
   "execution_count": 8,
   "metadata": {},
   "outputs": [
    {
     "name": "stdout",
     "output_type": "stream",
     "text": [
      "1\n",
      "4\n",
      "iii\n"
     ]
    }
   ],
   "source": [
    "print(match.start()) # 문자열에서 매치하는 패턴의 시작 인덱스\n",
    "print(match.end())   # 문자열에서 매치하는 패턴의 마지막 인덱스 + 1\n",
    "print(match.group()) # 문자열에서 매치하는 패턴 문자열"
   ]
  },
  {
   "cell_type": "code",
   "execution_count": null,
   "metadata": {},
   "outputs": [],
   "source": []
  }
 ],
 "metadata": {
  "kernelspec": {
   "display_name": "Python 3",
   "language": "python",
   "name": "python3"
  },
  "language_info": {
   "codemirror_mode": {
    "name": "ipython",
    "version": 3
   },
   "file_extension": ".py",
   "mimetype": "text/x-python",
   "name": "python",
   "nbconvert_exporter": "python",
   "pygments_lexer": "ipython3",
   "version": "3.5.3"
  }
 },
 "nbformat": 4,
 "nbformat_minor": 2
}

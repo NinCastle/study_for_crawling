{
 "cells": [
  {
   "cell_type": "markdown",
   "metadata": {},
   "source": [
    "[Ridge와 Lasso Regression을 이해하기 위한 Linear Regression의 쉬운 풀이](https://brunch.co.kr/@itschloe1/9)  \n",
    "[Ridge와 Lasso Regression의 쉬운 풀이](https://brunch.co.kr/@itschloe1/11)  \n",
    "아래 내용은 상기 링크를 정리한것."
   ]
  }
 ],
 "metadata": {
  "kernelspec": {
   "display_name": "text3.5",
   "language": "python",
   "name": "text3.5"
  },
  "language_info": {
   "codemirror_mode": {
    "name": "ipython",
    "version": 3
   },
   "file_extension": ".py",
   "mimetype": "text/x-python",
   "name": "python",
   "nbconvert_exporter": "python",
   "pygments_lexer": "ipython3",
   "version": "3.5.5"
  }
 },
 "nbformat": 4,
 "nbformat_minor": 2
}

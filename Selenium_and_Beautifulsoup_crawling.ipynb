{
 "cells": [
  {
   "cell_type": "markdown",
   "metadata": {},
   "source": [
    "# Selenium + BeautifulSoup 로 \n",
    "# 플레이 스토어 댓글 크롤링하기"
   ]
  },
  {
   "cell_type": "code",
   "execution_count": 9,
   "metadata": {},
   "outputs": [
    {
     "name": "stdout",
     "output_type": "stream",
     "text": [
      "https://play.google.com/store/apps/details?id=sixpack.sixpackabs.absworkout&amp;showAllReviews;=true\n",
      "\n"
     ]
    },
    {
     "name": "stderr",
     "output_type": "stream",
     "text": [
      "C:\\Users\\Andrew\\AppData\\Local\\conda\\conda\\envs\\text3.5\\lib\\site-packages\\bs4\\__init__.py:207: UserWarning: \"b'https://play.google.com/store/apps/details?id=sixpack.sixpackabs.absworkout&showAllReviews=true'\" looks like a URL. Beautiful Soup is not an HTTP client. You should probably use an HTTP client to get the document behind the URL, and feed that document to Beautiful Soup.\n",
      "  '\"%s\" looks like a URL. Beautiful Soup is not an HTTP client. You should probably use an HTTP client to get the document behind the URL, and feed that document to Beautiful Soup.' % markup)\n"
     ]
    }
   ],
   "source": [
    "from bs4 import BeautifulSoup\n",
    "url = \"https://play.google.com/store/apps/details?id=sixpack.sixpackabs.absworkout&showAllReviews=true\"\n",
    "soup = BeautifulSoup(url, 'html.parser')\n",
    "\n",
    "print(soup.prettify())"
   ]
  },
  {
   "cell_type": "code",
   "execution_count": 16,
   "metadata": {},
   "outputs": [],
   "source": [
    "from selenium import webdriver\n",
    "\n",
    "driver = webdriver.Chrome('D:\\chromedriver_win32/chromedriver')\n",
    "\n",
    "\n",
    "driver.get(url)\n",
    "driver\n",
    "html = driver.page_source\n",
    "soup = BeautifulSoup(html, 'html.parser')\n"
   ]
  },
  {
   "cell_type": "code",
   "execution_count": 27,
   "metadata": {},
   "outputs": [
    {
     "data": {
      "text/plain": [
       "[<span jsname=\"bN97Pc\">쉽게 설명도 나오고 차근차근 따라하니 땀도 많이 나고 운동하는게 느껴져서 좋네요.</span>,\n",
       " <span jsname=\"bN97Pc\">일단 유용하다고 생각됩니다, 방송할까 생각중이에요 ㅎㅎ</span>,\n",
       " <span jsname=\"bN97Pc\">어느순간 말투가 너무 느려져서 그것만 거슬려요...</span>,\n",
       " <span jsname=\"bN97Pc\">이제 써보려고 하는데 식스펙 보다는 뱃살을 빼려고 하는데 좋은가요?</span>,\n",
       " <span jsname=\"bN97Pc\">완전 좋은데 광고랑 다음 운동 나오는곳이 바뀌엇음 좋겠어요</span>,\n",
       " <span jsname=\"bN97Pc\">효과기대하고있습니다.조으네요</span>,\n",
       " <span jsname=\"bN97Pc\">효과가 있어 놀라는중입니다..</span>,\n",
       " <span jsname=\"bN97Pc\">애들이돼지라고놀렸는대이제는걱정않해도돼서너무좋아요^^~</span>,\n",
       " <span jsname=\"bN97Pc\">도움이 조금씩 되는것 같습니다ㅎㅎ</span>,\n",
       " <span jsname=\"bN97Pc\">정말로 효과가 있어요ㅠㅠ</span>,\n",
       " <span jsname=\"bN97Pc\">운동도 아주 잘 돼고 재미있어요.</span>,\n",
       " <span jsname=\"bN97Pc\">꾸준히 운동하고있어요!!!</span>,\n",
       " <span jsname=\"bN97Pc\">따나한다면 일단 배가 들어가징‥</span>,\n",
       " <span jsname=\"bN97Pc\">효과가 느껴져 놀랐어요 짱짱</span>,\n",
       " <span jsname=\"bN97Pc\">유연성이 별로없는 사람은 비추합니다 너무 유연성이 많이나와서 불편합니다</span>,\n",
       " <span jsname=\"bN97Pc\">가볍게 운동하기 딱 좋아요ㅋㅋ</span>,\n",
       " <span jsname=\"bN97Pc\">땀 많이나네요</span>,\n",
       " <span jsname=\"bN97Pc\">굿!</span>,\n",
       " <span jsname=\"bN97Pc\">좋은어플만들어주셔서 감사합니다~^^</span>,\n",
       " <span jsname=\"bN97Pc\">이거최고다</span>,\n",
       " <span jsname=\"bN97Pc\">걍 조음</span>,\n",
       " <span jsname=\"bN97Pc\">효과가있네요</span>,\n",
       " <span jsname=\"bN97Pc\">열심히하게되네요</span>,\n",
       " <span jsname=\"bN97Pc\">겁나좋아요</span>,\n",
       " <span jsname=\"bN97Pc\">좋습디다</span>,\n",
       " <span jsname=\"bN97Pc\">아주좋소</span>,\n",
       " <span jsname=\"bN97Pc\">쵝오!</span>,\n",
       " <span jsname=\"bN97Pc\">멋진복근만들자으아</span>,\n",
       " <span jsname=\"bN97Pc\">예스</span>,\n",
       " <span jsname=\"bN97Pc\">잘 사용하고 있답니다.</span>,\n",
       " <span jsname=\"bN97Pc\">좋음</span>,\n",
       " <span jsname=\"bN97Pc\">좋아요</span>,\n",
       " <span jsname=\"bN97Pc\">최고에요</span>,\n",
       " <span jsname=\"bN97Pc\">좋습니다!</span>,\n",
       " <span jsname=\"bN97Pc\">너무좋아요.</span>,\n",
       " <span jsname=\"bN97Pc\">정말좋아요</span>,\n",
       " <span jsname=\"bN97Pc\">짱 좋음</span>,\n",
       " <span jsname=\"bN97Pc\">굿</span>,\n",
       " <span jsname=\"bN97Pc\">살빠지는중....</span>,\n",
       " <span jsname=\"bN97Pc\">굿</span>]"
      ]
     },
     "execution_count": 27,
     "metadata": {},
     "output_type": "execute_result"
    }
   ],
   "source": [
    "div_add = soup.find('div', { 'class': 'LXrl4c' })\n",
    "jscontroller_t = div_add.findAll('div', {'jscontroller':\"H6eOGe\"}) \n",
    "div_add.findAll('span', {'jsname':\"bN97Pc\"})"
   ]
  }
 ],
 "metadata": {
  "kernelspec": {
   "display_name": "text3.5",
   "language": "python",
   "name": "text3.5"
  },
  "language_info": {
   "codemirror_mode": {
    "name": "ipython",
    "version": 3
   },
   "file_extension": ".py",
   "mimetype": "text/x-python",
   "name": "python",
   "nbconvert_exporter": "python",
   "pygments_lexer": "ipython3",
   "version": "3.5.5"
  }
 },
 "nbformat": 4,
 "nbformat_minor": 2
}

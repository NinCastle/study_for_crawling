{
 "cells": [
  {
   "cell_type": "markdown",
   "metadata": {},
   "source": [
    "[인공지능에 자주나오는 수학1 -유클리디안 거리](http://bbs.nicklib.com/algorithm/1662)  \n",
    "[맨하탄 거리, 유클리디안거리](http://vsdevelop.tistory.com/2)  \n",
    "아래 내용은 상기 링크를 정리한것."
   ]
  },
  {
   "cell_type": "markdown",
   "metadata": {},
   "source": [
    "# Manhattan Distance(맨하탄 거리) 와 Euclidean Distance(유클리디안 거리) "
   ]
  },
  {
   "cell_type": "markdown",
   "metadata": {},
   "source": [
    "## Euclidean Distance(유클리디안 거리)"
   ]
  },
  {
   "cell_type": "markdown",
   "metadata": {},
   "source": [
    "Euclidean 이라는 수학자가 생각해낸 공식 이며 다른말로 L2 Distance라고 한다.  \n",
    "  \n",
    "x축과 y축에서 두 점사이를 구하는 방식 **피타고라스 정의**이고,  \n",
    "다차원 좌표에서 두점사이를 구하는 방식 유클리디안 거리이다.  \n",
    "\n",
    "두 점 $P$와 $Q$가 각각 $P=(p_1, p_2, p_3, \\cdots, p_n)$와 $Q=(q_1,q_2,q_3,\\cdots, q_n)$의 좌표를 갖을 때 두 점사이의 거리를 계산하는 Duclideandistance(유클리디안 거리)공식은 다음과 같다."
   ]
  },
  {
   "cell_type": "markdown",
   "metadata": {},
   "source": [
    "$$\n",
    "\\sqrt{(p_1-q_1)^2+(p_2 - q_2)^2 + \\cdots + (p_n - q_n)^2} = \\sqrt{\\sum_{i=1}^n (p_i - q_i)^2} \n",
    "$$"
   ]
  },
  {
   "cell_type": "markdown",
   "metadata": {},
   "source": [
    "이를 0 ~ 1 사이의 값을 갖도록 하기 위해 다음과 같이 계산하여 사용하기도 한다.\n",
    "\n",
    "$$\n",
    "\\frac{1}{1+Ed} = \\frac{1}{1}\n",
    "$$"
   ]
  }
 ],
 "metadata": {
  "kernelspec": {
   "display_name": "Python 3",
   "language": "python",
   "name": "python3"
  },
  "language_info": {
   "codemirror_mode": {
    "name": "ipython",
    "version": 3
   },
   "file_extension": ".py",
   "mimetype": "text/x-python",
   "name": "python",
   "nbconvert_exporter": "python",
   "pygments_lexer": "ipython3",
   "version": "3.6.4"
  }
 },
 "nbformat": 4,
 "nbformat_minor": 2
}

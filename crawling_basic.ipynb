{
 "cells": [
  {
   "cell_type": "markdown",
   "metadata": {},
   "source": [
    "# Crawling"
   ]
  },
  {
   "cell_type": "markdown",
   "metadata": {},
   "source": [
    "## 학습목표\n",
    "1. HTTP(HyperText Transport Protocol) 개념 이해\n",
    "2. Crawling 개념 이해\n",
    "3. BeautifulSoup module을 이용한 Crawling 이해 및 실제 적용"
   ]
  },
  {
   "cell_type": "markdown",
   "metadata": {},
   "source": []
  },
  {
   "cell_type": "markdown",
   "metadata": {},
   "source": [
    "## 1. HTTP(HyperText Tranport Protocol)\n",
    "### 1.1 프로토콜 : 네트워크 통신 규약\n",
    "\n",
    "* 인터넷 프로토콜 : TCP 및 IP 프로토콜이 핵심, TCP/IP 프로토콜\n",
    "* 이더넷: 네트워크 모듈\n",
    "* IP 프로토콜 : 컴츄터 주소를 찾는 프로토콜\n",
    "* TCP 프로토콜 : 컴퓨터간 신뢰성이 있는 데이터 전송을 지원하는 프로토콜"
   ]
  },
  {
   "cell_type": "markdown",
   "metadata": {},
   "source": []
  },
  {
   "cell_type": "markdown",
   "metadata": {},
   "source": [
    "- form tag의 이해\n",
    "    * form tag는 클라이언트에서 서버로 데이터 전송을 위해 사용.\n",
    "    * form tag의 대표적인 사용 예로 로그인을 들수 있다.\n",
    "        * Id와 password를 서버로 전송해야 하는데 이때 form data를 이용\n",
    "    * form tag는 여러 속성을 가지고 있으나 제일 중요한 것은 아래 두 속성\n",
    "        * action: 수신 대상\n",
    "        * method: 전송 방식\n",
    "            ```            \n",
    "           1. <form action =\"result.jsp\" method=\"post\">\n",
    "           2. ....\n",
    "           3. </form>\n",
    "            \n",
    "            ```\n",
    "        * 위 코드를 예로 들면 form의 수신대상은 result.jsp이고, 전송방식은 post방식이다."
   ]
  },
  {
   "cell_type": "markdown",
   "metadata": {},
   "source": []
  },
  {
   "cell_type": "markdown",
   "metadata": {},
   "source": [
    "**- HTTP 프로토콜 : WWW(웹)상에서 문서 전송을 위한 프로토콜**\n",
    "   - request(요청)/ response(응답)으로 구성\n",
    "    \n",
    "        * browser(클라이언트)가 요청하면 web server(서버)가 HTML 파일이나 다른 자원(이미지, 텍스트 등을)을 응답으로 전송\n",
    "        * request의 형태에는 대표적으로 GET/ POST가 있음\n",
    "            * <font color=\"Green\">GET 방식</font> : 데이터 전달을 URL내에서 한다\n",
    "                * ex:\n",
    "                ```\n",
    "                https://search.naver.com/search.naver?where=nexearch&sm=top_hty&fbm=1&ie=utf8&query=%EB%B9%85%EB%8D%B0%EC%9D%B4%ED%84%B0\n",
    "                \n",
    "                ```\n",
    "            * <font color=\"Green\">POST 방식</font> : 데이터 전송을 form 태그를 통해서 사용(클라이언트에 직접적으로 노출되지 않는다.)\n",
    "                * ex: \n",
    "                ```\n",
    "                ID, 비밀번호 전달의 경우\n",
    "                \n",
    "                ```"
   ]
  },
  {
   "cell_type": "markdown",
   "metadata": {},
   "source": [
    "- 다시말해서 \n",
    "    * GET은 쪽지에 적어서 보내기\n",
    "    * POST는 보안가방안에 적어보내기 라고 생각하면된다.\n",
    "        * 간단히 비교하면 아래와 같다\n",
    "\n",
    "| **Method** | **속도** | **보안** | **전송량** |\n",
    "|:-----------:|:---------:|:----------:|:---------:|\n",
    "| GET  | 빠름 | 없음 | 제한적(255 Byts) |\n",
    "| POST | 느림 | 있음 | 제한 없음 |       "
   ]
  },
  {
   "cell_type": "markdown",
   "metadata": {},
   "source": []
  },
  {
   "cell_type": "markdown",
   "metadata": {},
   "source": [
    "### 2. Crawling 이란?\n",
    "* Web상에 존재하는 Contents를 수집하는 작업 (프로그래밍으로 자동화 가능)\n",
    "    1. HTML 페이지를 **가져와서**, HTML/CSS등을 **파싱**하고, 필요한 데이터만 추출하는 기법\n",
    "    2. Open API(Rest API)를 제공하는 서비스에 Open API를 호출해서, 받은 데이터중 필요하만 데이터를 추출하는 기법\n",
    "    3. **Selenium**등 브라우저를 프로그래밍으로 조작해서, 필요한 데이터만 추출하는 기법 "
   ]
  },
  {
   "cell_type": "markdown",
   "metadata": {},
   "source": []
  },
  {
   "cell_type": "markdown",
   "metadata": {},
   "source": [
    "### 3. Crawling 예제\n",
    "**3.1. BeautifulSoup 라이브러리를 활용한 초간단 예제**\n",
    "   - HTML의 태그를 파싱해서 필요한 데이터만 추출하는 함수를 제공하는 라이브러리\n",
    "   - [BeautifulSoup 라이브러리 페이지](https://www.crummy.com/software/BeautifulSoup/bs4/doc/)\n",
    "   - 설치방법(linux, Anaconda가 설치된 windows)\n",
    "       - pip install bs4\n",
    "   - [참고: BeautifulSoup 4 API Guide](http://omz-software.com/pythonista/docs/ios/beautifulsoup_guide.html)"
   ]
  },
  {
   "cell_type": "code",
   "execution_count": 22,
   "metadata": {},
   "outputs": [
    {
     "name": "stdout",
     "output_type": "stream",
     "text": [
      "잔금대출에도 DTI 규제 적용 검토 | Daum 뉴스\n"
     ]
    }
   ],
   "source": [
    "import requests\n",
    "from bs4 import BeautifulSoup\n",
    "\n",
    "# 1) requests 라이브러리를 활용한 HTML 페이지 요청\n",
    "# 1-1) res 객체에 HTML 데이터가 저장되고, res.content로 데이터를 추출 할 수 있음\n",
    "res = requests.get('http://v.media.daum.net/v/20170615203441266')\n",
    "# print(res.content)\n",
    "\n",
    "# 2) HTML 페이지 파싱 BeautifulSoup(HTML데이터, 파싱방법)\n",
    "# 2-1) BeautifulSoup 파싱방법\n",
    "soup = BeautifulSoup(res.content, 'html.parser')\n",
    "# print(soup)\n",
    "\n",
    "# 3) 필요한 데이터 검색\n",
    "title = soup.find('title')\n",
    "# print(title)\n",
    "\n",
    "# 4) 필요한 데이터 추출\n",
    "print(title.get_text())"
   ]
  },
  {
   "cell_type": "markdown",
   "metadata": {},
   "source": [
    "**3.2. BeaufifulSoup 라이브러리 활용 주요 예제**\n",
    "   - find()와 find_all() 메서드 사용법 이해하기\n",
    "   - find() : 가장먼저 검색되는 태그 반환\n",
    "   - find_all() : 전체 태그 반환"
   ]
  },
  {
   "cell_type": "code",
   "execution_count": 12,
   "metadata": {},
   "outputs": [
    {
     "name": "stdout",
     "output_type": "stream",
     "text": [
      "<h1 id=\"title\">[1]크롤링 이란?</h1>\n",
      "[1]크롤링 이란?\n",
      "[1]크롤링 이란?\n"
     ]
    }
   ],
   "source": [
    "from bs4 import BeautifulSoup\n",
    "\n",
    "html = \"\"\"\n",
    "<html> \\\n",
    "    <body> \\\n",
    "        <h1 id='title'>[1]크롤링 이란?</h1> \\\n",
    "        <p class='cssstyle'>웹페이지에서 필요한 데이터를 추출하는 것</p> \\\n",
    "        <p id='body' align='enter'>파이썬을 중심으로 다양한 웹크롤링 기술 발달</p> \\\n",
    "    </body> \\\n",
    "</html>\n",
    "\"\"\"\n",
    "\n",
    "soup = BeautifulSoup(html, \"html.parser\")\n",
    "\n",
    "#태그로 검색 방법\n",
    "title_data = soup.find('h1')\n",
    "\n",
    "print(title_data)\n",
    "print(title_data.string)\n",
    "print(title_data.get_text())"
   ]
  },
  {
   "cell_type": "code",
   "execution_count": 13,
   "metadata": {},
   "outputs": [
    {
     "name": "stdout",
     "output_type": "stream",
     "text": [
      "<p class=\"cssstyle\">웹페이지에서 필요한 데이터를 추출하는 것</p>\n",
      "웹페이지에서 필요한 데이터를 추출하는 것\n",
      "웹페이지에서 필요한 데이터를 추출하는 것\n"
     ]
    }
   ],
   "source": [
    "# 가장먼저 검색되는 태그를 반환\n",
    "paragraph_data = soup.find('p')\n",
    "\n",
    "print(paragraph_data)\n",
    "print(paragraph_data.string)\n",
    "print(paragraph_data.get_text())"
   ]
  },
  {
   "cell_type": "code",
   "execution_count": 15,
   "metadata": {},
   "outputs": [
    {
     "name": "stdout",
     "output_type": "stream",
     "text": [
      "<h1 id=\"title\">[1]크롤링 이란?</h1>\n",
      "[1]크롤링 이란?\n",
      "[1]크롤링 이란?\n"
     ]
    }
   ],
   "source": [
    "# 태그에 있는 id로 검색(javascript 예를 상기!)\n",
    "title_data = soup.find(id='title')\n",
    "\n",
    "print(title_data)\n",
    "print(title_data.string)\n",
    "print(title_data.get_text())"
   ]
  },
  {
   "cell_type": "code",
   "execution_count": 16,
   "metadata": {},
   "outputs": [
    {
     "name": "stdout",
     "output_type": "stream",
     "text": [
      "<p class=\"cssstyle\">웹페이지에서 필요한 데이터를 추출하는 것</p>\n",
      "웹페이지에서 필요한 데이터를 추출하는 것\n",
      "웹페이지에서 필요한 데이터를 추출하는 것\n"
     ]
    }
   ],
   "source": [
    "# HTML 태그와 CSS class를 활용해서 필요한 데이터를 추출하는 방법1\n",
    "paragraph_data = soup.find('p', class_='cssstyle')\n",
    "\n",
    "print(paragraph_data)\n",
    "print(paragraph_data.string)\n",
    "print(paragraph_data.get_text())"
   ]
  },
  {
   "cell_type": "code",
   "execution_count": 17,
   "metadata": {},
   "outputs": [
    {
     "name": "stdout",
     "output_type": "stream",
     "text": [
      "<p class=\"cssstyle\">웹페이지에서 필요한 데이터를 추출하는 것</p>\n",
      "웹페이지에서 필요한 데이터를 추출하는 것\n",
      "웹페이지에서 필요한 데이터를 추출하는 것\n"
     ]
    }
   ],
   "source": [
    "# HTML 태그와 CSS class를 활용해서 필요한 데이터를 추출하는 방법2\n",
    "paragraph_data = soup.find('p', 'cssstyle')\n",
    "\n",
    "print(paragraph_data)\n",
    "print(paragraph_data.string)\n",
    "print(paragraph_data.get_text())"
   ]
  },
  {
   "cell_type": "code",
   "execution_count": 19,
   "metadata": {},
   "outputs": [
    {
     "name": "stdout",
     "output_type": "stream",
     "text": [
      "[<p class=\"cssstyle\">웹페이지에서 필요한 데이터를 추출하는 것</p>, <p align=\"enter\" id=\"body\">파이썬을 중심으로 다양한 웹크롤링 기술 발달</p>]\n",
      "웹페이지에서 필요한 데이터를 추출하는 것\n",
      "파이썬을 중심으로 다양한 웹크롤링 기술 발달\n"
     ]
    }
   ],
   "source": [
    "# find_all() 관련된 모든 데이터를 리스트 형태로 추출하는 함수\n",
    "paragraph_data = soup.find_all('p')\n",
    "\n",
    "print(paragraph_data)\n",
    "print(paragraph_data[0].string)\n",
    "print(paragraph_data[1].get_text())"
   ]
  },
  {
   "cell_type": "markdown",
   "metadata": {},
   "source": []
  },
  {
   "cell_type": "markdown",
   "metadata": {},
   "source": [
    "* **String 검색**\n",
    "    - 태그가 아닌 문자열 자체로 검색\n",
    "    - 문자열, 정규표현식 등등으로 검색 가능\n",
    "        - 문자열 검색의 경우 한 태그내의 문자열과 exact matching인 것만 추출\n",
    "        - 이것이 의도한 경우가 아니라면 정규표현식 사용"
   ]
  },
  {
   "cell_type": "code",
   "execution_count": 30,
   "metadata": {},
   "outputs": [
    {
     "name": "stdout",
     "output_type": "stream",
     "text": [
      "['오대석']\n",
      "['[이주의해시태그-#네이버-클로바]쑥쑥 크는 네이버 AI', '오대석']\n",
      "[]\n",
      "[이주의해시태그-#네이버-클로바]쑥쑥 크는 네이버 AI | Daum 뉴스\n"
     ]
    }
   ],
   "source": [
    "import re\n",
    "\n",
    "res = requests.get('http://v.media.daum.net/v/20170518153405933')\n",
    "soup = BeautifulSoup(res.content, 'html5lib')\n",
    "\n",
    "\n",
    "print(soup.find_all(string='오대석'))\n",
    "print(soup.find_all(string=['[이주의해시태그-#네이버-클로바]쑥쑥 크는 네이버 AI', '오대석']))\n",
    "print(soup.find_all(string='AI'))\n",
    "print(soup.find_all(string=re.compile('AI'))[0])\n",
    "# print(soup.find_all(string=re.compile('AI'))[0])\n",
    "# print (soup.find_all(string=re.compile('AI')))"
   ]
  },
  {
   "cell_type": "markdown",
   "metadata": {},
   "source": [
    "**<font color=\"Green\" size=\"4em\">연습문제1</font>**\n",
    " 1. 다음 사이트에서 링크가 되어 있는 모든 제목을 가져와서 출력합니다.\n",
    "    http://media.daum.net/digital/\n",
    " \n",
    "    X 참고코드: git 저장소에서 02_examples/crawling_seeko_title.py 를 참고 \n",
    "    - 프로그래밍은 스스로 작성을 해야 합니다. 정 이해하기 어려울 때만 참고코드를 보시면 좋을 것 같습니다.\n",
    " "
   ]
  },
  {
   "cell_type": "code",
   "execution_count": 36,
   "metadata": {},
   "outputs": [
    {
     "name": "stdout",
     "output_type": "stream",
     "text": [
      "홈\n",
      "사회\n",
      "정치\n",
      "경제\n",
      "국제\n",
      "문화\n",
      "선택됨IT\n",
      "랭킹\n",
      "연재\n",
      "포토\n",
      "TV\n"
     ]
    }
   ],
   "source": [
    "res = requests.get('http://media.daum.net/digital/')\n",
    "soup = BeautifulSoup(res.content,'html.parser')\n",
    "link_title = soup.find_all('ul', class_='gnb_comm')\n",
    "\n",
    "for num in range(len(link_title)):\n",
    "    print(link_title[num].get_text().strip())"
   ]
  },
  {
   "cell_type": "code",
   "execution_count": null,
   "metadata": {
    "collapsed": true
   },
   "outputs": [],
   "source": []
  },
  {
   "cell_type": "markdown",
   "metadata": {},
   "source": [
    "**3.2. Open API(Rest API)를 활용한 초간단 크롤링 실습**\n",
    "#### Open API(Rest API)란?\n",
    "   - **API** : Application Programming Interface의 약자로, 특정 프로그램을 만들기 위해 제공되는 모듈(함수 등)을 의미\n",
    "   - **Open API** : 공개 API라고도 불리우며, 누구나 사용할 수 있도록 공개된 API (주로 Rest API 기술을 많이 사용함)\n",
    "   - **Rest API** : Representational State Transfer API의 약자로, HTTP프로토콜을 통해 서버 제공 기능을 사용할 수 있는 함수를 의미\n",
    "       - 일반적으로 XML, JSON의 형태로 응답을 전달(원하는 데이터 추출이 수월)\n",
    "       - [참고 - RestAPI란](http://hyunalee.tistory.com/1)\n",
    " "
   ]
  },
  {
   "cell_type": "code",
   "execution_count": null,
   "metadata": {
    "collapsed": true
   },
   "outputs": [],
   "source": []
  },
  {
   "cell_type": "markdown",
   "metadata": {},
   "source": [
    "### API란\n",
    "\n",
    "API를 통해 소스 및 데이터베이스는 접근하지 못하고 해당 프로그램을 사용할 수 있도록 기능을 제공하는 것.\n",
    "보통 웹에서의 API는 데이터를 요청하고 응답하는게 전부이며, Wiki에서는 웹 API를 아래와 같이 정의\n",
    "\"웹 API는 웹 애플리케이션 개발에서 다른 서비스에 요청을 보내고 응답을 받기 위해 정의된 명세를 일컫는다.\""
   ]
  },
  {
   "cell_type": "code",
   "execution_count": null,
   "metadata": {
    "collapsed": true
   },
   "outputs": [],
   "source": []
  },
  {
   "cell_type": "code",
   "execution_count": null,
   "metadata": {
    "collapsed": true
   },
   "outputs": [],
   "source": [
    "Rest api 더 공부해야함"
   ]
  },
  {
   "cell_type": "markdown",
   "metadata": {},
   "source": [
    "### REST API란\n",
    "REST API는 크게 리소스, 메서드, 메시지로 이루어져 있다.\n",
    "예, "
   ]
  },
  {
   "cell_type": "code",
   "execution_count": null,
   "metadata": {
    "collapsed": true
   },
   "outputs": [],
   "source": []
  },
  {
   "cell_type": "markdown",
   "metadata": {},
   "source": [
    "### JSON 이란\n",
    "\n",
    "   * JavaScript Object Notation 줄임말\n",
    "   * 웹환경에서 서버와 클라이언트 사이에 데이터를 주고 받을때 ㅏㅁㄶ이 사용\n",
    "       - Rest API가 주요한 예제\n",
    "   * JSON 포맷 예 <br>\n",
    "   { \"id\": \"01\", \"language\" : \"Java\", \"edition\" : \"third\", \"author\" : \"Herbert Schildt\" }\n",
    "   <br>\n",
    "   <br>\n",
    "   { \"key\" : \"value\" }\n",
    "   <br>\n",
    "   <br>\n",
    "   * 참고 (https://books.google.co.kr/books?id=euSiAwAAQBAJ&pg=PT1755&lpg=PT1755&dq=json+%EC%9E%A5%EC%A0%90&source=bl&ots=VjTIoOjbTK&sig=3t7MXA7g2CvEi8SyD0-GQVywzw0&hl=ko&sa=X&ved=0ahUKEwiwo8OvxJfWAhXDsJQKHYaBDpI4ChDoAQhVMAg#v=onepage&q=json%20%EC%9E%A5%EC%A0%90&f=false)\n",
    "\n",
    " 출처: http://dpug.tistory.com/67#.WbycWshJaUk [퍼그의 전초기지]\n",
    "   "
   ]
  },
  {
   "cell_type": "code",
   "execution_count": null,
   "metadata": {
    "collapsed": true
   },
   "outputs": [],
   "source": []
  },
  {
   "cell_type": "markdown",
   "metadata": {},
   "source": [
    "**3.2.1. 네이버 검색 Open API를 이용한 크롤링 초간단 실습**\n",
    " - https://developers.naver.com/main/\n",
    " - [블로그 검색 가이드 문서](https://developers.naver.com/docs/search/blog/)\n",
    "   - 네이버 Open API 이용신청 [참고](http://hnark.tistory.com/135)"
   ]
  },
  {
   "cell_type": "code",
   "execution_count": null,
   "metadata": {
    "collapsed": true
   },
   "outputs": [],
   "source": []
  },
  {
   "cell_type": "markdown",
   "metadata": {},
   "source": [
    " - postman 설치 \n",
    "     - (상세 가이드: http://www.a-mean-blog.com/ko/blog/Node-JS-API/_/API-%ED%85%8C%EC%8A%A4%ED%8A%B8-%ED%94%84%EB%A1%9C%EA%B7%B8%EB%9E%A8-Postman-%EC%84%A4%EC%B9%98%EB%B0%8F-%EA%B0%84%EB%8B%A8-%EC%82%AC%EC%9A%A9%EB%B2%95)\n",
    "   \n",
    "   1. Chrome -> Postman 실행 (https://chrome.google.com/webstore/detail/postman/fhbjgbiflinjbdggehcddcbncdddomop/related)\n",
    "   2. Sign Up in Postman\n",
    "   3. Insert https://openapi.naver.com/v1/search/news.json?query=스마트 into GET\n",
    "   4. Add X-Naver-Client-Id(key), <font color=\"Green\">CsODwdUTyG9vOI1uIeIf</font>(value) into Headers\n",
    "   5. Add X-Naver-Client-Secret(key), <font color=\"Green\">YmIx0GW8JG</font>(value) into Headers\n",
    "   6. Send\n",
    "   ![postman.png](attachment:postman.png)"
   ]
  },
  {
   "cell_type": "markdown",
   "metadata": {
    "collapsed": true
   },
   "source": [
    "**3.2.1.1. urllib 라이브러리를 활용한 크롤링 코드**\n",
    "  - 인터넷에 다양한 예제들이 urllib 또는 urllib2를 사용한 예제들이 많으므로, 익혀둘 필요가 있음"
   ]
  },
  {
   "cell_type": "code",
   "execution_count": 8,
   "metadata": {
    "scrolled": true
   },
   "outputs": [
    {
     "name": "stdout",
     "output_type": "stream",
     "text": [
      "&quot;손편지 그리워&quot;…감성 메마른 성탄 카드\n",
      "<b>스마트폰</b> 등 모바일 기기와 앱 등 모바일 서비스가 생활 속에 자리 잡으면서 달라진 모습 중 하나다. 3일 오전 11시 30분께 찾은 대구 달서구 감삼동의 A대형마트에는 크리스마스 카드.. 빠른 전송·간편함 등 이유로 연하장... \n"
     ]
    }
   ],
   "source": [
    "import urllib.request\n",
    "import json\n",
    "\n",
    "\n",
    "client_id = ''\n",
    "client_key = ''\n",
    "\n",
    "# 한글등 non-ASCII text를 URL에 넣을 수 있도록 \"%\" flowed by hexadecimal digits(16 진수)로 변경\n",
    "# 16진수의 변환 이유는 URL은 ASCII 인코딩셋만 지원하기 때문임\n",
    "encText = urllib.parse.quote_plus(\"스마트폰\")\n",
    "# print(encText)\n",
    "# %EC%8A%A4%EB%A7%88%ED%8A%B8%ED%8F%B0 print문 출력 변환된형태\n",
    "\n",
    "naver_url = 'https://openapi.naver.com/v1/search/news.json?query=' + encText\n",
    "\n",
    "# urllib.request.Request()는 HTTP Header 변경시에 사용함\n",
    "# 네이버에서도 다음 HTTP Header 키를 변경해야하기 때문에 사용함\n",
    "# HTTP Header 변경이 필요없다면, 바로 urllib.reqeust.rulopen()함수만 사용해도 됨\n",
    "request = urllib.request.Request(naver_url)\n",
    "request.add_header(\"X-Naver-Client-Id\",client_id)\n",
    "request.add_header(\"X-Naver-Client-Secret\",client_key)\n",
    "\n",
    "# rullib.reqeust.urlopen 메소드로 크롤링할 웹페이지를 가져옴\n",
    "response = urllib.request.urlopen(request)\n",
    "\n",
    "# getcode() 메서드로 HTTP응답상테 코드를 가져올 수 있음\n",
    "rescode = response.getcode()\n",
    "# print(rescode)\n",
    "\n",
    "# HTTP 요청 응답이 정상적일 경우, 해당 HTML 데이터를 수신되었기 때문에 필요한 데이터 추출이 가능함\n",
    "# HTTP 요청에 대한 정상응답일 경우, HTTP 응답 상태 코드 값이 200이 됩니다.\n",
    "if(rescode == 200):\n",
    "    # response.read() 메서드로 수신된 HTML 데이터를 가져올 수 있음\n",
    "    response_body = response.read()\n",
    "    \n",
    "    # 네이버 Open API를 통해서 수신된 데이터가 JSON 포멧이기 때문에,\n",
    "    # JSON 포멧 데이터를 파싱해서 사전데이터로 만들어 주는 json 라이브러리를 사용\n",
    "    data = json.loads(response_body)\n",
    "    \n",
    "    # json.lodas() 메서드를 사용해서 data에 수신된 데이터를 사전 데이터로 분석해서 자동으로 만들어줌\n",
    "    print(data['items'][0]['title'])\n",
    "    print(data['items'][0]['description'])\n",
    "else:\n",
    "    print(\"Error Code:\" + rescode)\n",
    "    "
   ]
  },
  {
   "cell_type": "markdown",
   "metadata": {},
   "source": [
    "- [참고: 네이버 Open API HTTP 응답 상태 에러 코드 목록1](https://developers.naver.com/docs/common/openapiguide/#/errorcode.md)\n",
    "- [참고: 일반적인 HTTP 응답 상태 코드](http://ooz.co.kr/260) "
   ]
  },
  {
   "cell_type": "code",
   "execution_count": null,
   "metadata": {
    "collapsed": true
   },
   "outputs": [],
   "source": []
  },
  {
   "cell_type": "markdown",
   "metadata": {},
   "source": [
    "Python requests 모듈 간단 정리\n",
    "\n",
    "python에서  HTTP요청을 보내는 모듈인 requests를 간단하게 정리하고 자한다."
   ]
  },
  {
   "cell_type": "code",
   "execution_count": 1,
   "metadata": {},
   "outputs": [
    {
     "name": "stdout",
     "output_type": "stream",
     "text": [
      "<Response [200]>\n"
     ]
    }
   ],
   "source": [
    "# 0. 기본적인 사용방법\n",
    "\n",
    "import requests\n",
    "url = 'http://www.tistory.com'\n",
    "response = requests.get(url)\n",
    "print(response)\n",
    "code_res = response.status_code\n",
    "# print(code_res)\n",
    "text_res = response.text\n",
    "# print(text_res)"
   ]
  },
  {
   "cell_type": "markdown",
   "metadata": {
    "collapsed": true
   },
   "source": [
    "응답 객체인 <font color=\"Red\">res</font>를 통해서 내가 실제로 던진 URL이 뭔지 확인해보았다. 내가 준 URL과 파라미터를 requests 모듈이 엮어서 적절한 새로운 요청을 만든 것이다. 내가 직접 URL을 저렇게 타이핑하는 것보다 파라미터를 딕셔너리 형식으로 정리하고 requests모듈에 던져주는것이 훨씬 좋다고 생각한다."
   ]
  },
  {
   "cell_type": "code",
   "execution_count": null,
   "metadata": {
    "collapsed": true
   },
   "outputs": [],
   "source": []
  },
  {
   "cell_type": "markdown",
   "metadata": {
    "collapsed": true
   },
   "source": [
    "**2. Post 요청할 때 data 전달법**\n",
    "위의 내용과 같다, <font color=\"Red\">params</font> 대신 <font color=\"red\">data</font>라는 이름으로 주면 된다."
   ]
  },
  {
   "cell_type": "code",
   "execution_count": 18,
   "metadata": {
    "collapsed": true
   },
   "outputs": [
    {
     "name": "stdout",
     "output_type": "stream",
     "text": [
      "<!DOCTYPE html>\n",
      "<html lang=\"ko\">\n",
      "<head>\n",
      "\t<meta charset=\"utf-8\">\n",
      "    <meta name=\"viewport\" content=\"user-scalable=no, initial-scale=1.0, maximum-scale=1.0, minimum-scale=1.0, width=device-width\">\n",
      "\t<meta property=\"og:url\" content=\"http://www.tistory.com\">\n",
      "\t<meta property=\"og:site_name\" content=\"TISTORY\">\n",
      "\t<meta property=\"og:title\" content=\"TISTORY\">\n",
      "\t<meta property=\"og:description\" content=\"나를 표현하는 블로그를 만들어보세요.\">\n",
      "\t<meta property=\"og:image\" content=\"//t1.daumcdn.net/cssjs/icon/557567EA016E200001\">\n",
      "\t<title>TISTORY</title>\n",
      "\t<link rel=\"shortcut icon\" href=\"//t1.daumcdn.net/tistory_admin/static/top/favicon.ico\">\n",
      "\t\t\t<link rel=\"stylesheet\" href=\"//s1.daumcdn.net/svc/attach/U0301/cssjs/tistory-web-top/1512354172/static/css/pc/T.p.top.css\">\n",
      "\t\t<link rel=\"apple-touch-icon\" href=\"//i1.daumcdn.net/thumb/C180x180/?fname=http://cfile5.uf.tistory.com/image/241F093D5701E7380371B5\">\n",
      "    <link rel=\"apple-touch-icon\" sizes=\"76x76\" href=\"//i1.daumcdn.net/thumb/C76x76/?fname=http://cfile5.uf.tistory.com/image/214AF9425701E76D0ACB4B\">\n",
      "    <link rel=\"apple-touch-icon\" sizes=\"120x120\" href=\"//i1.daumcdn.net/thumb/C120x120/?fname=http://cfile5.uf.tistory.com/image/241F093D5701E7380371B5\">\n",
      "    <link rel=\"apple-touch-icon\" sizes=\"152x152\" href=\"//i1.daumcdn.net/thumb/C152x152/?fname=http://cfile5.uf.tistory.com/image/241F093D5701E7380371B5\">\n",
      "<link rel=\"stylesheet\" href=\"//s1.daumcdn.net/svc/attach/U0301/cssjs/tistory-web-top/1512354172/static/css/pc/T.p.top.home.css\">\n",
      "<!--[if lt IE 9]>\n",
      "<script src=\"https://t1.daumcdn.net/tistory_admin/lib/jquery-1.12.4.min.js\"></script>\n",
      "<![endif]-->\n",
      "<!--[if gte IE 9]><!-->\n",
      "<script src=\"https://t1.daumcdn.net/tistory_admin/lib/jquery-3.1.0.min.js\"></script>\n",
      "<!--<![endif]-->\n",
      "<script src=\"https://t1.daumcdn.net/tistory_admin/lib/fingerprint2-1.4.2.min.js\"></script>\n",
      "<script type=\"text/javascript\" src=\"//m1.daumcdn.net/svc/original/U03/cssjs/jquery/plugin/jquery.cookie-1.4.0.min.js\"></script>\n",
      "<script type=\"text/javascript\" src=\"//s1.daumcdn.net/svc/original/U03/cssjs/userAgent/userAgent-1.0.14.min.js\"></script>\n",
      "</head>\n",
      "<body class=\"tistory_type1\">\n",
      "\t<div id=\"kakaoIndex\">\n",
      "\t\t\t<a href=\"#kakaoGnb\">메뉴 바로가기</a>\n",
      "\t\t\t<a href=\"#kakaoBody\">본문 바로가기</a>\n",
      "\t</div>\n",
      "\n",
      "\t<div id=\"kakaoWrap\">\n",
      "\t\t<div id=\"kakaoHead\" class=\"#GNB\" role=\"banner\">\n",
      "\t\t\t<div class=\"wrap_head\">\n",
      "\t\t\t\t\t\t\t\t\t<h1>\n",
      "\t\t\t\t\t\t<a href=\"/\" id=\"kakaoServiceLogo\" class=\"img_gnb #logo\"><span class=\"ir_wa\">TISTORY</span></a>\n",
      "\t\t\t\t\t</h1>\n",
      "\t\t\t\t\t<div class=\"notice_new txt_ellip\">\n",
      "\t\t\t\t\t\t<span class=\"img_gnb\"></span>\n",
      "\t\t\t\t\t\t<a href=\"http://notice.tistory.com/2415\" class=\"link_notice\">11월 초대장이 배포되었습니다.</a>\n",
      "\t\t\t\t\t</div>\n",
      "\t\t\t\t\t<a href=\"/auth/login?redirectUrl=http%3A%2F%2Fwww.tistory.com%2F\" class=\"link_login\">로그인</a>\n",
      "\t\t\t\t\t\t\t</div>\n",
      "\t\t</div>\n",
      "\t\t<hr class=\"hide\">\n",
      "\t\t<div id=\"kakaoContent\" role=\"main\" style=\"min-height:1200px\">\n",
      "\t\t\t<div id=\"cSub\">\n",
      "\t\t\t\t<h2 class=\"screen_out\">TISTORY 메뉴</h2>\n",
      "\t\t\t\t<ul class=\"lnb_tistory\">\n",
      "\t\t\t\t\t<li class=\"on\"><a href=\"/\" class=\"link_lnb link_lnb1 #home\"><span class=\"ir_wa\">홈</span></a></li>\n",
      "\t\t\t\t\t<li id=\"communityGnb\" ><a href=\"/community\" class=\"link_lnb link_lnb2 community_sub #community\"><span class=\"ir_wa\">포럼</span></a></li>\n",
      "\t\t\t\t\t<li><a href=\"/skin\" class=\"link_lnb link_lnb3 #skin\"><span class=\"ir_wa\">스킨</span></a></li>\n",
      "\t\t\t\t\t<li><a href=\"/invitation\" class=\"link_lnb link_lnb4\"><span class=\"ir_wa\">초대장</span></a></li>\n",
      "\t\t\t\t\t<li><a href=\"/guide\" class=\"link_lnb link_lnb5\"><span class=\"ir_wa\">가이드</span></a></li>\n",
      "\t\t\t\t\t<li><a href=\"/thankyou/2016\" target=\"_blank\" class=\"link_lnb link_lnb6 #betblogger\"><span class=\"ir_wa\">결산</span></a></li>\n",
      "\t\t\t\t</ul>\n",
      "\n",
      "\t\t\t\t<h2 class=\"screen_out\">검색</h2>\n",
      "\t\t\t\t<div class=\"tistory_sch\">\n",
      "\t\t\t\t\t<form id=\"searchForm\" role=\"search\" method=\"get\" action=\"http://search.daum.net/search\" target=\"_blank\">\n",
      "\t\t\t\t\t\t<fieldset>\n",
      "\t\t\t\t\t\t\t<legend class=\"screen_out\">티스토리 검색어 입력폼</legend>\n",
      "\t\t\t\t\t\t\t<input type=\"hidden\" name=\"w\" value=\"blog\">\n",
      "\t\t\t\t\t\t\t<input type=\"hidden\" name=\"f\" value=\"section\">\n",
      "\t\t\t\t\t\t\t<input type=\"hidden\" name=\"SA\" value=\"tistory\">\n",
      "\t\t\t\t\t\t\t<input type=\"hidden\" name=\"lpp\" value=\"10\">\n",
      "\t\t\t\t\t\t\t<input type=\"hidden\" name=\"nil_profile\" value=\"vsearch\">\n",
      "\t\t\t\t\t\t\t<input type=\"hidden\" name=\"nil_src\" value=\"tistory\">\n",
      "\t\t\t\t\t\t\t<div class=\"box_search\">\n",
      "\t\t\t\t\t\t\t\t<label for=\"searchInp\" class=\"lab_info\">티스토리 검색</label>\n",
      "\t\t\t\t\t\t\t\t<input type=\"text\" id=\"searchInp\" class=\"tf_search\" title=\"검색어 입력\" name=\"q\">\n",
      "\t\t\t\t\t\t\t\t<button type=\"submit\" class=\"btn_search\"><span class=\"ico_comm ico_search\">검색</span></button>\n",
      "\t\t\t\t\t\t\t</div>\n",
      "\t\t\t\t\t\t</fieldset>\n",
      "\t\t\t\t\t</form>\n",
      "\t\t\t\t</div>\n",
      "\t\t\t</div>\n",
      "\t\t\t<div id=\"mArticle\">\n",
      "\n",
      "<h2 id=\"kakaoBody\" class=\"screen_out\">TISTORY 홈 본문</h2>\n",
      "<h3 class=\"screen_out\">프로모션 콘텐츠</h3>\n",
      "<div class=\"promotion_feature\">\n",
      "\t<div class=\"thumb_promotion\">\n",
      "\t\t\t\t\t<div class=\"thumb_promotion_item\">\n",
      "\t\t\t\t\t\t\t\t\t<a href=\"http://asalia.net\" class=\"link_thumb #promotion show\">\n",
      "\t\t\t\t\t\t<img src=\"http://cfile23.uf.tistory.com/image/99AE4C335A0ECCBE19F697\" class=\"img_g\" alt=\"스토리글판 #1 나의 이야기는 너로부터 너의 이야기는 나로부터\" width=\"925\" height=\"400\">\n",
      "\t\t\t\t\t</a>\n",
      "\t\t\t\t\t\t\t\t\t\t\t</div>\n",
      "\t\t\t</div>\n",
      "\t\t<div class=\"wrap_btn\">\n",
      "\t\t<button type=\"button\" class=\"btn_comm btn_prev\">이전</button>\n",
      "\t\t<button type=\"button\" class=\"btn_comm btn_next\">다음</button>\n",
      "\t</div>\n",
      "</div>\n",
      "\n",
      "\n",
      "<ul class=\"tab_theme #theme\">\n",
      "\t<li class=\"fst\">\n",
      "\t\t<a href=\"/category/life\" class=\"link_tab #life\">라이프</a>\n",
      "\t\t<span class=\"ico_comm ico_arrow\"></span>\n",
      "\t</li>\n",
      "\t<li>\n",
      "\t\t<a href=\"/category/travel\" class=\"link_tab #travel\">여행 &middot; 맛집</a>\n",
      "\t\t<span class=\"ico_comm ico_arrow\"></span>\n",
      "\t</li>\n",
      "\t<li>\n",
      "\t\t<a href=\"/category/culture\" class=\"link_tab #culture\">문화 &middot; 연예</a>\n",
      "\t\t<span class=\"ico_comm ico_arrow\"></span>\n",
      "\t</li>\n",
      "\t<li>\n",
      "\t\t<a href=\"/category/it\" class=\"link_tab #it\">IT</a>\n",
      "\t\t<span class=\"ico_comm ico_arrow\"></span>\n",
      "\t</li>\n",
      "\t<li>\n",
      "\t\t<a href=\"/category/sports\" class=\"link_tab #sports\">스포츠</a>\n",
      "\t\t<span class=\"ico_comm ico_arrow\"></span>\n",
      "\t</li>\n",
      "\t<li class=\"on\">\n",
      "\t\t<a href=\"/category/current\" class=\"link_tab #current\">시사</a>\n",
      "\t\t<span class=\"ico_comm ico_arrow\"></span>\n",
      "\t</li>\n",
      "</ul>\n",
      "<div class=\"box_subtheme box_subtheme6\">\n",
      "\t<div class=\"sub_theme #theme\">\n",
      "\t\t<ul class=\"tab_subtheme #current\">\n",
      "\t\t\t<li class=\"on\"><a href=\"/category/current\" class=\"link_tab #total\">전체</a></li>\n",
      "\t\t\t<li><a href=\"/category/current/politics\" class=\"link_tab #politics\">정치</a></li>\n",
      "\t\t\t<li><a href=\"/category/current/society\" class=\"link_tab #society\">사회</a></li>\n",
      "\t\t\t<li><a href=\"/category/current/education\" class=\"link_tab #education\">교육</a></li>\n",
      "\t\t\t<li><a href=\"/category/current/international\" class=\"link_tab #international\">국제</a></li>\n",
      "\t\t\t<li><a href=\"/category/current/economy\" class=\"link_tab #economy\">경제</a></li>\n",
      "\t\t\t<li><a href=\"/category/current/business\" class=\"link_tab #business\">경영·직장</a></li>\n",
      "\t\t</ul>\n",
      "\t</div>\n",
      "</div>\n",
      "<h4 class=\"screen_out\">주제별</h4>\n",
      "<strong class=\"screen_out\">current</strong>\n",
      "<div class=\"sort_theme\">\n",
      "\t<strong class=\"screen_out\">콘텐츠 정렬순서</strong>\n",
      "\t<form id=\"sortingThemeForm\">\n",
      "\t\t<label class=\"ico_comm lab_g\" for=\"sortingRecent\">\n",
      "\t\t\t최신순 <input type=\"radio\" id=\"sortingRecent\" name=\"sorting\" value=\"recent\" class=\"screen_out\">\n",
      "\t\t</label>\n",
      "\t\t<label class=\"ico_comm lab_g lab_choiced lst\" for=\"sortingLike\">\n",
      "\t\t\t인기순 <input type=\"radio\" id=\"sortingLike\" name=\"sorting\" value=\"like\" class=\"screen_out\" checked=\"checked\">\n",
      "\t\t</label>\n",
      "\t</form>\n",
      "</div>\n",
      "<div class=\"tistory_recomm #article\">\n",
      "\t<ul id=\"categoryPostWrap\" class=\"wrap_recomm #current\">\n",
      "\t\t</ul>\n",
      "</div>\n",
      "\t<input id=\"categoryName\" type=\"hidden\" value=\"current\">\n",
      "\t<div class=\"recomm_more\">\n",
      "\t\t<a class=\"btn_more\" id=\"categoryMoreViewButton\">\n",
      "\t\t\t<div id=\"morePost\" class=\"more_comm\" style=\"display: none;\">\n",
      "\t\t\t\t<img data-lastpublishedval=\"0\" id=\"categoryMoreViewIco\" src=\"//t1.daumcdn.net/tistory_admin/static/top/img_loading.gif\" class=\"thumb_img\" alt=\"로딩중\" width=\"26px\" height=\"26px\">\n",
      "\t\t\t</div>\n",
      "\t\t\t<span class=\"txt_recomm\">\n",
      "\t\t\t\t<button type=\"button\" style=\"float: left\">\n",
      "\t\t\t\t\t<span class=\"txt_more\">더보기</span>\n",
      "\t\t\t\t</button>\n",
      "\t\t\t\t<span class=\"ico_comm\"></span>\n",
      "\t\t\t</span>\n",
      "\t\t</a>\n",
      "\t</div>\n",
      "\t<div id=\"morePost\" class=\"more_comm\">\n",
      "\t\t<button type=\"button\" class=\"btn_comm btn_top\" style=\"display: inline-block;\">맨위로</button>\n",
      "\t</div>\n",
      "\n",
      "<script src=\"//s1.daumcdn.net/svc/attach/U0301/cssjs/tistory-web-top/1512354172/static/js/T.js\"></script>\n",
      "<script src=\"//s1.daumcdn.net/svc/attach/U0301/cssjs/tistory-web-top/1512354172/static/js/T.util.js\"></script>\n",
      "<script src=\"//s1.daumcdn.net/svc/attach/U0301/cssjs/tistory-web-top/1512354172/static/js/pc/T.p.top.js\"></script>\n",
      "\n",
      "\t<script type=\"text/javascript\">\n",
      "\t//<![CDATA[\n",
      "\tvar _tiq = 'undefined' !== typeof _tiq ? _tiq : [];\n",
      "\n",
      "\t_tiq.push(['__setSection', 'TOP']);\n",
      "\t_tiq.push(['__setParam', 'puid', 1512375113214]);\n",
      "\t_tiq.push(['__setParam', 'svcdomain', 'www.tistory.com']);\n",
      "\t_tiq.push(['__trackPageview', {\n",
      "\t\tsvcdomain: 'www.tistory.com',\n",
      "\t\ttitle: document.title,\n",
      "\t\tcategory: 'current',\n",
      "\t\tparam2: 't'\n",
      "\t}]);\n",
      "\t_tiq.push(['__clickOn']);\n",
      "\n",
      "\t(function(d) {\n",
      "\t\tvar se = d.createElement('script'); se.type = 'text/javascript'; se.async = true;\n",
      "\t\tse.src = '//m1.daumcdn.net/tiara/js/td.min.js?v=5206';\n",
      "\t\tvar s = d.getElementsByTagName('script')[0]; s.parentNode.insertBefore(se, s);\n",
      "\t})(document);\n",
      "\t//]]>\n",
      "</script><script src=\"https://t1.daumcdn.net/tistory_admin/lib/handlebars-4.0.5.runtime.min.js\"></script>\n",
      "<script src=\"//s1.daumcdn.net/svc/attach/U0301/cssjs/tistory-web-top/1512354172/static/js/pc/T.category.min.js\"></script>\n",
      "<script type=\"text/javascript\">\n",
      "\tvar appInfo = {};\n",
      "\tappInfo.domain = 'tistory.com';\n",
      "\tappInfo.topUrl = '';\n",
      "\tappInfo.loginUrl = 'https://www.tistory.com/auth/login';\n",
      "</script>\n",
      "\n",
      "<script type=\"text/javascript\">\n",
      "\tvar initData = {};\n",
      "\tinitData.notices = [{\"title\":\"11월 초대장이 배포되었습니다.\",\"url\":\"http://notice.tistory.com/2415\"}];\n",
      "\tvar production = true;\n",
      "</script>\n",
      "\n",
      "\t<script src=\"//s1.daumcdn.net/svc/attach/U0301/cssjs/tistory-web-top/1512354172/static/js/pc/T.gnb.min.js\"></script>\n",
      "\n",
      "\n",
      "\n",
      "</div><!--// mArticle -->\n",
      "\t</div>\n",
      "\t<!-- // daumContent -->\n",
      "\t<hr class=\"hide\">\n",
      "\n",
      "\t<div id=\"kakaoFoot\" class=\"footer_tistory\" role=\"contentinfo\">\n",
      "\t<div class=\"inner_footer\"> \n",
      "\t\t<h2 class=\"screen_out\">서비스 이용정보</h2>\n",
      "\t\t<div class=\"info_service\">\n",
      "\t\t\t<a href=\"/info/openApi\" class=\"link_info\">오픈 API</a><span class=\"txt_bar\">|</span><a href=\"/info/contract\" class=\"link_info\">이용약관</a><span class=\"txt_bar\">|</span><a href=\"/info/privacy\" class=\"link_info fw_b\">개인정보처리방침</a><span class=\"txt_bar\">|</span><a href=\"http://www.daum.net/doc/youthpolicy.html\" target=\"_blank\" class=\"link_info\">청소년보호정책</a><span class=\"txt_bar\">|</span><a href=\"https://cs.daum.net/redbell/top.html\" target=\"_blank\" class=\"link_info\">권리침해신고</a><span class=\"txt_bar\">|</span><a href=\"http://cs.daum.net/faq/173.html\" target=\"_blank\" class=\"link_info\">고객센터</a><span class=\"txt_bar\">|</span><a href=\"http://www.kakao.com/conflict\" target=\"_blank\" class=\"link_info\">상거래 피해구제신청</a><span class=\"txt_bar\">|</span><a href=\"/info/emailPolicy\" class=\"link_info\">E-mail수집거부정책</a>\n",
      "\t\t</div>\n",
      "\t\t<address class=\"txt_copyright\">Copyright &copy; <a href=\"http://www.kakaocorp.com/\" class=\"link_daum\">Kakao Corp.</a> All rights reserved.</address>\n",
      "\t</div>\n",
      "</div>\t<!-- // daumFoot -->\n",
      "</div>\n",
      "</body>\n",
      "</html>\n",
      "\n"
     ]
    }
   ],
   "source": [
    "data = {'param1': 'value1', 'param2':'value2'}\n",
    "res = requests.post(url, data=data)\n",
    "print(res.text)"
   ]
  },
  {
   "cell_type": "markdown",
   "metadata": {
    "collapsed": true
   },
   "source": [
    "조금 더 복잡한 구조로 POST요청을 해야할 때가 있다. 이럴 때는 위의 방법처럼 순진하게 주면 안된다. 우리가 인지하고 있는 그 딕셔너리의 구조를 유지하면서 문자열로 바꿔서 전달해줘야 하는데, python에서 이 노동을 해주는 것이 json모듈이다."
   ]
  },
  {
   "cell_type": "code",
   "execution_count": 21,
   "metadata": {},
   "outputs": [
    {
     "data": {
      "text/plain": [
       "<Response [200]>"
      ]
     },
     "execution_count": 21,
     "metadata": {},
     "output_type": "execute_result"
    }
   ],
   "source": [
    "import requests, json\n",
    "\n",
    "data = {'outer' : {'inner' : 'value'}}\n",
    "res = requests.post(url, data=json.dumps(data))\n",
    "res"
   ]
  },
  {
   "cell_type": "code",
   "execution_count": null,
   "metadata": {
    "collapsed": true
   },
   "outputs": [],
   "source": []
  },
  {
   "cell_type": "markdown",
   "metadata": {},
   "source": [
    "**3. 헤더 추가, 쿠키 추가**\n",
    "  - 별도의 헤더 옵션을 추가하고자 할 때는 <font color=\"red\">headers</font> 옵션을, 쿠키를 심어서 요청을 보내고 싶으면 <font color=\"red\">cookies</font> 옵션을 사용하면 된다."
   ]
  },
  {
   "cell_type": "code",
   "execution_count": 25,
   "metadata": {
    "collapsed": true
   },
   "outputs": [],
   "source": [
    "headers = {'Content-Type': 'application/json; charset=utf-8'}\n",
    "cookies = {'session_id': 'sorryidontcare'}\n",
    "res = requests.get(url, headers=headers, cookies=cookies)"
   ]
  },
  {
   "cell_type": "code",
   "execution_count": null,
   "metadata": {
    "collapsed": true
   },
   "outputs": [],
   "source": [
    "res.request # 내가 보낸 request 객체에 접근가능\n",
    "res.status_code # 응답코드\n",
    "res.raise_for_status() # 200 OK 코드가 아닌 경우 에러 발동\n",
    "res.json() # json response일 경우 딕셔니리 타입으로 바로 변환."
   ]
  },
  {
   "cell_type": "markdown",
   "metadata": {},
   "source": [
    "resqust 공식 문서\n",
    "http://docs.python-requests.org/en/master/user/quickstart/"
   ]
  },
  {
   "cell_type": "code",
   "execution_count": null,
   "metadata": {
    "collapsed": true
   },
   "outputs": [],
   "source": []
  },
  {
   "cell_type": "markdown",
   "metadata": {},
   "source": [
    "**3.2.1.2. requests 라이브러리를 활용한 크롤링 코드(간결함, 권장)**\n",
    "  - [참고: 기본적인 requests 라이브러리 활용 방법](http://dgkim5360.tistory.com/entry/python-requests)\n",
    "  <br>\n",
    "  <br>\n",
    "  - request 라이브러리 개발자 keneeth Reitz의 커멘트\n",
    "  > 파이썬 표준 urllib2 모듈은 필요한 HTTP 기능을 거의 제공하지만, \n",
    "  이제 너무 뒤떨어져 있습니다. \n",
    "  이 API는 과거에, 과거의 웹을 위해 만들어 졌습니다.\n",
    "  urllib2를 사용하려면 정말 단순한 일 하나만 하려해도 할 일이 너무 많고, \n",
    "  심지어 메서드 오버라이드 까지 필요할 때도 있습니다."
   ]
  },
  {
   "cell_type": "code",
   "execution_count": 30,
   "metadata": {},
   "outputs": [
    {
     "name": "stdout",
     "output_type": "stream",
     "text": [
      "감정원, ‘적극행정 우수사례 경진대회’ 인사혁신처장 표창 수상\n",
      "현재 한국감정원이 안정적으로 운영중인 ‘부동산거래 전자계약시스템’을 통해 종이가 아닌 태블릿PC, <b>스마트폰</b> 등의 전자기기로 온라인 부동산계약이 이뤄져 실거래 확정일자 자동신고, 계약서 안전 보관 등... \n"
     ]
    }
   ],
   "source": [
    "import requests\n",
    "\n",
    "client_id = ''\n",
    "client_key = ''\n",
    "\n",
    "# 별도 quote_plus() 메서등을 처리할 필요 없음. requests 객체가 알아서 해줌\n",
    "naver_url = 'https://openapi.naver.com/v1/search/news.json?query=스마트폰'\n",
    "\n",
    "header_params = {\"X-Naver-Client-Id\":client_id, \"X-Naver-Client-Secret\":client_key}\n",
    "\n",
    "# headers = header_params는 header 변경시에만 필요하고, 그렇지 않으면 requests.get(원하는 URL) 만 해도 됨\n",
    "response = requests.get(naver_url, headers = header_params)\n",
    "\n",
    "#별도 json.loads() 라이브러리 메서드를 사용하지 않아도, requests 라이브러리에 있는 json()메서드로 간단히 처리 가능함\n",
    "# print(response.json())\n",
    "# print(response.text)\n",
    "\n",
    "#HTTP 응답 코드는 status_code에 저장됨\n",
    "if(response.status_code == 200):\n",
    "    data = response.json()\n",
    "    print(data['items'][0]['title'])\n",
    "    print(data['items'][0]['description'])\n",
    "else:\n",
    "    print(\"Error Code: \" + response.status_code)"
   ]
  },
  {
   "cell_type": "code",
   "execution_count": null,
   "metadata": {
    "collapsed": true
   },
   "outputs": [],
   "source": []
  },
  {
   "cell_type": "markdown",
   "metadata": {
    "collapsed": true
   },
   "source": [
    "**<font color=\"Green\" size=\"4em\">연습문제2</font>**\n",
    " 1. 네이버 개발자 사이트 가입하고, X-Naver-Client-Id, X-Naver-Client-Secret 키 값을 할당받습니다.\n",
    " 2. 위 두 가지 키로 네이버 검색 Open API를 사용해서 부동산 키워드로 검색 결과 중 상위 10개의 타이틀을 출력합니다.\n",
    "    (참고코드는 3.2.1.1 절, 3.2.1.2 절을 보시면 되고, 해당 코드에서 일부만 수정하시면 됩니다.)\n",
    "    \n",
    "     - [네이버 개발자 사이트](https://developers.naver.com/main/)\n",
    "     - [블로그 검색 가이드 문서](https://developers.naver.com/docs/search/blog/)\n",
    "     - 네이버 Open API 이용신청 [참고](http://hnark.tistory.com/135)"
   ]
  },
  {
   "cell_type": "code",
   "execution_count": 33,
   "metadata": {},
   "outputs": [
    {
     "name": "stdout",
     "output_type": "stream",
     "text": [
      "0 외국인 보유 토지 증가폭 둔화\n",
      "1 한투증권, 부산·하남 투자 <b>부동산</b>펀드 6일까지 판매\n",
      "2 [에경|분양핫클릭] 광명뉴타운 10년만의 새 아파트…GS건설·두산건설 '광명 ...\n",
      "3 '더 내놔라' 그린벨트 해제지역, 벌써부터 '진통'\n",
      "4 KTB證 경영권 분쟁에도 '김승유 그림자'\n",
      "5 왜 한국에는 100년 된 상점이 없을까: 상업 젠트리피케이션 문제를 중심으로\n",
      "6 [매경포럼] 이번 생에 암호화폐는 처음이라\n",
      "7 교통·학군·행정 갖춘 '보령 명천 시티프라디움' 분양 중\n",
      "8 청년우대 청약통장, 10년 모아도 소형 계약금 수준\n",
      "9 한파 맞은 건설경기… 3개월만에 하락, 이달 전망도 ‘흐림’\n"
     ]
    }
   ],
   "source": [
    "import requests\n",
    "\n",
    "client_id = ''\n",
    "client_key = ''\n",
    "\n",
    "naver_url = 'https://openapi.naver.com/v1/search/news.json?query=부동산'\n",
    "header_params = {\"X-Naver-Client-Id\":client_id, \"X-Naver-Client-Secret\":client_key}\n",
    "response = requests.get(naver_url, headers = header_params)\n",
    "\n",
    "\n",
    "count = 0\n",
    "\n",
    "if(response.status_code == 200):\n",
    "    data = response.json()\n",
    "    while count < 10:\n",
    "        print(count, data['items'][count]['title'])\n",
    "        count += 1\n",
    "else:\n",
    "    print(\"Error Code: \" + response.status_code)"
   ]
  },
  {
   "cell_type": "code",
   "execution_count": null,
   "metadata": {
    "collapsed": true
   },
   "outputs": [],
   "source": []
  },
  {
   "cell_type": "markdown",
   "metadata": {
    "collapsed": true
   },
   "source": [
    "### - 참고 CSS란? (HTML과 CSS의 차이)\n",
    "   - CSS는 Cascading Style Sheets 약자로, <br><br>\n",
    "   HTML, XHTML, XML 같은 문서의 스타일을 꾸밀 때 사용하는 시트 언어 입니다.<br><br>\n",
    "   HTML로 문서의 뼈대를 만들면<br><br>\n",
    "   CSS는 이 문서의 화장을 맡고 있는 셈인데요.<br><br>\n",
    "   글꼴이나, 배경색 너비와 높이, 위치등을 지정하거나,<br><br>\n",
    "   웹 브라우저, 스크린 크기, 장치에 따라서 화면을 다르게 표시될 수 있도록 지정할 수도 있습니다.\n",
    "   \n",
    "   <br><br><br><br>\n",
    "   \n",
    "   CSS는 1996년 12월 W3C(웹 문서 표준을 만드는 기관)이 도입했는데 <br><br>\n",
    "   그전엔 HTML언어 하나로 문서의 뼈대도 만들고, 꾸밈도 같이 했습니다.<br><br>\n",
    "   그러다 보니 HTML 문서를 수정할 떄 모든 문서를 하나씩 수정해야 하는 번거로움이 있었습니다.<br><br>\n",
    "   CSS는 문서의 내용(content)과 표현(presentation)을 분리하여<br><br>\n",
    "   CSS파일 <font color=\"RED\">**하나**</font>만 수정하면 스타일에 해당하는 HTML문서가 <font color=\"red\">**한번**</font>에 수정되는 엄청난 장점이 있습니다."
   ]
  },
  {
   "cell_type": "markdown",
   "metadata": {
    "collapsed": true
   },
   "source": [
    "**[스타일을 꾸미는 법]**\n",
    "<br><br>\n",
    "스타일을 꾸는 방법은 세가지가 있는데요,\n",
    "<br><br>\n",
    "1. 속성처럼 style 적용\n",
    "2. style tag를 사용\n",
    "3. CSS파일을 별도로 만들어 HTML 문서에 연결\n",
    "<br><br>\n",
    "이중 여러 문서를 수정하기엔 2,3번이 좋으며, 그중에서도 3번으로 작성하는 것이 제일 좋다.\n",
    "\n",
    "    1. HTML 문서 안에 style속성을 사용함(IN-LINE)\n",
    "    <br><br>\n",
    "    ```\n",
    "    <html>\n",
    "        <head>\n",
    "            <title>안녕하세요</title>\n",
    "        </head>\n",
    "        \n",
    "        <body>\n",
    "            <h1 style=\"color:blue; text-align:center;\"> CSS 첫강좌 </h1>\n",
    "        </body>\n",
    "    </html>\n",
    "    ```\n",
    "    <br><br>\n",
    "    2. style태그를 사용함 (Internal)<br><br>\n",
    "    ```\n",
    "    <html>\n",
    "        <head>\n",
    "            <title>안녕하세요</title>\n",
    "            <style type = \"text/css\">\n",
    "                h1{\n",
    "                color : blue;\n",
    "                text-align:enter;\n",
    "                }\n",
    "            </style>            \n",
    "        </head>\n",
    "        \n",
    "        <body>\n",
    "            <h1> CSS 첫강좌 </h1>\n",
    "        </body>\n",
    "    </html>    \n",
    "    ```\n",
    "    <br><br>\n",
    "    3. CSS파일을 별도로 만들어, HTML문서에 연결 시킴(External)\n",
    "    <br><br>\n",
    "        ㉠. 확장자 .css로 저장(예: test.css)\n",
    "        ```\n",
    "        h1{\n",
    "        color : blue;\n",
    "        text-align:center;\n",
    "        }\n",
    "        ```\n",
    "        <br><br>\n",
    "        ㉡. 확장자 .htm(.html?)으로 저장(예:main.htm)\n",
    "        ```\n",
    "        <html>\n",
    "            <head>\n",
    "                <title>안녕하세요</title>\n",
    "                <link rel=\"stylesheet\" style type = \"text/css\" href = \"test.css/>\n",
    "            </head>\n",
    "        \n",
    "            <body>\n",
    "                <h1> CSS 첫강좌 </h1>\n",
    "            </body>\n",
    "        </html>\n",
    "        ```"
   ]
  },
  {
   "cell_type": "markdown",
   "metadata": {
    "collapsed": true
   },
   "source": [
    "[CSS 작성법]\n",
    "<br><br>\n",
    "css 작성법은 다음과 같다.\n",
    "<br><br>\n",
    "selector { property : value; }<br>\n",
    "선택자   {   속성   : 속성값; }\n",
    "<br><br>\n",
    "\n",
    "예문:\n",
    "```\n",
    "h1{\n",
    "color : blue;\n",
    "text-align:center;\n",
    "}\n",
    "```"
   ]
  },
  {
   "cell_type": "markdown",
   "metadata": {
    "collapsed": true
   },
   "source": [
    "html 작성 방법과 다르다는 점 유의해주세요!<br>\n",
    "열고 닫기는 { } 를 사용하며<br>\n",
    "하나의 속성값이 끝날때마다 세미콜론 ; 을 쓴다.<br><br>\n",
    "\n",
    "중괄호를 연 후 태그를 밑에 쓰는 것은, 코드 작성 시 오류를 줄이기 위해서 이다.<br>\n",
    "아래처럼 작성해도 틀린것은 아님\n",
    "```\n",
    "h1{ color:blue; text-align:center; }\n",
    "```\n"
   ]
  },
  {
   "cell_type": "code",
   "execution_count": null,
   "metadata": {
    "collapsed": true
   },
   "outputs": [],
   "source": []
  },
  {
   "cell_type": "markdown",
   "metadata": {},
   "source": [
    "### CSS 선택 문법 참고 내용\n",
    "\n",
    "A CSS Selector is a combination of an element selector and a value which identifies the web element within a web page. \n"
   ]
  },
  {
   "cell_type": "code",
   "execution_count": null,
   "metadata": {
    "collapsed": true
   },
   "outputs": [],
   "source": []
  },
  {
   "cell_type": "code",
   "execution_count": null,
   "metadata": {
    "collapsed": true
   },
   "outputs": [],
   "source": []
  },
  {
   "cell_type": "markdown",
   "metadata": {
    "collapsed": true
   },
   "source": [
    "** css select **\n",
    "  - CSS 선택 문법을 이용하여 태그 검색\n",
    "  - select 함수 사용\n",
    "  - [CSS 선택 문법 참고](https://saucelabs.com/resources/articles/selenium-tips-css-selectors)"
   ]
  },
  {
   "cell_type": "code",
   "execution_count": 3,
   "metadata": {
    "collapsed": true
   },
   "outputs": [],
   "source": [
    "import requests\n",
    "from bs4 import BeautifulSoup\n",
    "\n",
    "res = requests.get('http://v.media.daum.net/v/20170615203441266')\n",
    "soup = BeautifulSoup(res.content, 'html.parser')"
   ]
  },
  {
   "cell_type": "code",
   "execution_count": 5,
   "metadata": {},
   "outputs": [
    {
     "name": "stdout",
     "output_type": "stream",
     "text": [
      "<title>잔금대출에도 DTI 규제 적용 검토 | Daum 뉴스</title>\n",
      "잔금대출에도 DTI 규제 적용 검토 | Daum 뉴스\n"
     ]
    }
   ],
   "source": [
    "# 태그 검색\n",
    "soup.find('title')\n",
    "\n",
    "# select 함수는 리스트 형태로 전체 반환\n",
    "title = soup.select('title')[0]\n",
    "print(title)\n",
    "print(title.get_text())"
   ]
  },
  {
   "cell_type": "code",
   "execution_count": 6,
   "metadata": {},
   "outputs": [
    {
     "name": "stdout",
     "output_type": "stream",
     "text": [
      "잔금대출에도 DTI 규제 적용 검토 | Daum 뉴스\n"
     ]
    }
   ],
   "source": [
    "# 띄어쓰기가 있다면 하위 태그를 검색\n",
    "title = soup.select('html head title')[0]\n",
    "print(title.get_text())"
   ]
  },
  {
   "cell_type": "code",
   "execution_count": 7,
   "metadata": {},
   "outputs": [
    {
     "name": "stdout",
     "output_type": "stream",
     "text": [
      "잔금대출에도 DTI 규제 적용 검토 | Daum 뉴스\n"
     ]
    }
   ],
   "source": [
    "# 띄어쓰기 하위태그를 검색 할때 직계의 자식이 아니여도 상관없음\n",
    "title = soup.select('html title')[0]\n",
    "print(title.get_text())"
   ]
  },
  {
   "cell_type": "code",
   "execution_count": 8,
   "metadata": {
    "collapsed": true
   },
   "outputs": [
    {
     "ename": "IndexError",
     "evalue": "list index out of range",
     "output_type": "error",
     "traceback": [
      "\u001b[1;31m---------------------------------------------------------------------------\u001b[0m",
      "\u001b[1;31mIndexError\u001b[0m                                Traceback (most recent call last)",
      "\u001b[1;32m<ipython-input-8-383d70eb542a>\u001b[0m in \u001b[0;36m<module>\u001b[1;34m()\u001b[0m\n\u001b[0;32m      1\u001b[0m \u001b[1;31m# > 를 사용하는 경우 바로 아래의 자식만 검색\u001b[0m\u001b[1;33m\u001b[0m\u001b[1;33m\u001b[0m\u001b[0m\n\u001b[0;32m      2\u001b[0m \u001b[1;31m# 바로 아래 자식이 아니기 떄문에 에러 발생\u001b[0m\u001b[1;33m\u001b[0m\u001b[1;33m\u001b[0m\u001b[0m\n\u001b[1;32m----> 3\u001b[1;33m \u001b[0mtitle\u001b[0m \u001b[1;33m=\u001b[0m \u001b[0msoup\u001b[0m\u001b[1;33m.\u001b[0m\u001b[0mselect\u001b[0m\u001b[1;33m(\u001b[0m\u001b[1;34m'html > title'\u001b[0m\u001b[1;33m)\u001b[0m\u001b[1;33m[\u001b[0m\u001b[1;36m0\u001b[0m\u001b[1;33m]\u001b[0m\u001b[1;33m\u001b[0m\u001b[0m\n\u001b[0m\u001b[0;32m      4\u001b[0m \u001b[0mprint\u001b[0m\u001b[1;33m(\u001b[0m\u001b[0mtitle\u001b[0m\u001b[1;33m.\u001b[0m\u001b[0mget_text\u001b[0m\u001b[1;33m(\u001b[0m\u001b[1;33m)\u001b[0m\u001b[1;33m)\u001b[0m\u001b[1;33m\u001b[0m\u001b[0m\n",
      "\u001b[1;31mIndexError\u001b[0m: list index out of range"
     ]
    }
   ],
   "source": [
    "# > 를 사용하는 경우 바로 아래의 자식만 검색\n",
    "# 바로 아래 자식이 아니기 떄문에 에러 발생\n",
    "title = soup.select('html > title')[0]\n",
    "print(title.get_text())"
   ]
  },
  {
   "cell_type": "code",
   "execution_count": 9,
   "metadata": {},
   "outputs": [
    {
     "name": "stdout",
     "output_type": "stream",
     "text": [
      "잔금대출에도 DTI 규제 적용 검토 | Daum 뉴스\n"
     ]
    }
   ],
   "source": [
    "# 바로 아래 자식을 검색\n",
    "title = soup.select('head > title')[0]\n",
    "print(title.get_text())"
   ]
  },
  {
   "cell_type": "code",
   "execution_count": 11,
   "metadata": {
    "collapsed": true
   },
   "outputs": [
    {
     "name": "stdout",
     "output_type": "stream",
     "text": [
      "<class 'bs4.element.Tag'> 3\n",
      "내주 부동산 종합대책 발표\n",
      "집값 상승 노린 투기 분양 차단\n",
      "LTVㆍDTI 규제 다시 강화할 듯\n",
      "저소득 실수요자 피해 우려도\n",
      "\n",
      "금융당국이 급증하는 가계부채 증가세를 막기 위해 아파트 잔금대출에도 소득을 따져 대출한도를 정하는 총부채상환비율(DTI)을 적용하는 방안을 유력하게 검토하고 있다. 지금은 집값을 기준으로 대출한도를 매기는 주택담보인정비율(LTV) 규제만 적용돼 소득이 없어도 집값의 70%를 빌려 잔금을 치르는 게 가능하다. 앞으로 잔금대출에 DTI가 적용되면 소득 없는 사람이 입주 뒤 집값 상승을 노리고 분양시장에 뛰어드는 게 사실상 불가능해진다. \n",
      "금융당국 고위관계자는 15일 “잔금대출에도 DTI를 적용하는 방안을 검토 중”이라며 “다만 아직 최종 결론이 난 건 아니다”고 말했다. 정부는 내주 이 같은 내용을 포함한 부동산 종합 대책을 발표할 예정이다. \n",
      "정부가 잔금대출 DTI 적용 카드를 꺼내는 건, 집단대출을 잡지 않고선 과열된 주택시장을 진정시키기 어렵다는 판단에서다. 실제 정부는 지난해 잔금대출도 대출 초기부터 원리금을 함께 갚도록 하는 여신심사 가이드라인을 도입했지만 이렇다 할 효과를 거두지 못했다. 오히려 정부 대책에도 불구, 집단대출 증가액은 매달 늘어나는 추세인데 지난달엔 2조원으로 올 들어 최고치를 기록했다. \n",
      "아파트 분양 집단대출은 중도금과 잔금대출로 구분된다. 계약금 10%를 내면 입주 전까지 집값의 60%를 중도금 대출로 받을 수 있다. 중도금 대출은 건설사 보증으로 이뤄져 소득심사를 안 거친다. 잔금대출은 건설사가 아닌 집을 담보로 이뤄지는 대출이다. LTV 규제만 적용돼 소득이 없어도 집값의 70%까지 대출이 가능하다. 때문에 지금은 잔금대출로 집값의 70%를 대출받아 기존 중도금 대출을 갚고 나머지 20%만 본인 돈으로 충당하면 집을 살 수 있다.\n",
      "앞으로 잔금대출에 DTI가 적용되면 소득이 없는 사람은 집값의 70% 대출 받는 게 어려워진다. 입주 뒤 집값 상승을 노리는 투기수요를 확실히 걸러낼 초강력 대책이 될 수 있다. 하지만 부작용도 우려된다. 소득이 낮은 사회초년생 등은 청약통장을 갖고도 분양시장에 진입하는 게 어려워지기 때문이다. \n",
      "이에 따라 잔금대출에 DTI를 적용하는 것 역시 지역 등에 따라 선별적으로 이뤄질 가능성이 높다. 현재 당국은 신규 분양 물량부터 규제를 적용할지 아니면 기존 분양 물량까지 규제 범위를 확대할지를 놓고 시뮬레이션을 하고 있다. \n",
      "아울러 당국은 지난 2년간 완화됐던 LTV와 DTI를 다시 강화할 것으로 보인다. 현재 LTV(은행 기준)는 기존 50~60%에서 70%, DTI는 50~60%에서 60%로 완화돼 있는 상태다. 당국은 일괄적인 조이기보다 지역ㆍ집값 수준별로 기준을 다르게 적용하는 방식을 모색할 것으로 보인다.\n",
      "김동욱 기자 kdw1280@hankookilbo.com\n"
     ]
    }
   ],
   "source": [
    "# .은 태그의 클래스를 검색\n",
    "# class가 article_view인 태그 탐색\n",
    "body = soup.select('.article_view')[0]\n",
    "print(type(body), len(body))\n",
    "for p in body.find_all('p'):\n",
    "    print(p.get_text())\n"
   ]
  },
  {
   "cell_type": "code",
   "execution_count": 13,
   "metadata": {},
   "outputs": [
    {
     "name": "stdout",
     "output_type": "stream",
     "text": [
      "<class 'bs4.element.Tag'> 3\n"
     ]
    }
   ],
   "source": [
    "# div 태그 중 class가 article_view인 태그 탐색\n",
    "body = soup.select('div.article_view')[0]\n",
    "print(type(body), len(body))\n",
    "for p in body.find_all('p'):\n",
    "    pass"
   ]
  }
 ],
 "metadata": {
  "kernelspec": {
   "display_name": "Python 3",
   "language": "python",
   "name": "python3"
  },
  "language_info": {
   "codemirror_mode": {
    "name": "ipython",
    "version": 3
   },
   "file_extension": ".py",
   "mimetype": "text/x-python",
   "name": "python",
   "nbconvert_exporter": "python",
   "pygments_lexer": "ipython3",
   "version": "3.5.3"
  }
 },
 "nbformat": 4,
 "nbformat_minor": 2
}
